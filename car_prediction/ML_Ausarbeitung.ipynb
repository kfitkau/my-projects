{
  "cells": [
    {
      "cell_type": "markdown",
      "metadata": {
        "id": "C8kODY2ZP1lv"
      },
      "source": [
        "<p>Fachhochschule Südwestfalen</p>\n",
        "<p>Semesterabschließende schriftliche Ausarbeitung im Modul Machine Learning (SS2023)</p>\n",
        "<p>Preisvorhersage von Gebrauchtwagen</p>\n",
        "<p>Bearbeitet von Kevin Fitkau</p>\n",
        "<p>31.07.2023</p>"
      ]
    },
    {
      "cell_type": "markdown",
      "metadata": {
        "id": "nO_3HAHtRMeN",
        "jp-MarkdownHeadingCollapsed": true
      },
      "source": [
        "# Inhaltsverzeichnis"
      ]
    },
    {
      "cell_type": "markdown",
      "metadata": {
        "id": "zpmlnzqKML-a"
      },
      "source": [
        "**[1. Einleitung](#1.-Einleitung)**\n",
        "<br>\n",
        "**[2. Vorbereitung](#2.-Vorbereitung)**\n",
        "<br>\n",
        "**[3. Umsetzung](#3.-Umsetzung)**\n",
        "<br>\n",
        "**[3.1 Informationen über die Datensätze holen](#3.1-Informationen-über-die-Datensätze-holen)**\n",
        "<br>\n",
        "**[3.2 Kategoriale Merkmale umwandeln](##3.2-Kategoriale-Merkmale-umwandeln)**\n",
        "<br>\n",
        "**[3.3 Daten Visualisieren und mit Statistischen Kennwerten beschreiben](##3.3-Daten-Visualisieren-und-mit-Statistischen-Kennwerten-beschreiben)**\n",
        "<br>\n",
        "**[3.4 Daten selektieren und aufbereiten](##3.4-Daten-selektieren-und-aufbereiten)**\n",
        "<br>\n",
        "**[3.5 Lineare Regression](##3.5-Lineare-Regression)**\n",
        "<br>\n",
        "**[3.6 Random Forest](##3.6-Random-Forest)**\n",
        "<br>\n",
        "**[3.7 DecisionTreeRegressor](##3.7-DecisionTreeRegressor)**\n",
        "<br>\n",
        "**[3.8 Support Vector Regressor](##3.8-Support-Vector-Regressor)**\n",
        "<br>\n",
        "**[3.9 KNN Regressor](##3.9-KNN-Regressor)**\n",
        "<br>\n",
        "**[4. Hyperparameter Tuning](#4.-Hyperparameter-Tuning)**\n",
        "<br>\n",
        "**[4.1 GridSearch](##4.1-GridSearch)**\n",
        "<br>\n",
        "**[4.1.1 LinearRegression](###4.1.1-LinearRegression)**\n",
        "<br>\n",
        "**[4.1.2 Random Forest](###4.1.2-Random-Forest)**\n",
        "<br>\n",
        "**[4.1.3 DecisionTreeRegressor](###4.1.3-DecisionTreeRegressor)**\n",
        "<br>\n",
        "**[4.1.4 Support Vector Regressor](###4.1.4-Support-Vector-Regressor)**\n",
        "<br>\n",
        "**[4.1.5 KNN Regressor](###4.1.5-KNN-Regressor)**\n",
        "<br>\n",
        "**[4.2 Random Search](##4.2-Random-Search)**\n",
        "<br>\n",
        "**[4.2.1 LinearRegression](###4.2.1-LinearRegression)**\n",
        "<br>\n",
        "**[4.2.2 Random Forest](###4.2.2-Random-Forest)**\n",
        "<br>\n",
        "**[4.2.3 DecisionTreeRegressor](###4.2.3-DecisionTreeRegressor)**\n",
        "<br>\n",
        "**[4.2.4 Support Vector Regressor](###4.2.4-Support-Vector-Regressor)**\n",
        "<br>\n",
        "**[4.2.5 KNN Regressor](###4.2.5-KNN-Regressor)**\n",
        "<br>\n",
        "**[4.3 Bayesian optimization](##4.3-Bayesian-optimization)**\n",
        "<br>\n",
        "**[4.3.1 LinearRegression](###4.3.1-LinearRegression)**\n",
        "<br>\n",
        "**[4.3.2 Random Forest](###4.3.2-Random-Forest)**\n",
        "<br>\n",
        "**[4.3.3 DecisionTreeRegressor](###4.3.3-DecisionTreeRegressor)**\n",
        "<br>\n",
        "**[4.3.4 Support Vector Regressor](###4.3.4-Support-Vector-Regressor)**\n",
        "<br>\n",
        "**[4.3.5 KNN Regressor](###4.3.5-KNN-Regressor)**\n",
        "<br>\n",
        "**[5. Ergebnisse](#5.-Ergebnisse)**\n",
        "<br>\n",
        "**[6. Fazit und Ausblick](#6.-Fazit-und-Ausblick)**\n",
        "<br>\n",
        "**[7. Quellen](#7.-Quellen)**\n",
        "<br>\n",
        "**[8. Eidesstattliche Erklärung](#8.-Eidesstattliche-Erklärung)**"
      ]
    },
    {
      "cell_type": "markdown",
      "metadata": {
        "id": "_VOlaeTvRpf0",
        "jp-MarkdownHeadingCollapsed": true
      },
      "source": [
        "# 1. Einleitung"
      ]
    },
    {
      "cell_type": "markdown",
      "metadata": {
        "id": "ODMXlhIxS0ir"
      },
      "source": [
        "Der Gebrauchtwagenmarkt ist ein dynamischer und vielfältiger Sektor, der viele potenzielle Käufer und Verkäufer anspricht. Bei der Suche nach einem Gebrauchtwagen sind Verbraucher oft auf der Suche nach verlässlichen Informationen über Preise, Modelle und Hersteller. In diesem Zusammenhang habe ich mich in der Ausarbeitung beschäftigt, eine umfangreiche Sammlung von ausgelesenen Daten von Gebrauchtwagenangeboten zu analysieren.\n",
        "\n",
        "Grundlage für diese Ausarbeitung ist der auf der Kaggle-Plattform verfügbare Datensatz zur Preisvorhersage von Gebrauchtwagen. Diese Ausarbeitung umfasst beeindruckende 100.000 Inserate, die in separaten Dateien für jeden Autohersteller aufgeteilt wurden. Diese umfangreiche Datenmenge erlaubt es mir, den Markt in all seinen Facetten zu betrachten und Vergleiche zwischen den verschiedenen Herstellern anzustellen. Indem die Inserate nach Hersteller sortiert werden, kann man die spezifischen Merkmale, Eigenschaften und Preisentwicklungen für jede Marke analysieren und daraus wertvolle Erkenntnisse ableiten.\n",
        "\n",
        "Es wird eine Regressionsanalyse durchgeführt, da die Zielgröße ein quantitatives Merkmal ist\n",
        "\n",
        "Diese Ausarbeitung wurde mit Hilfe von Google Colab erstellt."
      ]
    },
    {
      "cell_type": "markdown",
      "metadata": {
        "id": "6-jYdI26VHtJ",
        "jp-MarkdownHeadingCollapsed": true
      },
      "source": [
        "# 2. Vorbereitung"
      ]
    },
    {
      "cell_type": "markdown",
      "metadata": {
        "id": "5kAqrYlQmifn"
      },
      "source": [
        "Wie in der Einleitung beschrieben, stammen die Daten zur Ausarbeitung von der Kaggle-Plattform. Damit die Daten verwendet werden müssen diese Heruntergeladen werden. Dieser Schritt kann bis zum Kapitel 3 übersprungen werden, wenn die Daten schon heruntergeladen worden sind, und im Colab Verzeichnis \"/content\" oder im Hauptverzeichnis hinterlegt werden.\n",
        "\n",
        "Damit die Daten von Kaggle heruntergeladen werden können, wird zu erst ein Kaggle Account benötigt. Ist man eingeloggt, können Sie unter Account in den Profileinstellungen den Abschnitt \"API\" finden. Generieren Sie einen neuen Token. Nachdem dieser generiert worden ist, wird eine JSON-Datei heruntergeladen. Diese JSON-Datei beinhaltet Ihren Namen und Ihren API-Schlüssel. Anschließend können Sie den Code der Unter diesen Abschnitt sich befindet ausführen und die JSON in Ihr \"/content\"-Verzeichnis hochladen. Dann werden die Daten zur Preisvohersage heruntergeladen und verwendet."
      ]
    },
    {
      "cell_type": "code",
      "execution_count": null,
      "metadata": {
        "colab": {
          "base_uri": "https://localhost:8080/",
          "height": 403
        },
        "id": "FtuZqVsIVLm3",
        "outputId": "3f4611d2-8491-49ed-e502-e450eaef76a5"
      },
      "outputs": [
        {
          "data": {
            "text/html": [
              "\n",
              "     <input type=\"file\" id=\"files-5a28a113-833f-4b34-80d4-c97fbd178fce\" name=\"files[]\" multiple disabled\n",
              "        style=\"border:none\" />\n",
              "     <output id=\"result-5a28a113-833f-4b34-80d4-c97fbd178fce\">\n",
              "      Upload widget is only available when the cell has been executed in the\n",
              "      current browser session. Please rerun this cell to enable.\n",
              "      </output>\n",
              "      <script>// Copyright 2017 Google LLC\n",
              "//\n",
              "// Licensed under the Apache License, Version 2.0 (the \"License\");\n",
              "// you may not use this file except in compliance with the License.\n",
              "// You may obtain a copy of the License at\n",
              "//\n",
              "//      http://www.apache.org/licenses/LICENSE-2.0\n",
              "//\n",
              "// Unless required by applicable law or agreed to in writing, software\n",
              "// distributed under the License is distributed on an \"AS IS\" BASIS,\n",
              "// WITHOUT WARRANTIES OR CONDITIONS OF ANY KIND, either express or implied.\n",
              "// See the License for the specific language governing permissions and\n",
              "// limitations under the License.\n",
              "\n",
              "/**\n",
              " * @fileoverview Helpers for google.colab Python module.\n",
              " */\n",
              "(function(scope) {\n",
              "function span(text, styleAttributes = {}) {\n",
              "  const element = document.createElement('span');\n",
              "  element.textContent = text;\n",
              "  for (const key of Object.keys(styleAttributes)) {\n",
              "    element.style[key] = styleAttributes[key];\n",
              "  }\n",
              "  return element;\n",
              "}\n",
              "\n",
              "// Max number of bytes which will be uploaded at a time.\n",
              "const MAX_PAYLOAD_SIZE = 100 * 1024;\n",
              "\n",
              "function _uploadFiles(inputId, outputId) {\n",
              "  const steps = uploadFilesStep(inputId, outputId);\n",
              "  const outputElement = document.getElementById(outputId);\n",
              "  // Cache steps on the outputElement to make it available for the next call\n",
              "  // to uploadFilesContinue from Python.\n",
              "  outputElement.steps = steps;\n",
              "\n",
              "  return _uploadFilesContinue(outputId);\n",
              "}\n",
              "\n",
              "// This is roughly an async generator (not supported in the browser yet),\n",
              "// where there are multiple asynchronous steps and the Python side is going\n",
              "// to poll for completion of each step.\n",
              "// This uses a Promise to block the python side on completion of each step,\n",
              "// then passes the result of the previous step as the input to the next step.\n",
              "function _uploadFilesContinue(outputId) {\n",
              "  const outputElement = document.getElementById(outputId);\n",
              "  const steps = outputElement.steps;\n",
              "\n",
              "  const next = steps.next(outputElement.lastPromiseValue);\n",
              "  return Promise.resolve(next.value.promise).then((value) => {\n",
              "    // Cache the last promise value to make it available to the next\n",
              "    // step of the generator.\n",
              "    outputElement.lastPromiseValue = value;\n",
              "    return next.value.response;\n",
              "  });\n",
              "}\n",
              "\n",
              "/**\n",
              " * Generator function which is called between each async step of the upload\n",
              " * process.\n",
              " * @param {string} inputId Element ID of the input file picker element.\n",
              " * @param {string} outputId Element ID of the output display.\n",
              " * @return {!Iterable<!Object>} Iterable of next steps.\n",
              " */\n",
              "function* uploadFilesStep(inputId, outputId) {\n",
              "  const inputElement = document.getElementById(inputId);\n",
              "  inputElement.disabled = false;\n",
              "\n",
              "  const outputElement = document.getElementById(outputId);\n",
              "  outputElement.innerHTML = '';\n",
              "\n",
              "  const pickedPromise = new Promise((resolve) => {\n",
              "    inputElement.addEventListener('change', (e) => {\n",
              "      resolve(e.target.files);\n",
              "    });\n",
              "  });\n",
              "\n",
              "  const cancel = document.createElement('button');\n",
              "  inputElement.parentElement.appendChild(cancel);\n",
              "  cancel.textContent = 'Cancel upload';\n",
              "  const cancelPromise = new Promise((resolve) => {\n",
              "    cancel.onclick = () => {\n",
              "      resolve(null);\n",
              "    };\n",
              "  });\n",
              "\n",
              "  // Wait for the user to pick the files.\n",
              "  const files = yield {\n",
              "    promise: Promise.race([pickedPromise, cancelPromise]),\n",
              "    response: {\n",
              "      action: 'starting',\n",
              "    }\n",
              "  };\n",
              "\n",
              "  cancel.remove();\n",
              "\n",
              "  // Disable the input element since further picks are not allowed.\n",
              "  inputElement.disabled = true;\n",
              "\n",
              "  if (!files) {\n",
              "    return {\n",
              "      response: {\n",
              "        action: 'complete',\n",
              "      }\n",
              "    };\n",
              "  }\n",
              "\n",
              "  for (const file of files) {\n",
              "    const li = document.createElement('li');\n",
              "    li.append(span(file.name, {fontWeight: 'bold'}));\n",
              "    li.append(span(\n",
              "        `(${file.type || 'n/a'}) - ${file.size} bytes, ` +\n",
              "        `last modified: ${\n",
              "            file.lastModifiedDate ? file.lastModifiedDate.toLocaleDateString() :\n",
              "                                    'n/a'} - `));\n",
              "    const percent = span('0% done');\n",
              "    li.appendChild(percent);\n",
              "\n",
              "    outputElement.appendChild(li);\n",
              "\n",
              "    const fileDataPromise = new Promise((resolve) => {\n",
              "      const reader = new FileReader();\n",
              "      reader.onload = (e) => {\n",
              "        resolve(e.target.result);\n",
              "      };\n",
              "      reader.readAsArrayBuffer(file);\n",
              "    });\n",
              "    // Wait for the data to be ready.\n",
              "    let fileData = yield {\n",
              "      promise: fileDataPromise,\n",
              "      response: {\n",
              "        action: 'continue',\n",
              "      }\n",
              "    };\n",
              "\n",
              "    // Use a chunked sending to avoid message size limits. See b/62115660.\n",
              "    let position = 0;\n",
              "    do {\n",
              "      const length = Math.min(fileData.byteLength - position, MAX_PAYLOAD_SIZE);\n",
              "      const chunk = new Uint8Array(fileData, position, length);\n",
              "      position += length;\n",
              "\n",
              "      const base64 = btoa(String.fromCharCode.apply(null, chunk));\n",
              "      yield {\n",
              "        response: {\n",
              "          action: 'append',\n",
              "          file: file.name,\n",
              "          data: base64,\n",
              "        },\n",
              "      };\n",
              "\n",
              "      let percentDone = fileData.byteLength === 0 ?\n",
              "          100 :\n",
              "          Math.round((position / fileData.byteLength) * 100);\n",
              "      percent.textContent = `${percentDone}% done`;\n",
              "\n",
              "    } while (position < fileData.byteLength);\n",
              "  }\n",
              "\n",
              "  // All done.\n",
              "  yield {\n",
              "    response: {\n",
              "      action: 'complete',\n",
              "    }\n",
              "  };\n",
              "}\n",
              "\n",
              "scope.google = scope.google || {};\n",
              "scope.google.colab = scope.google.colab || {};\n",
              "scope.google.colab._files = {\n",
              "  _uploadFiles,\n",
              "  _uploadFilesContinue,\n",
              "};\n",
              "})(self);\n",
              "</script> "
            ],
            "text/plain": [
              "<IPython.core.display.HTML object>"
            ]
          },
          "metadata": {},
          "output_type": "display_data"
        },
        {
          "name": "stdout",
          "output_type": "stream",
          "text": [
            "Saving kaggle.json to kaggle.json\n",
            "User uploaded file \"kaggle.json\" with length 67 bytes\n",
            "-rw-r--r-- 1 root root 67 Jul 25 05:47 kaggle.json\n",
            "Downloading used-car-dataset-ford-and-mercedes.zip to /content\n",
            "  0% 0.00/1.10M [00:00<?, ?B/s]\n",
            "100% 1.10M/1.10M [00:00<00:00, 142MB/s]\n",
            "Archive:  used-car-dataset-ford-and-mercedes.zip\n",
            "  inflating: audi.csv                \n",
            "  inflating: bmw.csv                 \n",
            "  inflating: cclass.csv              \n",
            "  inflating: focus.csv               \n",
            "  inflating: ford.csv                \n",
            "  inflating: hyundi.csv              \n",
            "  inflating: merc.csv                \n",
            "  inflating: skoda.csv               \n",
            "  inflating: toyota.csv              \n",
            "  inflating: unclean cclass.csv      \n",
            "  inflating: unclean focus.csv       \n",
            "  inflating: vauxhall.csv            \n",
            "  inflating: vw.csv                  \n"
          ]
        }
      ],
      "source": [
        "from google.colab import files\n",
        "\n",
        "uploaded = files.upload()\n",
        "\n",
        "for fn in uploaded.keys():\n",
        "  print('User uploaded file \"{name}\" with length {length} bytes'.format(\n",
        "      name=fn, length=len(uploaded[fn])))\n",
        "\n",
        "!ls -lha kaggle.json\n",
        "!pip install -q kaggle # installing the kaggle package\n",
        "!mkdir -p ~/.kaggle # creating .kaggle folder where the key should be placed\n",
        "!cp kaggle.json ~/.kaggle/ # move the key to the folder\n",
        "!chmod 600 ~/.kaggle/kaggle.json\n",
        "\n",
        "!kaggle datasets download -d adityadesai13/used-car-dataset-ford-and-mercedes\n",
        "!unzip used-car-dataset-ford-and-mercedes.zip"
      ]
    },
    {
      "cell_type": "markdown",
      "metadata": {
        "id": "1FaXbGFbCjTQ"
      },
      "source": [
        "--------------------------------------------------------------------------------"
      ]
    },
    {
      "cell_type": "markdown",
      "metadata": {
        "id": "hYQf8dw2OHvC",
        "jp-MarkdownHeadingCollapsed": true
      },
      "source": [
        "# 3. Umsetzung"
      ]
    },
    {
      "cell_type": "markdown",
      "metadata": {
        "id": "mxJhW3ynJnUc",
        "jp-MarkdownHeadingCollapsed": true
      },
      "source": [
        "## 3.1 Informationen über die Datensätze holen"
      ]
    },
    {
      "cell_type": "markdown",
      "metadata": {
        "id": "S0BQv8h-A6Wc"
      },
      "source": [
        "Bevor mit der Ausarbeitung begonnen werden kann ist es notwendig, grundlegende erforderliche Module zu importieren.\n",
        "Es werden die Module zur Datenverarbeitung (numpy, pandas) und für die Bilddarstellung (seaborn, matplotlib) importiert."
      ]
    },
    {
      "cell_type": "code",
      "execution_count": null,
      "metadata": {
        "id": "ZWU0-KgqBBmt"
      },
      "outputs": [],
      "source": [
        "import numpy as np\n",
        "import pandas as pd\n",
        "import matplotlib.pyplot as plt"
      ]
    },
    {
      "cell_type": "markdown",
      "metadata": {
        "id": "pDqK41HfDLIU"
      },
      "source": [
        "Zur weiteren Verarbeitung werden die jeweiligen Dateinamen aus dem Verzeichnis geladen"
      ]
    },
    {
      "cell_type": "code",
      "execution_count": null,
      "metadata": {
        "id": "r8A0OyMTF9Na"
      },
      "outputs": [],
      "source": [
        "df = pd.concat(map(pd.read_csv, ['audi.csv', 'bmw.csv', 'cclass.csv', 'focus.csv', 'ford.csv', 'hyundi.csv', 'merc.csv', 'skoda.csv', 'toyota.csv', 'vauxhall.csv', 'vw.csv']))"
      ]
    },
    {
      "cell_type": "markdown",
      "metadata": {
        "id": "-UZSYrd7NddZ"
      },
      "source": [
        "Mit df.info() zeigen wir uns weitere Informationen, wie die Namen und Datentypen der Spalten."
      ]
    },
    {
      "cell_type": "code",
      "execution_count": null,
      "metadata": {
        "colab": {
          "base_uri": "https://localhost:8080/"
        },
        "id": "qxib7gnINc3a",
        "outputId": "2bfa5a81-c5e9-4168-9a3b-f4e785cb6ba2"
      },
      "outputs": [
        {
          "name": "stdout",
          "output_type": "stream",
          "text": [
            "<class 'pandas.core.frame.DataFrame'>\n",
            "Index: 108540 entries, 0 to 15156\n",
            "Data columns (total 10 columns):\n",
            " #   Column        Non-Null Count   Dtype  \n",
            "---  ------        --------------   -----  \n",
            " 0   model         108540 non-null  object \n",
            " 1   year          108540 non-null  int64  \n",
            " 2   price         108540 non-null  int64  \n",
            " 3   transmission  108540 non-null  object \n",
            " 4   mileage       108540 non-null  int64  \n",
            " 5   fuelType      108540 non-null  object \n",
            " 6   tax           94327 non-null   float64\n",
            " 7   mpg           99187 non-null   float64\n",
            " 8   engineSize    108540 non-null  float64\n",
            " 9   tax(£)        4860 non-null    float64\n",
            "dtypes: float64(4), int64(3), object(3)\n",
            "memory usage: 9.1+ MB\n"
          ]
        }
      ],
      "source": [
        "df.info()"
      ]
    },
    {
      "cell_type": "markdown",
      "metadata": {
        "id": "SC9opBdLpAOc"
      },
      "source": [
        "Pandas bietet für Series und DataFrames die nützlichen Funktionen isna() an um fehlende Werte zu identifizieren."
      ]
    },
    {
      "cell_type": "code",
      "execution_count": null,
      "metadata": {
        "colab": {
          "base_uri": "https://localhost:8080/"
        },
        "id": "Ed48G1aGvUhH",
        "outputId": "0d28ca60-d8db-42af-9962-2c10787c474b"
      },
      "outputs": [
        {
          "data": {
            "text/plain": [
              "model                0\n",
              "year                 0\n",
              "price                0\n",
              "transmission         0\n",
              "mileage              0\n",
              "fuelType             0\n",
              "tax              14213\n",
              "mpg               9353\n",
              "engineSize           0\n",
              "tax(£)          103680\n",
              "dtype: int64"
            ]
          },
          "execution_count": 4,
          "metadata": {},
          "output_type": "execute_result"
        }
      ],
      "source": [
        "df.isna().sum()"
      ]
    },
    {
      "cell_type": "markdown",
      "metadata": {
        "id": "03FnL7H8p_9A"
      },
      "source": [
        "Nachdem diese Funktion ausgeführt wurde, sehen wir, dass unter 'tax' 14213, mpg 9353 und unter tax(£) 103680 Werte fehlen.\n",
        "\n",
        "Als erstes entfernen wir die tax(£)-Zeile mit der drop-Funktion die von Pandas bereitgestellt wird."
      ]
    },
    {
      "cell_type": "code",
      "execution_count": null,
      "metadata": {
        "id": "B9W1PKheSJE7"
      },
      "outputs": [],
      "source": [
        "df.drop(['tax(£)'], axis =1, inplace = True)"
      ]
    },
    {
      "cell_type": "markdown",
      "metadata": {
        "id": "jCDEXwsRqzGi"
      },
      "source": [
        "Als nächstes werden die fehlenden Werte in der Spalte \"tax\" eines Pandas-Datenrahmens (DataFrame) mit dem Durchschnittswert der vorhandenen Werte in derselben Spalte gefüllt.\n",
        "\n",
        "Und zur Sicherheit füllen wir zum Schluss alle weiteren fehlenden Werte im gesamten DataFrame \"df\" mit den jeweiligen Spaltenmittelwerten"
      ]
    },
    {
      "cell_type": "code",
      "execution_count": null,
      "metadata": {
        "id": "BsMnNBkqQvQ1"
      },
      "outputs": [],
      "source": [
        "df['tax'].fillna(df['tax'].mean(),inplace = True)\n",
        "df['mpg'].fillna(df['mpg'].mean(),inplace = True)\n",
        "#df.fillna(df.mean(),inplace = True)"
      ]
    },
    {
      "cell_type": "markdown",
      "metadata": {
        "id": "sm6y1kwFrmXU"
      },
      "source": [
        "Somit sind jetzt keine fehlenden Werte mehr vorhanden."
      ]
    },
    {
      "cell_type": "code",
      "execution_count": null,
      "metadata": {
        "colab": {
          "base_uri": "https://localhost:8080/"
        },
        "id": "3FFu1WNcSU9K",
        "outputId": "0b8a7539-c732-4284-ef45-29b3ddd02cb5"
      },
      "outputs": [
        {
          "data": {
            "text/plain": [
              "model           0\n",
              "year            0\n",
              "price           0\n",
              "transmission    0\n",
              "mileage         0\n",
              "fuelType        0\n",
              "tax             0\n",
              "mpg             0\n",
              "engineSize      0\n",
              "dtype: int64"
            ]
          },
          "execution_count": 7,
          "metadata": {},
          "output_type": "execute_result"
        }
      ],
      "source": [
        "df.isna().sum()"
      ]
    },
    {
      "cell_type": "markdown",
      "metadata": {
        "id": "wtj8vl_LtXGX"
      },
      "source": [
        "Das Ergebnis der Zeile drunter ist eine Liste, die alle unterschiedlichen Werte enthält, die in der Spalte \"model\" vorkommen. Dies kann nützlich sein, um einen Überblick über die verschiedenen Automodelle zu erhalten, die im DataFrame vorhanden sind"
      ]
    },
    {
      "cell_type": "code",
      "execution_count": null,
      "metadata": {
        "colab": {
          "base_uri": "https://localhost:8080/"
        },
        "id": "48VHLAE2UCGK",
        "outputId": "effe22fe-fc41-4b7f-8344-c871b7f6c5b2"
      },
      "outputs": [
        {
          "data": {
            "text/plain": [
              "array([' A1', ' A6', ' A4', ' A3', ' Q3', ' Q5', ' A5', ' S4', ' Q2',\n",
              "       ' A7', ' TT', ' Q7', ' RS6', ' RS3', ' A8', ' Q8', ' RS4', ' RS5',\n",
              "       ' R8', ' SQ5', ' S8', ' SQ7', ' S3', ' S5', ' A2', ' RS7',\n",
              "       ' 5 Series', ' 6 Series', ' 1 Series', ' 7 Series', ' 2 Series',\n",
              "       ' 4 Series', ' X3', ' 3 Series', ' X5', ' X4', ' i3', ' X1', ' M4',\n",
              "       ' X2', ' X6', ' 8 Series', ' Z4', ' X7', ' M5', ' i8', ' M2',\n",
              "       ' M3', ' M6', ' Z3', ' C Class', ' Focus', ' Fiesta', ' Puma',\n",
              "       ' Kuga', ' EcoSport', ' C-MAX', ' Mondeo', ' Ka+',\n",
              "       ' Tourneo Custom', ' S-MAX', ' B-MAX', ' Edge', ' Tourneo Connect',\n",
              "       ' Grand C-MAX', ' KA', ' Galaxy', ' Mustang',\n",
              "       ' Grand Tourneo Connect', ' Fusion', ' Ranger', ' Streetka',\n",
              "       ' Escort', ' Transit Tourneo', ' I20', ' Tucson', ' I10', ' IX35',\n",
              "       ' I30', ' I40', ' Ioniq', ' Kona', ' Veloster', ' I800', ' IX20',\n",
              "       ' Santa Fe', ' Accent', ' Terracan', ' Getz', ' Amica', ' SLK',\n",
              "       ' S Class', ' SL CLASS', ' G Class', ' GLE Class', ' GLA Class',\n",
              "       ' A Class', ' B Class', ' GLC Class', ' E Class', ' GL Class',\n",
              "       ' CLS Class', ' CLC Class', ' CLA Class', ' V Class', ' M Class',\n",
              "       ' CL Class', ' GLS Class', ' GLB Class', ' X-CLASS', '180', ' CLK',\n",
              "       ' R Class', '230', '220', '200', ' Octavia', ' Citigo',\n",
              "       ' Yeti Outdoor', ' Superb', ' Kodiaq', ' Rapid', ' Karoq',\n",
              "       ' Fabia', ' Yeti', ' Scala', ' Roomster', ' Kamiq', ' GT86',\n",
              "       ' Corolla', ' RAV4', ' Yaris', ' Auris', ' Aygo', ' C-HR',\n",
              "       ' Prius', ' Avensis', ' Verso', ' Hilux', ' PROACE VERSO',\n",
              "       ' Land Cruiser', ' Supra', ' Camry', ' Verso-S', ' IQ',\n",
              "       ' Urban Cruiser', ' Corsa', ' Astra', ' Viva', ' Mokka',\n",
              "       ' Mokka X', ' Crossland X', ' Zafira', ' Meriva', ' Zafira Tourer',\n",
              "       ' Adam', ' Grandland X', ' Antara', ' Insignia', ' Ampera', ' GTC',\n",
              "       ' Combo Life', ' Vivaro', ' Cascada', ' Kadjar', ' Agila',\n",
              "       ' Tigra', ' Vectra', ' T-Roc', ' Golf', ' Passat', ' T-Cross',\n",
              "       ' Polo', ' Tiguan', ' Sharan', ' Up', ' Scirocco', ' Beetle',\n",
              "       ' Caddy Maxi Life', ' Caravelle', ' Touareg', ' Arteon', ' Touran',\n",
              "       ' Golf SV', ' Amarok', ' Tiguan Allspace', ' Shuttle', ' Jetta',\n",
              "       ' CC', ' California', ' Caddy Life', ' Caddy', ' Caddy Maxi',\n",
              "       ' Eos', ' Fox'], dtype=object)"
            ]
          },
          "execution_count": 8,
          "metadata": {},
          "output_type": "execute_result"
        }
      ],
      "source": [
        "df['model'].unique()"
      ]
    },
    {
      "cell_type": "code",
      "execution_count": null,
      "metadata": {
        "id": "QE3NDLwca_SO"
      },
      "outputs": [],
      "source": [
        "df['model'] = df['model'].str.strip()"
      ]
    },
    {
      "cell_type": "markdown",
      "metadata": {
        "id": "Hx3B32p_tnw2"
      },
      "source": [
        "Zur Übersicht werden die Fahrzeugmodelle in Listen für verschiedene Autohersteller erstellt."
      ]
    },
    {
      "cell_type": "code",
      "execution_count": null,
      "metadata": {
        "id": "74khSXEBUJGE"
      },
      "outputs": [],
      "source": [
        "Mercedes = ['SLK','C Class','S Class',\n",
        "       'SL CLASS', 'G Class', 'GLE Class', 'GLA Class', 'A Class',\n",
        "       'B Class', 'E Class', 'GL Class', 'CLS Class', 'GLC Class',\n",
        "       'CLC Class', 'CLA Class', 'V Class', 'M Class', 'CL Class',\n",
        "       'GLS Class', 'GLB Class', 'X-CLASS', '180', ' CLK', 'R Class',\n",
        "       '220', '200', 'CLK', '230']\n",
        "\n",
        "Bmw = [ '5 Series',\n",
        "       '6 Series', '1 Series', '7 Series', '2 Series', '4 Series',\n",
        "       'X3', '3 Series', 'X5', 'X4', 'X1', 'M4', 'X2', 'X6',\n",
        "       '8 Series', 'Z4', 'X7', 'M2', 'M3', 'i8', 'M5', 'M6',\n",
        "       'Z3', 'i3']\n",
        "\n",
        "Volkswagen = ['T-Roc', 'Golf', 'Passat', 'T-Cross', 'Polo',\n",
        "       'Tiguan', 'Sharan', 'Up', 'Scirocco', 'Beetle',\n",
        "       'Caddy Maxi Life', 'Caravelle', ' Touareg', 'Arteon', 'Touran',\n",
        "       'Golf SV', 'Amarok', 'Tiguan Allspace', 'Shuttle', 'Jetta',\n",
        "       'CC', 'California', 'Caddy Life', 'Caddy', 'Caddy Maxi',\n",
        "       'Eos', 'Fox', 'Touareg']\n",
        "\n",
        "Hyundai = ['I10', 'IX35', 'I30', 'I40',\n",
        "       'Ioniq', 'Kona', 'Veloster', 'IX20', 'I800', 'Santa Fe',\n",
        "       'Accent', 'Terracan', 'Getz', 'Amica','I20', 'Tucson']\n",
        "\n",
        "Audi =['A1', 'A6', 'A4', 'A3', 'Q3', 'Q5',\n",
        "       'A5', 'S4', 'Q2', 'A7', 'TT', 'RS6', 'Q7', 'A8', 'Q8',\n",
        "       'RS4', 'RS5', 'RS3', ' R8', ' SQ5', 'S8', 'SQ7', 'S3', 'S5',\n",
        "       'A2', 'RS7', 'R8', 'SQ5']\n",
        "\n",
        "Skoda = ['Octavia', 'Citigo', 'Yeti Outdoor',\n",
        "       'Superb', 'Kodiaq', 'Rapid', 'Karoq', 'Fabia', 'Yeti',\n",
        "       'Scala', 'Roomster', 'Kamiq']\n",
        "\n",
        "Ford = ['Focus','Fiesta', 'Puma', 'Kuga',\n",
        "       'EcoSport', 'C-MAX', 'Ka+', 'Tourneo Custom', 'S-MAX',\n",
        "       'B-MAX', 'Edge', 'Tourneo Connect', 'Grand C-MAX', 'KA',\n",
        "       'Galaxy', 'Grand Tourneo Connect', 'Mondeo', 'Mustang',\n",
        "       'Fusion', 'Ranger', 'Streetka', 'Escort', 'Transit Tourneo']\n",
        "\n",
        "Opel = ['Corsa', 'Astra', 'Viva', 'Mokka', 'Mokka X', 'Crossland X',\n",
        "       'Zafira', 'Meriva', 'Zafira Tourer', 'Adam', 'Grandland X',\n",
        "       'Antara', 'Insignia', 'GTC', 'Combo Life', 'Vivaro',\n",
        "       'Cascada', 'Kadjar', 'Agila', 'Tigra', 'Vectra']\n",
        "\n",
        "Toyota = [' GT86', 'Corolla', 'RAV4', 'Yaris', 'Auris',\n",
        "       'Aygo', 'C-HR', 'Prius', 'Avensis', 'Verso', 'Hilux',\n",
        "       'PROACE VERSO', 'Land Cruiser', 'Supra', 'Camry', 'Verso-S',\n",
        "       'IQ', 'Urban Cruiser', 'Ampera']"
      ]
    },
    {
      "cell_type": "markdown",
      "metadata": {
        "id": "FQPwfLTRuT9u"
      },
      "source": [
        "Als nächstes fügen wir eine neue Spalte 'Company' ein und weisen jedem Fahrzeugmodell eine bestimmte Automarke zu.\n",
        "Auf diese Weise werden die Fahrzeugmodelle im DataFrame mit den entsprechenden Automarken gekennzeichnet. Dies kann später nützlich sein, um weitere Analysen oder Filterungen basierend auf den Automarken durchzuführen."
      ]
    },
    {
      "cell_type": "code",
      "execution_count": null,
      "metadata": {
        "id": "cDnsb978UpZp"
      },
      "outputs": [],
      "source": [
        "df.loc[df['model'].isin(Mercedes), 'Company'] = 'Mercedes'\n",
        "df.loc[df['model'].isin(Bmw), 'Company'] = 'Bmw'\n",
        "df.loc[df['model'].isin(Volkswagen), 'Company'] = 'Volkswagen'\n",
        "df.loc[df['model'].isin(Hyundai), 'Company'] = 'Hyundai'\n",
        "df.loc[df['model'].isin(Ford), 'Company'] = 'Ford'\n",
        "df.loc[df['model'].isin(Skoda), 'Company'] = 'Skoda'\n",
        "df.loc[df['model'].isin(Audi), 'Company'] = 'Audi'\n",
        "df.loc[df['model'].isin(Opel), 'Company'] = 'Opel'\n",
        "df.loc[df['model'].isin(Toyota), 'Company'] = 'Toyota'"
      ]
    },
    {
      "cell_type": "code",
      "execution_count": null,
      "metadata": {
        "id": "lQRZULGhV2bI"
      },
      "outputs": [],
      "source": [
        "df.reset_index(drop=True, inplace=True)"
      ]
    },
    {
      "cell_type": "markdown",
      "metadata": {
        "id": "slRhn1IM2A4V",
        "jp-MarkdownHeadingCollapsed": true
      },
      "source": [
        "## 3.2 Kategoriale Merkmale umwandeln"
      ]
    },
    {
      "cell_type": "markdown",
      "metadata": {
        "id": "DmYwQfPp5pTm"
      },
      "source": [
        "Bei der Durchführung einer Regressionsanalyse ist es wichtig, dass alle Variablen im Modell numerisch sind, da Regressionsmodelle mathematische Beziehungen zwischen den Variablen herstellen. Dies trifft in unserem Datensatz zu. Deshalb überführen wir die kategorischen Variabeln, die 10 oder wenige Werte besitzen. Alle anderen werden wir später verwerfen. Um die One-Hot-Codierung einer DataFrame Spalte zu erzeugen, verwenden wir hier die Pandas-Funktion get_dummies."
      ]
    },
    {
      "cell_type": "code",
      "execution_count": null,
      "metadata": {
        "colab": {
          "base_uri": "https://localhost:8080/"
        },
        "id": "XA95AzM61tfX",
        "outputId": "0c62e9c3-6235-4468-e4a8-6ede7f9faa29"
      },
      "outputs": [
        {
          "name": "stdout",
          "output_type": "stream",
          "text": [
            "model 195\n",
            "transmission 4\n",
            "fuelType 5\n",
            "Company 9\n"
          ]
        }
      ],
      "source": [
        "df_num = df\n",
        "for c in df.select_dtypes(include=['object']).columns:\n",
        "    print(c, df_num[c].nunique())\n",
        "    if df_num[c].nunique()<=5:\n",
        "      df_num = pd.get_dummies(df_num, columns = [c], dtype=float)"
      ]
    },
    {
      "cell_type": "code",
      "execution_count": null,
      "metadata": {
        "colab": {
          "base_uri": "https://localhost:8080/"
        },
        "id": "qCSNF4MO1yT1",
        "outputId": "1fa5ea55-4ce1-4f50-945a-41174d431927"
      },
      "outputs": [
        {
          "name": "stdout",
          "output_type": "stream",
          "text": [
            "<class 'pandas.core.frame.DataFrame'>\n",
            "RangeIndex: 108540 entries, 0 to 108539\n",
            "Data columns (total 17 columns):\n",
            " #   Column                  Non-Null Count   Dtype  \n",
            "---  ------                  --------------   -----  \n",
            " 0   model                   108540 non-null  object \n",
            " 1   year                    108540 non-null  int64  \n",
            " 2   price                   108540 non-null  int64  \n",
            " 3   mileage                 108540 non-null  int64  \n",
            " 4   tax                     108540 non-null  float64\n",
            " 5   mpg                     108540 non-null  float64\n",
            " 6   engineSize              108540 non-null  float64\n",
            " 7   Company                 108467 non-null  object \n",
            " 8   transmission_Automatic  108540 non-null  float64\n",
            " 9   transmission_Manual     108540 non-null  float64\n",
            " 10  transmission_Other      108540 non-null  float64\n",
            " 11  transmission_Semi-Auto  108540 non-null  float64\n",
            " 12  fuelType_Diesel         108540 non-null  float64\n",
            " 13  fuelType_Electric       108540 non-null  float64\n",
            " 14  fuelType_Hybrid         108540 non-null  float64\n",
            " 15  fuelType_Other          108540 non-null  float64\n",
            " 16  fuelType_Petrol         108540 non-null  float64\n",
            "dtypes: float64(12), int64(3), object(2)\n",
            "memory usage: 14.1+ MB\n"
          ]
        }
      ],
      "source": [
        "#df_num.drop(df_num.select_dtypes(include=['object']).columns, axis='columns', inplace=True)\n",
        "df_num.info()"
      ]
    },
    {
      "cell_type": "markdown",
      "metadata": {
        "id": "4PaWV2EnJxcF",
        "jp-MarkdownHeadingCollapsed": true
      },
      "source": [
        "## 3.3 Daten Visualisieren und mit Statistischen Kennwerten beschreiben"
      ]
    },
    {
      "cell_type": "markdown",
      "metadata": {
        "id": "PHnrtykcDV47"
      },
      "source": [
        "Als Nächstes erhalten wir einen Eindruck durch das visualieren der Daten, wie die einzelnen Merkmale miteinander zusammenhängen.\n",
        "Dort sind Punktwolken abgebildet, bei denen die eine Datenreihe der Preis des Autos ist. Wir wollen später eine Schätzfunktion trainieren, die möglichst gut den Preis eines Gebrauchtfahrzeugs vorhersagen kann. Daher müssen wir herausfinden, mit welchen anderen Merkmalen der Preis möglichst eng linear korreliert. Grafisch betrachtet, suchen wir nach Punktwolken, die sich möglichst eng anhand einer Geraden orientieren. Hier können wir schon sehen, dass wahrscheinlich nur \"engineSize\" vielleicht aber auch \"year\" mit dem Preis korreliert."
      ]
    },
    {
      "cell_type": "code",
      "execution_count": null,
      "metadata": {
        "colab": {
          "base_uri": "https://localhost:8080/",
          "height": 878
        },
        "id": "IcmZZtCyYTDx",
        "outputId": "4ceb970a-174a-4644-d844-db74332d41b0"
      },
      "outputs": [
        {
          "data": {
            "image/png": "[encoded data removed]",
            "text/plain": [
              "<Figure size 1000x1000 with 36 Axes>"
            ]
          },
          "metadata": {},
          "output_type": "display_data"
        }
      ],
      "source": [
        "from pandas.plotting import scatter_matrix\n",
        "import matplotlib.pyplot as plt\n",
        "\n",
        "# Wir selektieren einige der Spalten unseres Dataframes...\n",
        "df_scatter = df_num[['price', 'mileage', 'year','engineSize', 'mpg', 'tax']]\n",
        "# ...und erzeugen die Scatter Plots\n",
        "splot = scatter_matrix(df_scatter, figsize=(10,10));"
      ]
    },
    {
      "cell_type": "code",
      "execution_count": null,
      "metadata": {
        "id": "ESQmIlbRML-1",
        "outputId": "311e4c4a-dd2e-4315-b16e-65876bcc00bb"
      },
      "outputs": [
        {
          "data": {
            "image/png": "[encoded data removed]",
            "text/plain": [
              "<Figure size 1200x1000 with 2 Axes>"
            ]
          },
          "metadata": {},
          "output_type": "display_data"
        }
      ],
      "source": [
        "import seaborn as sns\n",
        "df_scatter = df_num[['year', 'price', 'mileage', 'tax', 'mpg', 'engineSize', 'transmission_Automatic', 'transmission_Manual', 'transmission_Other', 'transmission_Semi-Auto', 'fuelType_Diesel', 'fuelType_Electric', 'fuelType_Hybrid', 'fuelType_Other', 'fuelType_Petrol']]\n",
        "plt.figure(figsize=(12,10))\n",
        "ax = sns.heatmap(df_scatter.corr())"
      ]
    },
    {
      "cell_type": "code",
      "execution_count": null,
      "metadata": {
        "id": "rTSkdBPzML-2",
        "outputId": "2df565f3-e953-40b7-98d2-8aada3347265"
      },
      "outputs": [
        {
          "name": "stderr",
          "output_type": "stream",
          "text": [
            "C:\\Users\\K.Fitkau\\AppData\\Local\\Temp\\ipykernel_11904\\2555487093.py:3: UserWarning: To output multiple subplots, the figure containing the passed axes is being cleared.\n",
            "  df.hist(ax=ax)\n"
          ]
        },
        {
          "data": {
            "image/png": "[encoded data removed]",
            "text/plain": [
              "<Figure size 2000x1500 with 6 Axes>"
            ]
          },
          "metadata": {},
          "output_type": "display_data"
        }
      ],
      "source": [
        "fig = plt.figure(figsize = (20,15))\n",
        "ax = fig.gca()\n",
        "df.hist(ax=ax)\n",
        "plt.show()"
      ]
    },
    {
      "cell_type": "markdown",
      "metadata": {
        "id": "ozvMpQX_EVwQ"
      },
      "source": [
        "Damit wir nicht nur graphisch die Bestätigung haben, sondern uns auch auf Zahlen stützen können. Rechnen wir den Korrelationskoeffizient aus. Dieser ist eine Kenngröße, die angibt, wie stark die Werte zweier Datenreihen  x  und  y  miteinander linear korrelieren. Der Wert des Korrelationskoeffizient liegt immer zwischen -1 und +1. Dabei bedeutet ein sehr niedriger (etwa  Korrelationskoeffizient < −0.8 ) oder ein sehr hoher Wert (etwa  Korrelationskoeffizient > 0.8 ), dass die Reihen korrelieren, es also einen statistischen Zusammenhang der Datenreihen gibt. Ein Wert von  Korrelationskoeffizient  um den Nullpunkt (etwa  −0.5 < Korrelationskoeffizient < 0.5) bedeutet, dass es keinen signifikanten Zusammenhang gibt. Cohen (1988) hat unter anderem für Korrelationen eine Konvention angegeben, die besagt, bei welchem Wert man eine Korrelation als gering, mittel oder hoch einstufen sollte:\n",
        "* Korrelationskoeffizient = 0.1 für eine geringe Korrelation\n",
        "* Korrelationskoeffizientr = 0.3 für eine mittlere Korrelatio\n",
        "* Korrelationskoeffizient\n",
        "r = 0.5 für eine hohe Korrelation"
      ]
    },
    {
      "cell_type": "markdown",
      "metadata": {
        "id": "kIhWMYh4FaW-"
      },
      "source": [
        "Für die Berechnung der Korrelationsmatrix mit der Pandas Funktion corr(), nehmen wir den Datensatz, der alle Merkmale enthält. Aus der berechneten Matrix selektieren wir die Spalte Price und geben die Korrelationskoeffizienten in absteigend sortierter Reihenfolge aus:"
      ]
    },
    {
      "cell_type": "code",
      "execution_count": null,
      "metadata": {
        "colab": {
          "base_uri": "https://localhost:8080/"
        },
        "id": "7ickiDmJpI7_",
        "outputId": "442c02ec-bbdb-45fc-ce21-9690cdae3f8c"
      },
      "outputs": [
        {
          "data": {
            "text/plain": [
              "price                     1.000000\n",
              "engineSize                0.631580\n",
              "year                      0.497094\n",
              "transmission_Semi-Auto    0.414238\n",
              "tax                       0.295388\n",
              "transmission_Automatic    0.239781\n",
              "fuelType_Diesel           0.199732\n",
              "fuelType_Hybrid           0.042555\n",
              "fuelType_Other            0.003030\n",
              "fuelType_Electric        -0.000187\n",
              "transmission_Other       -0.001076\n",
              "fuelType_Petrol          -0.212795\n",
              "mpg                      -0.286580\n",
              "mileage                  -0.427944\n",
              "transmission_Manual      -0.546766\n",
              "Name: price, dtype: float64"
            ]
          },
          "execution_count": 16,
          "metadata": {},
          "output_type": "execute_result"
        }
      ],
      "source": [
        "# Wir delektieren aus dem DataFrame df_num nur die \"numerischen\" Spalten\n",
        "df_select = df_num.select_dtypes(include=np.number)\n",
        "corr_matrix = df_select.corr()\n",
        "corr_matrix[\"price\"].sort_values(ascending=False)"
      ]
    },
    {
      "cell_type": "markdown",
      "metadata": {
        "id": "SIxSW31BFtL2"
      },
      "source": [
        "Da für uns die absolut größten Werte interessant sind, wenden wir die Betragsfunktion abs() auf die Werte an und geben die sortierte Liste erneut aus. Hier sehen wir, dass \"engineSize\", \"transmission_Manual\" in hohen Korrelation befinden mit dem Preis. Des Weiteren befinden sich \"mileage\", \"transmission_Semi-Auto\" und \"year\" in mittlerer Korrelation und \"tax\", \"mpg\", \"transmission_Automatic\", \"fuelType_Petrol\" und \"fuelType_Diesel\" in geringer Korrelation."
      ]
    },
    {
      "cell_type": "code",
      "execution_count": null,
      "metadata": {
        "colab": {
          "base_uri": "https://localhost:8080/"
        },
        "id": "jAoHa_r8pOYG",
        "outputId": "ffe2e6f1-dde1-4968-ae61-8c853434e17c"
      },
      "outputs": [
        {
          "data": {
            "text/plain": [
              "price                     1.000000\n",
              "engineSize                0.631580\n",
              "transmission_Manual       0.546766\n",
              "year                      0.497094\n",
              "mileage                   0.427944\n",
              "transmission_Semi-Auto    0.414238\n",
              "tax                       0.295388\n",
              "mpg                       0.286580\n",
              "transmission_Automatic    0.239781\n",
              "fuelType_Petrol           0.212795\n",
              "fuelType_Diesel           0.199732\n",
              "fuelType_Hybrid           0.042555\n",
              "fuelType_Other            0.003030\n",
              "transmission_Other        0.001076\n",
              "fuelType_Electric         0.000187\n",
              "Name: price, dtype: float64"
            ]
          },
          "execution_count": 17,
          "metadata": {},
          "output_type": "execute_result"
        }
      ],
      "source": [
        "corr_matrix[\"price\"].abs().sort_values(ascending=False).head(15)"
      ]
    },
    {
      "cell_type": "markdown",
      "metadata": {
        "id": "Xfp2Q35IJ_cN",
        "jp-MarkdownHeadingCollapsed": true
      },
      "source": [
        "## 3.4 Daten selektieren und aufbereiten"
      ]
    },
    {
      "cell_type": "markdown",
      "metadata": {
        "id": "u6fzU8IzQJKh"
      },
      "source": [
        "Als nächstes wird dern Datensatz in 2 Teile aufgeteilt. In einen Trainingsdatensatz sowie einen Testdatensatz. Mit dem ersten wird das Modell trainiert. Mit dem zweiten Datensatz wird die trainierte Modellfunktion getestet. Mit diesem Ansatz wird das Problem des Overfittings (Überanpassung) adressieren. Es kann beim Trainieren des Modells nämlich dazu kommen, dass der Lern-Algorithmus die Modell-Parameter zu sehr auf den Trainingsdatensatz anpasst. Durch vorhalten eines separaten Datensatzes, der nicht zum Trainieren benutzt wird, kann dieses Problem erkannt werden.\n",
        "\n",
        "Es ist üblich, etwa 1/5 bis 1/3 der Daten für den Trainingsdatensatz und die restlichen Daten für den Testdatensatz zu verwenden. Mit dem Parameter test_size wird der Anteil der Testdaten adressiert. Mit random_state wird der Zufallszahlengenerator initialisiert, über den die Datenpunkte ausgewählt werden. Legt man random_state fest, so wird immer die gleiche Aufteilung vorgenommen. Dies hat den Vorteil, dass die Analysen vergleichbar sind."
      ]
    },
    {
      "cell_type": "markdown",
      "metadata": {
        "id": "Hi8WoKl8Sg31"
      },
      "source": [
        "Zusätzlich zur Gesamtpreisvorhersage werde ich auch eine differenzierte Analyse durchführen, indem ich die Daten nach Automarken sortiere. Auf diese Weise kann ich Preisentwicklungen für jede Marke untersuchen. Die einzelnen Automarken haben oft ihre eigenen charakteristischen Eigenschaften und Besonderheiten, die sich auf den Preis auswirken können.\n",
        "\n",
        "Um meine Zielsetzung zu erreichen, selektiere ich die Daten einmal für alle Marken im Gesamtprodukt und einmal die Daten für jede Marke einzeln"
      ]
    },
    {
      "cell_type": "code",
      "execution_count": null,
      "metadata": {
        "id": "ipiFy6x9qD2n"
      },
      "outputs": [],
      "source": [
        "from sklearn.model_selection import train_test_split\n",
        "\n",
        "\"\"\"\n",
        "Selektieren von Daten für alle Marken\n",
        "\"\"\"\n",
        "# Zielgröße Y\n",
        "y = df_num['price']\n",
        "\n",
        "# Einflussgröße X\n",
        "X = df_num[['engineSize', 'transmission_Manual', 'year', 'mileage', 'transmission_Semi-Auto', 'tax', 'mpg', 'transmission_Automatic', 'fuelType_Petrol', 'fuelType_Diesel']]\n",
        "\n",
        "X_train, X_test, y_train, y_test = train_test_split(X, y, test_size=0.3, random_state=42)\n",
        "\n",
        "\n",
        "\"\"\"\n",
        "Selektieren von Daten für einzelne Marken\n",
        "\"\"\"\n",
        "companies = ['Mercedes', 'Bmw', 'Volkswagen', 'Hyundai', 'Ford', 'Skoda', 'Audi', 'Opel', 'Toyota']\n",
        "d, y_companies, X_companies, companies_X_train, companies_X_test, companies_y_train, companies_y_test = [dict() for _ in range(7)]\n",
        "for name in companies:\n",
        "\n",
        "    #Erstelle einen neuen Dataframe aus der Marke\n",
        "    d[name] = df_num.query(f\"Company=='{name}'\")\n",
        "\n",
        "    # Zielgröße Y\n",
        "    y_companies[name] = d[name]['price']\n",
        "\n",
        "    # Einflussgröße X\n",
        "    X_companies[name] = d[name][['engineSize', 'transmission_Manual', 'year', 'mileage', 'transmission_Semi-Auto', 'tax', 'mpg', 'transmission_Automatic', 'fuelType_Petrol', 'fuelType_Diesel']]\n",
        "\n",
        "    companies_X_train[name], companies_X_test[name], companies_y_train[name], companies_y_test[name] = train_test_split(X_companies[name], y_companies[name], test_size=0.3, random_state=42)"
      ]
    },
    {
      "cell_type": "markdown",
      "metadata": {
        "id": "-pUVd8KvKByd",
        "jp-MarkdownHeadingCollapsed": true
      },
      "source": [
        "## 3.5 Lineare Regression"
      ]
    },
    {
      "cell_type": "markdown",
      "metadata": {
        "id": "4PsUOh_IduXw"
      },
      "source": [
        "Lineare Regression ist eine statistische Methode, die häufig zur Vorhersage von Beziehungen zwischen einer abhängigen Variablen und einer oder mehreren unabhängigen Variablen verwendet wird. Diese Funktion soll auf Grundlage eines oder mehrerer Merkmale eine Schätzung für den Preis des Fahrzeugs ausgeben. Diese Schätzung soll so ausfallen, dass sie möglichst gut zu den bestehenden Datenpunkten passt. Dies kann zum Beispiel genutzt werden, um einen Zielpreis für eine neue Anzeige zu berechnen oder um festzustellen, ob ein Angebot relativ teuer oder günstig ist. Um diesen Schätzer zu entwickeln, wird die Beziehungen untersucht, die während der Analysephase entwickelt wurde, und auf dieser Grundlage wird das lineare Regressionsmodell trainiert.\n",
        "\n",
        "Die Funktionen zur linearen Regression wird aus dem Modul sklearn.linear_model entnommen. Zur besseren Übersicht wird die abhängige Variable auf y (bzw. y_test) zugewiesen, die unabhängige Variable auf X (bzw. X_test). Dementsprechend wird die abhängige Variable auf y_companies (bzw. companies_y_test) zugewiesen und die unabhängige Variable auf X_companies (bzw. companies_X_test)\n",
        "\n",
        "Mit lin_reg_all bzw. _lin_reg[company name] wird ein Modell als Objekt der Klasse LinearRegression erzeugt und trainiert das Modell mit dem Aufruf fit(X,y) auf die Daten."
      ]
    },
    {
      "cell_type": "code",
      "execution_count": null,
      "metadata": {
        "id": "TfKZu5yOqGYn"
      },
      "outputs": [],
      "source": [
        "from sklearn.linear_model import LinearRegression\n",
        "lin_reg_all = LinearRegression().fit(X_train, y_train)\n",
        "\n",
        "_lin_reg = {}\n",
        "\n",
        "for name in companies:\n",
        "  _lin_reg[name] = LinearRegression().fit(companies_X_train[name], companies_y_train[name])"
      ]
    },
    {
      "cell_type": "code",
      "execution_count": null,
      "metadata": {
        "id": "Q4wAndBdqIyv"
      },
      "outputs": [],
      "source": [
        "from sklearn.metrics import mean_absolute_error, r2_score\n",
        "\n",
        "def eval_model(model, X_test, y_test):\n",
        "    avg_price = y_test.values.mean()\n",
        "    print(\"Mittlerer Preis: %d EUR\" % avg_price)\n",
        "    pred = model.predict(X_test)\n",
        "    pred_err = mean_absolute_error(y_test, pred)\n",
        "    r2 = r2_score(y_test, pred)\n",
        "    pred_err_pc = pred_err*100//avg_price\n",
        "    print(f\"Im Mittel liegt die Preisschätzung um {pred_err:.2f}€ oder {pred_err_pc:.1f}% daneben (R²={r2:.3f})\")\n"
      ]
    },
    {
      "cell_type": "code",
      "execution_count": null,
      "metadata": {
        "colab": {
          "base_uri": "https://localhost:8080/"
        },
        "id": "QS_mOpyzqKsA",
        "outputId": "136fa402-9a49-43e9-e24e-14f045ee5f1f"
      },
      "outputs": [
        {
          "name": "stdout",
          "output_type": "stream",
          "text": [
            "Alle Automarken: \n",
            "Mittlerer Preis: 16931 EUR\n",
            "Im Mittel liegt die Preisschätzung um 3378.37€ oder 19.0% daneben (R²=0.725)\n",
            "\n",
            "Automarke Mercedes\n",
            "Mittlerer Preis: 24451 EUR\n",
            "Im Mittel liegt die Preisschätzung um 3768.88€ oder 15.0% daneben (R²=0.707)\n",
            "\n",
            "Automarke Bmw\n",
            "Mittlerer Preis: 22878 EUR\n",
            "Im Mittel liegt die Preisschätzung um 4450.34€ oder 19.0% daneben (R²=0.669)\n",
            "\n",
            "Automarke Volkswagen\n",
            "Mittlerer Preis: 16757 EUR\n",
            "Im Mittel liegt die Preisschätzung um 2326.71€ oder 13.0% daneben (R²=0.796)\n",
            "\n",
            "Automarke Hyundai\n",
            "Mittlerer Preis: 12637 EUR\n",
            "Im Mittel liegt die Preisschätzung um 1973.54€ oder 15.0% daneben (R²=0.679)\n",
            "\n",
            "Automarke Ford\n",
            "Mittlerer Preis: 12557 EUR\n",
            "Im Mittel liegt die Preisschätzung um 1733.07€ oder 13.0% daneben (R²=0.747)\n",
            "\n",
            "Automarke Skoda\n",
            "Mittlerer Preis: 14351 EUR\n",
            "Im Mittel liegt die Preisschätzung um 1910.60€ oder 13.0% daneben (R²=0.827)\n",
            "\n",
            "Automarke Audi\n",
            "Mittlerer Preis: 22904 EUR\n",
            "Im Mittel liegt die Preisschätzung um 3293.87€ oder 14.0% daneben (R²=0.810)\n",
            "\n",
            "Automarke Opel\n",
            "Mittlerer Preis: 10450 EUR\n",
            "Im Mittel liegt die Preisschätzung um 1472.14€ oder 14.0% daneben (R²=0.659)\n",
            "\n",
            "Automarke Toyota\n",
            "Mittlerer Preis: 12426 EUR\n",
            "Im Mittel liegt die Preisschätzung um 2032.07€ oder 16.0% daneben (R²=0.791)\n"
          ]
        }
      ],
      "source": [
        "print(\"Alle Automarken: \")\n",
        "eval_model(lin_reg_all, X_test, y_test)\n",
        "\n",
        "for name in companies:\n",
        "  print(f\"\\nAutomarke {name}\")\n",
        "  eval_model(_lin_reg[name], companies_X_test[name], companies_y_test[name])"
      ]
    },
    {
      "cell_type": "markdown",
      "metadata": {
        "id": "BqOkMigz0pjp",
        "jp-MarkdownHeadingCollapsed": true
      },
      "source": [
        "## 3.6 Random Forest"
      ]
    },
    {
      "cell_type": "markdown",
      "metadata": {
        "id": "1izx4LvS74hi"
      },
      "source": [
        "Random Forest ist eine Ensemble-Lernmethode für Klassifizierung, Regression und andere Aufgaben, die durch die Konstruktion einer Vielzahl von Entscheidungsbäumen zur Trainingszeit funktioniert. Bei Klassifizierungsaufgaben ist die Ausgabe des Random Forest die Klasse, die von den meisten Bäumen ausgewählt wurde. Bei Regressionsaufgaben wird der Mittelwert oder die durchschnittliche Vorhersage der einzelnen Bäume zurückgegeben\n",
        "\n",
        "Die Funktionen zum Random Forest-Klassifikations- und Regressionsverfahren wird aus dem Modul sklearn.ensemble entnommen. Auch hier erstmal mit den Standardparametern. Mit rfr_all bzw. rfr_companies[company name] wird ein Modell als Objekt der Klasse RandomForestRegressor erzeugt und trainiert das Modell mit dem Aufruf fit(X,y) auf die Daten."
      ]
    },
    {
      "cell_type": "code",
      "execution_count": null,
      "metadata": {
        "colab": {
          "base_uri": "https://localhost:8080/"
        },
        "id": "E5eizkZwO4jk",
        "outputId": "e0e5c3a4-ef5c-48c8-f43b-c98392af172f"
      },
      "outputs": [
        {
          "name": "stdout",
          "output_type": "stream",
          "text": [
            "Alle Automarken: \n",
            "Mittlerer Preis: 16931 EUR\n",
            "Im Mittel liegt die Preisschätzung um 1749.62€ oder 10.0% daneben (R²=0.912)\n",
            "\n",
            "Automarke Mercedes\n",
            "Mittlerer Preis: 24451 EUR\n",
            "Im Mittel liegt die Preisschätzung um 2022.33€ oder 8.0% daneben (R²=0.902)\n",
            "\n",
            "Automarke Bmw\n",
            "Mittlerer Preis: 22878 EUR\n",
            "Im Mittel liegt die Preisschätzung um 2012.68€ oder 8.0% daneben (R²=0.920)\n",
            "\n",
            "Automarke Volkswagen\n",
            "Mittlerer Preis: 16757 EUR\n",
            "Im Mittel liegt die Preisschätzung um 1230.96€ oder 7.0% daneben (R²=0.942)\n",
            "\n",
            "Automarke Hyundai\n",
            "Mittlerer Preis: 12637 EUR\n",
            "Im Mittel liegt die Preisschätzung um 951.14€ oder 7.0% daneben (R²=0.815)\n",
            "\n",
            "Automarke Ford\n",
            "Mittlerer Preis: 12557 EUR\n",
            "Im Mittel liegt die Preisschätzung um 955.88€ oder 7.0% daneben (R²=0.910)\n",
            "\n",
            "Automarke Skoda\n",
            "Mittlerer Preis: 14351 EUR\n",
            "Im Mittel liegt die Preisschätzung um 1111.58€ oder 7.0% daneben (R²=0.942)\n",
            "\n",
            "Automarke Audi\n",
            "Mittlerer Preis: 22904 EUR\n",
            "Im Mittel liegt die Preisschätzung um 1791.77€ oder 7.0% daneben (R²=0.946)\n",
            "\n",
            "Automarke Opel\n",
            "Mittlerer Preis: 10450 EUR\n",
            "Im Mittel liegt die Preisschätzung um 824.97€ oder 7.0% daneben (R²=0.855)\n",
            "\n",
            "Automarke Toyota\n",
            "Mittlerer Preis: 12426 EUR\n",
            "Im Mittel liegt die Preisschätzung um 803.54€ oder 6.0% daneben (R²=0.960)\n"
          ]
        }
      ],
      "source": [
        "from sklearn.ensemble import RandomForestRegressor\n",
        "\n",
        "rfr_all = RandomForestRegressor().fit(X_train, y_train)\n",
        "rfr_companies = {}\n",
        "\n",
        "print(\"Alle Automarken: \")\n",
        "eval_model(rfr_all, X_test, y_test)\n",
        "\n",
        "for name in companies:\n",
        "  rfr_companies[name] = RandomForestRegressor().fit(companies_X_train[name], companies_y_train[name])\n",
        "  print(f\"\\nAutomarke {name}\")\n",
        "  eval_model(rfr_companies[name], companies_X_test[name], companies_y_test[name])"
      ]
    },
    {
      "cell_type": "markdown",
      "metadata": {
        "id": "OIUMw2GDYD2T",
        "jp-MarkdownHeadingCollapsed": true
      },
      "source": [
        "## 3.7 DecisionTreeRegressor"
      ]
    },
    {
      "cell_type": "markdown",
      "metadata": {
        "id": "_da7TdxJD6bi"
      },
      "source": [
        "Der DecisionTreeRegressor ist ein Algorithmus für maschinelles Lernen, der zur Lösung von Regressionsproblemen verwendet wird. Er basiert auf der Entscheidungsbaum-Methode und kann kontinuierliche numerische Werte vorhersagen. Im Gegensatz zum DecisionTreeClassifier, der für Klassifikationsprobleme eingesetzt wird, ist der DecisionTreeRegressor darauf spezialisiert, numerische Zielvariablen (abhängige Variablen) zu prognostizieren. Der DecisionTreeRegressor eignet sich gut für einfache Regressionsprobleme und kann auch als Basismodell in Ensemble-Methoden wie dem Random Forest oder Gradient Boosting verwendet werden. Allerdings kann er anfällig für Overfitting sein, wenn er nicht richtig reguliert wird. Daher ist es wichtig, Hyperparameter wie die maximale Baumtiefe oder die minimale Anzahl von Datenpunkten pro Blattknoten sorgfältig einzustellen, um die beste Leistung des Modells zu erzielen.\n",
        "\n",
        "Die Funktionen zum DecisionTreeRegressor-Klassifikations- und Regressionsverfahren wird aus dem Modul sklearn.tree entnommen. Hier ebenso erstmal mit den Standardparametern. Mit dtr_all bzw. dtr_companies[company name] wird ein Modell als Objekt der Klasse DecisionTreeRegressor erzeugt und trainiert das Modell mit dem Aufruf fit(X,y) auf die Daten."
      ]
    },
    {
      "cell_type": "code",
      "execution_count": null,
      "metadata": {
        "colab": {
          "base_uri": "https://localhost:8080/"
        },
        "id": "hLl_i047YaFJ",
        "outputId": "94e2f77b-07d6-48d2-9d74-219e091f2dac"
      },
      "outputs": [
        {
          "name": "stdout",
          "output_type": "stream",
          "text": [
            "Alle Automarken: \n",
            "Mittlerer Preis: 16931 EUR\n",
            "Im Mittel liegt die Preisschätzung um 2106.05€ oder 12.0% daneben (R²=0.860)\n",
            "\n",
            "Automarke Mercedes\n",
            "Mittlerer Preis: 24451 EUR\n",
            "Im Mittel liegt die Preisschätzung um 2466.12€ oder 10.0% daneben (R²=0.846)\n",
            "\n",
            "Automarke Bmw\n",
            "Mittlerer Preis: 22878 EUR\n",
            "Im Mittel liegt die Preisschätzung um 2551.92€ oder 11.0% daneben (R²=0.864)\n",
            "\n",
            "Automarke Volkswagen\n",
            "Mittlerer Preis: 16757 EUR\n",
            "Im Mittel liegt die Preisschätzung um 1508.57€ oder 9.0% daneben (R²=0.909)\n",
            "\n",
            "Automarke Hyundai\n",
            "Mittlerer Preis: 12637 EUR\n",
            "Im Mittel liegt die Preisschätzung um 1128.61€ oder 8.0% daneben (R²=0.788)\n",
            "\n",
            "Automarke Ford\n",
            "Mittlerer Preis: 12557 EUR\n",
            "Im Mittel liegt die Preisschätzung um 1135.68€ oder 9.0% daneben (R²=0.858)\n",
            "\n",
            "Automarke Skoda\n",
            "Mittlerer Preis: 14351 EUR\n",
            "Im Mittel liegt die Preisschätzung um 1364.02€ oder 9.0% daneben (R²=0.908)\n",
            "\n",
            "Automarke Audi\n",
            "Mittlerer Preis: 22904 EUR\n",
            "Im Mittel liegt die Preisschätzung um 2250.25€ oder 9.0% daneben (R²=0.909)\n",
            "\n",
            "Automarke Opel\n",
            "Mittlerer Preis: 10450 EUR\n",
            "Im Mittel liegt die Preisschätzung um 994.12€ oder 9.0% daneben (R²=0.801)\n",
            "\n",
            "Automarke Toyota\n",
            "Mittlerer Preis: 12426 EUR\n",
            "Im Mittel liegt die Preisschätzung um 983.69€ oder 7.0% daneben (R²=0.938)\n"
          ]
        }
      ],
      "source": [
        "from sklearn.tree import DecisionTreeRegressor\n",
        "\n",
        "dtr_all = DecisionTreeRegressor().fit(X_train, y_train)\n",
        "dtr_companies = {}\n",
        "\n",
        "print(\"Alle Automarken: \")\n",
        "eval_model(dtr_all, X_test, y_test)\n",
        "\n",
        "for name in companies:\n",
        "  dtr_companies[name] = DecisionTreeRegressor().fit(companies_X_train[name], companies_y_train[name])\n",
        "  print(f\"\\nAutomarke {name}\")\n",
        "  eval_model(dtr_companies[name], companies_X_test[name], companies_y_test[name])"
      ]
    },
    {
      "cell_type": "markdown",
      "metadata": {
        "id": "M2ly81lTY8H_",
        "jp-MarkdownHeadingCollapsed": true
      },
      "source": [
        "## 3.8 Support Vector Regressor"
      ]
    },
    {
      "cell_type": "markdown",
      "metadata": {
        "id": "gkGHMAWVJhh9"
      },
      "source": [
        "Der Support Vector Regressor (SVR) ist ein Algorithmus für maschinelles Lernen, der in der Lage ist, Regressionsprobleme zu lösen. SVR basiert auf der gleichen Prinzipien wie Support Vector Machines (SVM), die für Klassifikationsaufgaben entwickelt wurden. Im Gegensatz zu herkömmlichen linearen Regressionsmodellen zielt SVR darauf ab, eine sogenannte \"tube-shaped\" Regressionslinie zu finden, anstatt eine einfache Linie durch die Datenpunkte zu ziehen.\n",
        "\n",
        "SVR eignet sich besonders gut für Regressionsaufgaben, bei denen die Datenpunkte eine komplexe nichtlineare Beziehung aufweisen und wo eine robuste Modellierung erforderlich ist, um Ausreißer zu berücksichtigen. Die Wahl des richtigen Kernels und die Einstellung des Epsilon-Hyperparameters sind entscheidend für die Leistung des SVR-Modells. Wie bei anderen Regressionsmodellen sollte auch das SVR-Modell sorgfältig validiert und mit anderen Regressionsmethoden verglichen werden, um die beste Vorhersagegenauigkeit zu erzielen.\n",
        "\n",
        "Die Funktionen zum Support Vector Regressor-Klassifikations- und Regressionsverfahren wird aus dem Modul sklearn.svm entnommen. Hier ebenso erstmal mit den Standardparametern. Mit svr_all bzw. svr_companies[company name] wird ein Modell als Objekt der Klasse SVR erzeugt und trainiert das Modell mit dem Aufruf fit(X,y) auf die Daten."
      ]
    },
    {
      "cell_type": "code",
      "execution_count": null,
      "metadata": {
        "colab": {
          "base_uri": "https://localhost:8080/",
          "height": 432
        },
        "id": "rIPpKakkZL7B",
        "outputId": "e5045fc3-4d4a-48fd-e334-2b5938c689e0"
      },
      "outputs": [
        {
          "name": "stdout",
          "output_type": "stream",
          "text": [
            "Alle Automarken: \n",
            "Mittlerer Preis: 16931 EUR\n",
            "Im Mittel liegt die Preisschätzung um 6190.88€ oder 36.0% daneben (R²=0.119)\n",
            "\n",
            "Automarke Mercedes\n",
            "Mittlerer Preis: 24451 EUR\n",
            "Im Mittel liegt die Preisschätzung um 6728.04€ oder 27.0% daneben (R²=0.090)\n",
            "\n",
            "Automarke Bmw\n",
            "Mittlerer Preis: 22878 EUR\n",
            "Im Mittel liegt die Preisschätzung um 7508.53€ oder 32.0% daneben (R²=0.059)\n",
            "\n",
            "Automarke Volkswagen\n",
            "Mittlerer Preis: 16757 EUR\n",
            "Im Mittel liegt die Preisschätzung um 5529.80€ oder 32.0% daneben (R²=0.105)\n",
            "\n",
            "Automarke Hyundai\n",
            "Mittlerer Preis: 12637 EUR\n",
            "Im Mittel liegt die Preisschätzung um 4434.56€ oder 35.0% daneben (R²=0.017)\n",
            "\n",
            "Automarke Ford\n",
            "Mittlerer Preis: 12557 EUR\n",
            "Im Mittel liegt die Preisschätzung um 3221.80€ oder 25.0% daneben (R²=0.169)\n",
            "\n",
            "Automarke Skoda\n",
            "Mittlerer Preis: 14351 EUR\n",
            "Im Mittel liegt die Preisschätzung um 4854.97€ oder 33.0% daneben (R²=0.020)\n",
            "\n",
            "Automarke Audi\n",
            "Mittlerer Preis: 22904 EUR\n",
            "Im Mittel liegt die Preisschätzung um 7683.41€ oder 33.0% daneben (R²=0.039)\n",
            "\n",
            "Automarke Opel\n",
            "Mittlerer Preis: 10450 EUR\n",
            "Im Mittel liegt die Preisschätzung um 2491.44€ oder 23.0% daneben (R²=0.167)\n",
            "\n",
            "Automarke Toyota\n",
            "Mittlerer Preis: 12426 EUR\n",
            "Im Mittel liegt die Preisschätzung um 4354.91€ oder 35.0% daneben (R²=-0.074)\n"
          ]
        }
      ],
      "source": [
        "from sklearn.svm import SVR\n",
        "\n",
        "svr_all = SVR().fit(X_train, y_train)\n",
        "svr_companies = {}\n",
        "\n",
        "print(\"Alle Automarken: \")\n",
        "eval_model(svr_all, X_test, y_test)\n",
        "\n",
        "for name in companies:\n",
        "  svr_companies[name] = SVR().fit(companies_X_train[name], companies_y_train[name])\n",
        "  print(f\"\\nAutomarke {name}\")\n",
        "  eval_model(svr_companies[name], companies_X_test[name], companies_y_test[name])"
      ]
    },
    {
      "cell_type": "markdown",
      "metadata": {
        "id": "9ko0H7lYfCvI",
        "jp-MarkdownHeadingCollapsed": true
      },
      "source": [
        "## 3.9 KNN Regressor"
      ]
    },
    {
      "cell_type": "markdown",
      "metadata": {
        "id": "Jfqkk-8gFU0C"
      },
      "source": [
        "Der KNN (k-Nearest Neighbors) Regressor ist ein Algorithmus für maschinelles Lernen, der für Regressionsprobleme verwendet wird. Es ist eine Variante des k-Nearest Neighbors Algorithmus, der normalerweise für Klassifikationsaufgaben eingesetzt wird. Der KNN Regressor basiert auf der Idee, dass ähnliche Datenpunkte ähnliche Zielwerte haben, und verwendet eine Gruppe von \"k\" nächsten Nachbarn, um den Vorhersagewert für einen neuen Datenpunkt zu ermitteln.\n",
        "\n",
        "Obwohl der K-Nearest Neighbors-Algorithmus (KNN) im Allgemeinen bei Klassifizierungsproblemen verwendet wird, liefert er auch bei Regressionsproblemen sehr gute Ergebnisse.\n",
        "\n",
        "Die Funktionen zum K-Nearest Neighbors-Algorithmus wird aus dem Modul sklearn.neighbors entnommen. Hier ebenso erstmal mit den Standardparametern. Mit knn_all bzw. knn_companies[company name] wird ein Modell als Objekt der Klasse KNeighborsRegressor erzeugt und trainiert das Modell mit dem Aufruf fit(X,y) auf die Daten."
      ]
    },
    {
      "cell_type": "code",
      "execution_count": null,
      "metadata": {
        "id": "2eLjxoW6fGfq",
        "outputId": "ce200f20-5b6f-4786-c27d-d2efb6f13cbe"
      },
      "outputs": [
        {
          "name": "stdout",
          "output_type": "stream",
          "text": [
            "Alle Automarken: \n",
            "Mittlerer Preis: 16931 EUR\n",
            "Im Mittel liegt die Preisschätzung um 5222.83€ oder 30.0% daneben (R²=0.438)\n",
            "\n",
            "Automarke Mercedes\n",
            "Mittlerer Preis: 24451 EUR\n",
            "Im Mittel liegt die Preisschätzung um 4984.62€ oder 20.0% daneben (R²=0.498)\n",
            "\n",
            "Automarke Bmw\n",
            "Mittlerer Preis: 22878 EUR\n",
            "Im Mittel liegt die Preisschätzung um 5204.71€ oder 22.0% daneben (R²=0.535)\n",
            "\n",
            "Automarke Volkswagen\n",
            "Mittlerer Preis: 16757 EUR\n",
            "Im Mittel liegt die Preisschätzung um 3861.74€ oder 23.0% daneben (R²=0.550)\n",
            "\n",
            "Automarke Hyundai\n",
            "Mittlerer Preis: 12637 EUR\n",
            "Im Mittel liegt die Preisschätzung um 4125.79€ oder 32.0% daneben (R²=0.138)\n",
            "\n",
            "Automarke Ford\n",
            "Mittlerer Preis: 12557 EUR\n",
            "Im Mittel liegt die Preisschätzung um 2690.78€ oder 21.0% daneben (R²=0.410)\n",
            "\n",
            "Automarke Skoda\n",
            "Mittlerer Preis: 14351 EUR\n",
            "Im Mittel liegt die Preisschätzung um 3931.87€ oder 27.0% daneben (R²=0.395)\n",
            "\n",
            "Automarke Audi\n",
            "Mittlerer Preis: 22904 EUR\n",
            "Im Mittel liegt die Preisschätzung um 5410.36€ oder 23.0% daneben (R²=0.475)\n",
            "\n",
            "Automarke Opel\n",
            "Mittlerer Preis: 10450 EUR\n",
            "Im Mittel liegt die Preisschätzung um 2087.17€ oder 19.0% daneben (R²=0.386)\n",
            "\n",
            "Automarke Toyota\n",
            "Mittlerer Preis: 12426 EUR\n",
            "Im Mittel liegt die Preisschätzung um 4475.55€ oder 36.0% daneben (R²=0.048)\n"
          ]
        }
      ],
      "source": [
        "from sklearn.neighbors import KNeighborsRegressor\n",
        "\n",
        "knn_all = KNeighborsRegressor().fit(X_train, y_train)\n",
        "knn_companies = {}\n",
        "\n",
        "print(\"Alle Automarken: \")\n",
        "eval_model(knn_all, X_test, y_test)\n",
        "\n",
        "for name in companies:\n",
        "  knn_companies[name] = KNeighborsRegressor().fit(companies_X_train[name], companies_y_train[name])\n",
        "  print(f\"\\nAutomarke {name}\")\n",
        "  eval_model(knn_companies[name], companies_X_test[name], companies_y_test[name])"
      ]
    },
    {
      "cell_type": "markdown",
      "metadata": {
        "id": "Y8dQNjPZRWwX",
        "jp-MarkdownHeadingCollapsed": true
      },
      "source": [
        "# 4. Hyperparameter Tuning"
      ]
    },
    {
      "cell_type": "markdown",
      "metadata": {
        "id": "XyJw5V9t7Ybv"
      },
      "source": [
        "Wie wir sehen sind einige Werte über zwischen 10-30% Abweichung. Eine mehr als 10%-ige Abweichung von Preis ist nicht unbedingt gut. Diese Problem versuchen wir in diesem Kapitel anzugehen. Im Bereich des maschinellen Lernens bezeichnet Hyperparameteroptimierung die Suche nach optimalen Hyperparametern. Ein Hyperparameter ist ein Parameter, der zur Steuerung des Trainingsalgorithmus verwendet wird und dessen Wert im Gegensatz zu anderen Parametern vor dem eigentlichen Training des Modells festgelegt werden muss.\n",
        "\n",
        "Das Hyperparameter-Tuning ist ein wichtiger Prozess, um ein Modell optimal zu konfigurieren und seine Leistung zu maximieren. Es kann jedoch zeitaufwendig sein, da viele Modelle mit verschiedenen Hyperparameter-Kombinationen trainiert werden müssen.\n",
        "\n",
        "Es ist ratsam, Methoden wie Kreuzvalidierung zu verwenden, um sicherzustellen, dass das Modell gut generalisiert und nicht nur auf die spezifischen Trainingsdaten überangepasst ist.\n",
        "\n",
        "Gängige Methoden für das Hyperparameter-Tuning sind die Manuelle Suche, Grid Search, Random Search und Bayesian Optimization. Die \"Manuelle Suche\" ist zeitaufwendig und erfordert oft Erfahrung und Fachwissen, kann aber in einigen Fällen effektiv sein, wird jedoch hier nicht verwendet.\n",
        "\n",
        "Ich möchte hier nur grob zeigen wie es aufgebaut wird, da bestimmmte Methoden zu lange benötigen.\n",
        "Beispiel: *[CV 3/5] END ....C=0.1, gamma=1, kernel=linear;, score=0.490 total time=636.9min*<br>Deswegen wurden die default-Werte benutzt und ein wenig erweitert."
      ]
    },
    {
      "cell_type": "markdown",
      "metadata": {
        "id": "RWlhO419rOUu",
        "jp-MarkdownHeadingCollapsed": true
      },
      "source": [
        "## 4.1 GridSearch"
      ]
    },
    {
      "cell_type": "markdown",
      "metadata": {
        "id": "jTnqpAh8rltP"
      },
      "source": [
        "GridSearch ist eine einfache, aber effektive Methode des Hyperparameter-Tunings im maschinellen Lernen. Es handelt sich um eine systematische Suche über einen vordefinierten Suchraum von Hyperparameter-Kombinationen, um die besten Hyperparameter für ein Modell zu finden.\n",
        "\n",
        "1.estimator: Die Modellinstanz muss übergeben werden, für die Hyperparameter überprüft werden.\n",
        "\n",
        "2.params_grid: Das Dictionary-Objekt, das die Hyperparameter enthält\n",
        "\n",
        "3.scoring: Bewertungsmetrik\n",
        "\n",
        "4.cv: Anzahl der Kreuzvalidierungen\n",
        "\n",
        "5.verbose: Detaillierter Ausdruck während GridSearchCV läuft\n",
        "\n",
        "6.n_jobs: Anzahl der Prozesse, die für diese Aufgabe parallel laufen gelassen werden sollen.\n",
        "\n",
        "best_params_ ist ein Attribut, das von vielen Hyperparameter-Tuning-Bibliotheken und -Algorithmen in Python verwendet wird, um die besten gefundenen Hyperparameter-Werte nach einer GridSearch oder anderen Suchmethoden zu speichern"
      ]
    },
    {
      "cell_type": "code",
      "execution_count": null,
      "metadata": {
        "id": "KD1NhGiT0jla"
      },
      "outputs": [],
      "source": [
        "from sklearn.model_selection import GridSearchCV"
      ]
    },
    {
      "cell_type": "markdown",
      "metadata": {
        "id": "uE1zyFsCwMeG",
        "jp-MarkdownHeadingCollapsed": true
      },
      "source": [
        "### 4.1.1 LinearRegression"
      ]
    },
    {
      "cell_type": "markdown",
      "metadata": {
        "id": "bveoMYc0wV8f"
      },
      "source": [
        "GridSearch ist eine effektive Methode des Hyperparameter-Tunings im maschinellen Lernen, aber es ist wichtig zu erkennen, dass sie nicht immer für jeden Algorithmus und jede Situation geeignet ist. Insbesondere für die lineare Regression kann die Verwendung von GridSearch ineffizient und unnötig sein.\n",
        "\n",
        "Die lineare Regression ist ein einfacher Algorithmus, der eine lineare Beziehung zwischen den unabhängigen Variablen und der abhängigen Variablen annimmt. Es gibt nur wenige Hyperparameter, die bei der linearen Regression angepasst werden können"
      ]
    },
    {
      "cell_type": "markdown",
      "metadata": {
        "id": "zxbsNPs8xhHa",
        "jp-MarkdownHeadingCollapsed": true
      },
      "source": [
        "### 4.1.2 Random Forest"
      ]
    },
    {
      "cell_type": "code",
      "execution_count": null,
      "metadata": {
        "colab": {
          "base_uri": "https://localhost:8080/"
        },
        "id": "r-270_qlnhHY",
        "outputId": "dccb7721-e3ec-42fe-e75a-8a7ee80dd8a8"
      },
      "outputs": [
        {
          "name": "stdout",
          "output_type": "stream",
          "text": [
            "Fitting 5 folds for each of 32 candidates, totalling 160 fits\n",
            "{'max_depth': 20, 'max_features': 'log2', 'n_estimators': 200}\n"
          ]
        }
      ],
      "source": [
        "param_grid = {\n",
        "    'n_estimators': [10, 50, 100, 200],\n",
        "    'max_depth': [3, 10, 20, 40],\n",
        "    \"max_features\" : [\"log2\", \"sqrt\"]\n",
        "}\n",
        "\n",
        "rfr_gs = GridSearchCV(rfr_all, param_grid, cv = 5, verbose = 6, scoring = 'r2', n_jobs=-1)\n",
        "rfr_gs.fit(X_train, y_train)\n",
        "\n",
        "print(rfr_gs.best_params_)"
      ]
    },
    {
      "cell_type": "code",
      "execution_count": null,
      "metadata": {
        "colab": {
          "base_uri": "https://localhost:8080/"
        },
        "id": "OA2Kz9Up1Zsj",
        "outputId": "7cbd6685-ba00-4977-c742-5673950251bd"
      },
      "outputs": [
        {
          "name": "stdout",
          "output_type": "stream",
          "text": [
            "Alle Automarken: \n",
            "Mittlerer Preis: 16931 EUR\n",
            "Im Mittel liegt die Preisschätzung um 1739.92€ oder 10.0% daneben (R²=0.914)\n",
            "\n",
            "Automarke Mercedes\n",
            "Mittlerer Preis: 24451 EUR\n",
            "Im Mittel liegt die Preisschätzung um 2056.75€ oder 8.0% daneben (R²=0.896)\n",
            "\n",
            "Automarke Bmw\n",
            "Mittlerer Preis: 22878 EUR\n",
            "Im Mittel liegt die Preisschätzung um 2042.52€ oder 8.0% daneben (R²=0.918)\n",
            "\n",
            "Automarke Volkswagen\n",
            "Mittlerer Preis: 16757 EUR\n",
            "Im Mittel liegt die Preisschätzung um 1221.79€ oder 7.0% daneben (R²=0.944)\n",
            "\n",
            "Automarke Hyundai\n",
            "Mittlerer Preis: 12637 EUR\n",
            "Im Mittel liegt die Preisschätzung um 914.33€ oder 7.0% daneben (R²=0.826)\n",
            "\n",
            "Automarke Ford\n",
            "Mittlerer Preis: 12557 EUR\n",
            "Im Mittel liegt die Preisschätzung um 936.92€ oder 7.0% daneben (R²=0.917)\n",
            "\n",
            "Automarke Skoda\n",
            "Mittlerer Preis: 14351 EUR\n",
            "Im Mittel liegt die Preisschätzung um 1148.19€ oder 8.0% daneben (R²=0.939)\n",
            "\n",
            "Automarke Audi\n",
            "Mittlerer Preis: 22904 EUR\n",
            "Im Mittel liegt die Preisschätzung um 1817.55€ oder 7.0% daneben (R²=0.945)\n",
            "\n",
            "Automarke Opel\n",
            "Mittlerer Preis: 10450 EUR\n",
            "Im Mittel liegt die Preisschätzung um 807.26€ oder 7.0% daneben (R²=0.860)\n",
            "\n",
            "Automarke Toyota\n",
            "Mittlerer Preis: 12426 EUR\n",
            "Im Mittel liegt die Preisschätzung um 804.03€ oder 6.0% daneben (R²=0.959)\n"
          ]
        }
      ],
      "source": [
        "rfr_gs_all = RandomForestRegressor(n_estimators = 200, max_depth = 20, max_features = 'log2').fit(X_train, y_train)\n",
        "\n",
        "print(\"Alle Automarken: \")\n",
        "eval_model(rfr_gs_all, X_test, y_test)\n",
        "rfr2_gs_companies = {}\n",
        "\n",
        "for name in companies:\n",
        "  rfr2_gs_companies[name] = RandomForestRegressor(n_estimators = 200, max_depth = 20, max_features = 'log2').fit(companies_X_train[name], companies_y_train[name])\n",
        "  print(f\"\\nAutomarke {name}\")\n",
        "  eval_model(rfr2_gs_companies[name], companies_X_test[name], companies_y_test[name])"
      ]
    },
    {
      "cell_type": "markdown",
      "metadata": {
        "id": "APb0SfQb4SSx",
        "jp-MarkdownHeadingCollapsed": true
      },
      "source": [
        "### 4.1.3 DecisionTreeRegressor"
      ]
    },
    {
      "cell_type": "code",
      "execution_count": null,
      "metadata": {
        "colab": {
          "base_uri": "https://localhost:8080/"
        },
        "id": "lC7YQ31-5QzL",
        "outputId": "3205d1df-d41f-4d0b-ae42-57ad64350310"
      },
      "outputs": [
        {
          "name": "stdout",
          "output_type": "stream",
          "text": [
            "Fitting 5 folds for each of 1800 candidates, totalling 9000 fits\n",
            "{'max_depth': 5, 'max_features': 'log2', 'max_leaf_nodes': 30, 'min_samples_leaf': 5, 'min_weight_fraction_leaf': 0.1, 'splitter': 'best'}\n"
          ]
        }
      ],
      "source": [
        "param_grid = {\n",
        "    \"splitter\":[\"best\",\"random\"],\n",
        "    \"max_depth\" : [1,5,7,9,12],\n",
        "    \"min_samples_leaf\":[1,3,5,7,10],\n",
        "    \"min_weight_fraction_leaf\":[0.1,0.3,0.5],\n",
        "    \"max_features\":[\"log2\",\"sqrt\",None],\n",
        "    \"max_leaf_nodes\":[None,10,30,50]\n",
        "}\n",
        "\n",
        "dtr_gs = GridSearchCV(dtr_all, param_grid, cv = 5, verbose = 6, n_jobs=-1)\n",
        "dtr_gs.fit(X_train, y_train)\n",
        "\n",
        "print(dtr_gs.best_params_)"
      ]
    },
    {
      "cell_type": "code",
      "execution_count": null,
      "metadata": {
        "colab": {
          "base_uri": "https://localhost:8080/"
        },
        "id": "g1lOEq305X-B",
        "outputId": "e4e0189d-c516-41f5-9ec7-2cb7ae30ecb1"
      },
      "outputs": [
        {
          "name": "stdout",
          "output_type": "stream",
          "text": [
            "Alle Automarken: \n",
            "Mittlerer Preis: 16931 EUR\n",
            "Im Mittel liegt die Preisschätzung um 4305.35€ oder 25.0% daneben (R²=0.523)\n",
            "\n",
            "Automarke Mercedes\n",
            "Mittlerer Preis: 24451 EUR\n",
            "Im Mittel liegt die Preisschätzung um 6027.98€ oder 24.0% daneben (R²=0.294)\n",
            "\n",
            "Automarke Bmw\n",
            "Mittlerer Preis: 22878 EUR\n",
            "Im Mittel liegt die Preisschätzung um 5458.44€ oder 23.0% daneben (R²=0.483)\n",
            "\n",
            "Automarke Volkswagen\n",
            "Mittlerer Preis: 16757 EUR\n",
            "Im Mittel liegt die Preisschätzung um 3688.86€ oder 22.0% daneben (R²=0.564)\n",
            "\n",
            "Automarke Hyundai\n",
            "Mittlerer Preis: 12637 EUR\n",
            "Im Mittel liegt die Preisschätzung um 3090.64€ oder 24.0% daneben (R²=0.414)\n",
            "\n",
            "Automarke Ford\n",
            "Mittlerer Preis: 12557 EUR\n",
            "Im Mittel liegt die Preisschätzung um 2473.67€ oder 19.0% daneben (R²=0.475)\n",
            "\n",
            "Automarke Skoda\n",
            "Mittlerer Preis: 14351 EUR\n",
            "Im Mittel liegt die Preisschätzung um 3433.08€ oder 23.0% daneben (R²=0.513)\n",
            "\n",
            "Automarke Audi\n",
            "Mittlerer Preis: 22904 EUR\n",
            "Im Mittel liegt die Preisschätzung um 4634.56€ oder 20.0% daneben (R²=0.577)\n",
            "\n",
            "Automarke Opel\n",
            "Mittlerer Preis: 10450 EUR\n",
            "Im Mittel liegt die Preisschätzung um 2279.14€ oder 21.0% daneben (R²=0.305)\n",
            "\n",
            "Automarke Toyota\n",
            "Mittlerer Preis: 12426 EUR\n",
            "Im Mittel liegt die Preisschätzung um 2656.14€ oder 21.0% daneben (R²=0.525)\n"
          ]
        }
      ],
      "source": [
        "dtr_gs_all = DecisionTreeRegressor(max_depth=5, max_features='log2', max_leaf_nodes=30, min_samples_leaf=5, min_weight_fraction_leaf=0.1, splitter='best').fit(X_train, y_train)\n",
        "\n",
        "print(\"Alle Automarken: \")\n",
        "eval_model(dtr_gs_all, X_test, y_test)\n",
        "dtr_gs_companies = {}\n",
        "\n",
        "for name in companies:\n",
        "  dtr_gs_companies[name] = DecisionTreeRegressor(max_depth=5, max_features='log2', max_leaf_nodes=30, min_samples_leaf=5, min_weight_fraction_leaf=0.1, splitter='best').fit(companies_X_train[name], companies_y_train[name])\n",
        "  print(f\"\\nAutomarke {name}\")\n",
        "  eval_model(dtr_gs_companies[name], companies_X_test[name], companies_y_test[name])"
      ]
    },
    {
      "cell_type": "markdown",
      "metadata": {
        "id": "ynCKEVLD6VmC",
        "jp-MarkdownHeadingCollapsed": true
      },
      "source": [
        "### 4.1.4 Support Vector Regressor"
      ]
    },
    {
      "cell_type": "code",
      "execution_count": null,
      "metadata": {
        "colab": {
          "base_uri": "https://localhost:8080/"
        },
        "id": "mZYdf6ka6cQC",
        "outputId": "b22d974c-8cb6-41c7-88d8-8ca404ed6082"
      },
      "outputs": [
        {
          "name": "stdout",
          "output_type": "stream",
          "text": [
            "Fitting 5 folds for each of 8 candidates, totalling 40 fits\n",
            "{'C': 100, 'gamma': 'scale', 'kernel': 'rbf'}\n"
          ]
        }
      ],
      "source": [
        "param_grid = {\n",
        "    'C': [0.1, 1, 10, 100],\n",
        "    'gamma': ['scale', 'auto'],\n",
        "    'kernel': ['rbf']\n",
        "}\n",
        "\n",
        "svr_gs = GridSearchCV(svr_all, param_grid, cv = 5, verbose = 6, n_jobs=-1)\n",
        "svr_gs.fit(X_train, y_train)\n",
        "\n",
        "print(svr_gs.best_params_)"
      ]
    },
    {
      "cell_type": "code",
      "execution_count": null,
      "metadata": {
        "id": "xviumgQoHq7m",
        "outputId": "4dff25f8-01cd-4052-ccac-2a3bf9a4f82f"
      },
      "outputs": [
        {
          "name": "stdout",
          "output_type": "stream",
          "text": [
            "Alle Automarken: \n",
            "Mittlerer Preis: 16931 EUR\n",
            "Im Mittel liegt die Preisschätzung um 5853.30€ oder 34.0% daneben (R²=0.222)\n",
            "\n",
            "Automarke Mercedes\n",
            "Mittlerer Preis: 24451 EUR\n",
            "Im Mittel liegt die Preisschätzung um 5294.43€ oder 21.0% daneben (R²=0.328)\n",
            "\n",
            "Automarke Bmw\n",
            "Mittlerer Preis: 22878 EUR\n",
            "Im Mittel liegt die Preisschätzung um 5541.04€ oder 24.0% daneben (R²=0.400)\n",
            "\n",
            "Automarke Volkswagen\n",
            "Mittlerer Preis: 16757 EUR\n",
            "Im Mittel liegt die Preisschätzung um 4663.32€ oder 27.0% daneben (R²=0.322)\n",
            "\n",
            "Automarke Hyundai\n",
            "Mittlerer Preis: 12637 EUR\n",
            "Im Mittel liegt die Preisschätzung um 4110.72€ oder 32.0% daneben (R²=0.153)\n",
            "\n",
            "Automarke Ford\n",
            "Mittlerer Preis: 12557 EUR\n",
            "Im Mittel liegt die Preisschätzung um 2793.87€ oder 22.0% daneben (R²=0.349)\n",
            "\n",
            "Automarke Skoda\n",
            "Mittlerer Preis: 14351 EUR\n",
            "Im Mittel liegt die Preisschätzung um 4198.46€ oder 29.0% daneben (R²=0.286)\n",
            "\n",
            "Automarke Audi\n",
            "Mittlerer Preis: 22904 EUR\n",
            "Im Mittel liegt die Preisschätzung um 5949.30€ oder 25.0% daneben (R²=0.315)\n",
            "\n",
            "Automarke Opel\n",
            "Mittlerer Preis: 10450 EUR\n",
            "Im Mittel liegt die Preisschätzung um 2174.61€ oder 20.0% daneben (R²=0.375)\n",
            "\n",
            "Automarke Toyota\n",
            "Mittlerer Preis: 12426 EUR\n",
            "Im Mittel liegt die Preisschätzung um 4233.35€ oder 34.0% daneben (R²=-0.014)\n"
          ]
        }
      ],
      "source": [
        "svr_gs_all = SVR(C=100, gamma='scale', kernel='rbf').fit(X_train, y_train)\n",
        "\n",
        "print(\"Alle Automarken: \")\n",
        "eval_model(svr_gs_all, X_test, y_test)\n",
        "svr_gs_companies = {}\n",
        "\n",
        "for name in companies:\n",
        "  svr_gs_companies[name] = SVR(C=100, gamma='scale', kernel='rbf').fit(companies_X_train[name], companies_y_train[name])\n",
        "  print(f\"\\nAutomarke {name}\")\n",
        "  eval_model(svr_gs_companies[name], companies_X_test[name], companies_y_test[name])"
      ]
    },
    {
      "cell_type": "markdown",
      "metadata": {
        "id": "CxuksUCG7Hee",
        "jp-MarkdownHeadingCollapsed": true
      },
      "source": [
        "### 4.1.5 KNN Regressor"
      ]
    },
    {
      "cell_type": "code",
      "execution_count": null,
      "metadata": {
        "id": "50A4YbVd93FQ",
        "outputId": "8ed82558-d8af-4cbd-dd24-ccdc4477e812"
      },
      "outputs": [
        {
          "name": "stdout",
          "output_type": "stream",
          "text": [
            "Fitting 5 folds for each of 12 candidates, totalling 60 fits\n",
            "{'n_neighbors': 10, 'weights': 'distance'}\n"
          ]
        }
      ],
      "source": [
        "param_grid= {\n",
        "    'n_neighbors': [1,5,7,10,15,20],\n",
        "    'weights': ['uniform','distance']\n",
        "}\n",
        "\n",
        "knn_gs = GridSearchCV(knn_all, param_grid, cv = 5, verbose = 6, n_jobs=-1)\n",
        "knn_gs.fit(X_train, y_train)\n",
        "\n",
        "print(knn_gs.best_params_)"
      ]
    },
    {
      "cell_type": "code",
      "execution_count": null,
      "metadata": {
        "id": "UwkeKHBZH_ZF",
        "outputId": "6616fc91-e374-414d-9651-04a2644101ee"
      },
      "outputs": [
        {
          "name": "stdout",
          "output_type": "stream",
          "text": [
            "Alle Automarken: \n",
            "Mittlerer Preis: 16931 EUR\n",
            "Im Mittel liegt die Preisschätzung um 4970.35€ oder 29.0% daneben (R²=0.471)\n",
            "\n",
            "Automarke Mercedes\n",
            "Mittlerer Preis: 24451 EUR\n",
            "Im Mittel liegt die Preisschätzung um 4741.78€ oder 19.0% daneben (R²=0.516)\n",
            "\n",
            "Automarke Bmw\n",
            "Mittlerer Preis: 22878 EUR\n",
            "Im Mittel liegt die Preisschätzung um 5046.26€ oder 22.0% daneben (R²=0.559)\n",
            "\n",
            "Automarke Volkswagen\n",
            "Mittlerer Preis: 16757 EUR\n",
            "Im Mittel liegt die Preisschätzung um 3654.83€ oder 21.0% daneben (R²=0.579)\n",
            "\n",
            "Automarke Hyundai\n",
            "Mittlerer Preis: 12637 EUR\n",
            "Im Mittel liegt die Preisschätzung um 3851.40€ oder 30.0% daneben (R²=0.214)\n",
            "\n",
            "Automarke Ford\n",
            "Mittlerer Preis: 12557 EUR\n",
            "Im Mittel liegt die Preisschätzung um 2533.60€ oder 20.0% daneben (R²=0.452)\n",
            "\n",
            "Automarke Skoda\n",
            "Mittlerer Preis: 14351 EUR\n",
            "Im Mittel liegt die Preisschätzung um 3704.20€ oder 25.0% daneben (R²=0.452)\n",
            "\n",
            "Automarke Audi\n",
            "Mittlerer Preis: 22904 EUR\n",
            "Im Mittel liegt die Preisschätzung um 5177.81€ oder 22.0% daneben (R²=0.515)\n",
            "\n",
            "Automarke Opel\n",
            "Mittlerer Preis: 10450 EUR\n",
            "Im Mittel liegt die Preisschätzung um 1986.27€ oder 19.0% daneben (R²=0.424)\n",
            "\n",
            "Automarke Toyota\n",
            "Mittlerer Preis: 12426 EUR\n",
            "Im Mittel liegt die Preisschätzung um 4219.47€ oder 33.0% daneben (R²=0.124)\n"
          ]
        }
      ],
      "source": [
        "knn_gs_all = KNeighborsRegressor(n_neighbors=10, weights='distance').fit(X_train, y_train)\n",
        "\n",
        "print(\"Alle Automarken: \")\n",
        "eval_model(knn_gs_all, X_test, y_test)\n",
        "knn_gs_companies = {}\n",
        "\n",
        "for name in companies:\n",
        "  knn_gs_companies[name] = KNeighborsRegressor(n_neighbors=10, weights='distance').fit(companies_X_train[name], companies_y_train[name])\n",
        "  print(f\"\\nAutomarke {name}\")\n",
        "  eval_model(knn_gs_companies[name], companies_X_test[name], companies_y_test[name])"
      ]
    },
    {
      "cell_type": "markdown",
      "metadata": {
        "id": "HsVo7gwI7Pfe",
        "jp-MarkdownHeadingCollapsed": true
      },
      "source": [
        "## 4.2 Random Search"
      ]
    },
    {
      "cell_type": "markdown",
      "metadata": {
        "id": "sDLEGq-R7rEj"
      },
      "source": [
        "Random Search ist eine Methode des Hyperparameter-Tunings im maschinellen Lernen, die eine zufällige Suche über einen vordefinierten Suchraum von Hyperparameter-Kombinationen durchführt. Im Gegensatz zur systematischen Suche von GridSearch, die alle möglichen Kombinationen ausprobiert, wählt Random Search zufällig Hyperparameter-Werte aus dem Suchraum aus, um die optimale Kombination zu finden.\n",
        "Der Hauptvorteil von Random Search ist seine Effizienz bei der Suche nach guten Hyperparameter-Werten. Da Random Search zufällig Hyperparameter-Werte auswählt, kann es sein, dass in jedem Durchlauf eine zufällig günstige Kombination gefunden wird. Allerdings ist Random Search nicht garantiert, die besten Hyperparameter-Werte zu finden, da es auf zufälliger Auswahl basiert. Es kann sein, dass einige vielversprechende Kombinationen nicht berücksichtigt werden, und es besteht immer das Risiko, dass Random Search nicht das absolute Optimum findet."
      ]
    },
    {
      "cell_type": "markdown",
      "metadata": {
        "id": "aWnwGIObBBfq"
      },
      "source": [
        "1.estimator: Die Modellinstanz muss übergeben werden, für die Hyperparameter überprüft werden.\n",
        "\n",
        "2.params_grid: Das Dictionary-Objekt, das die Hyperparameter enthält\n",
        "\n",
        "3.n_iter: Anzahl der Parametereinstellungen, die abgetastet werden\n",
        "\n",
        "4.cv: Anzahl der Kreuzvalidierungen\n",
        "\n",
        "5.verbose: Detaillierter Ausdruck während GridSearchCV läuft\n",
        "\n",
        "6.random_state: Pseudozufallszahlengeneratorstatus, der für zufällige, gleichmäßige Stichproben aus Listen möglicher Werte anstelle von scipy.stats-Verteilungen verwendet wird."
      ]
    },
    {
      "cell_type": "code",
      "execution_count": null,
      "metadata": {
        "id": "xUcyWHR2AGYq"
      },
      "outputs": [],
      "source": [
        "from sklearn.model_selection import RandomizedSearchCV"
      ]
    },
    {
      "cell_type": "markdown",
      "metadata": {
        "id": "cMK9IQe78UNt",
        "jp-MarkdownHeadingCollapsed": true
      },
      "source": [
        "### 4.2.1 LinearRegression"
      ]
    },
    {
      "cell_type": "markdown",
      "metadata": {
        "id": "KyimyYK8AtIy"
      },
      "source": [
        "[Siehe 4.1.1](#scrollTo=uE1zyFsCwMeG&line=1&uniqifier=1)"
      ]
    },
    {
      "cell_type": "markdown",
      "metadata": {
        "id": "trV8jrHJ8ULl",
        "jp-MarkdownHeadingCollapsed": true
      },
      "source": [
        "### 4.2.2 Random Forest"
      ]
    },
    {
      "cell_type": "code",
      "execution_count": null,
      "metadata": {
        "id": "Zo93riKzAqux",
        "outputId": "e013f7e4-9034-4916-b16a-fd307d4defe3"
      },
      "outputs": [
        {
          "name": "stdout",
          "output_type": "stream",
          "text": [
            "{'n_estimators': 50, 'max_features': 'log2', 'max_depth': 20}\n"
          ]
        }
      ],
      "source": [
        "param_rs = {\n",
        "    'n_estimators': [10, 50, 100, 200],\n",
        "    'max_depth': [3, 10, 20, 40],\n",
        "    \"max_features\" : [\"log2\", \"sqrt\"]\n",
        "}\n",
        "\n",
        "rfr_rs = RandomizedSearchCV(estimator=rfr_all, param_distributions=param_rs, n_iter=10, cv=5, random_state=42, verbose=6)\n",
        "rfr_rs.fit(X_train, y_train)\n",
        "\n",
        "print(rfr_rs.best_params_)"
      ]
    },
    {
      "cell_type": "code",
      "execution_count": null,
      "metadata": {
        "id": "q5uXo4gkZf_y",
        "outputId": "ccd19e92-8692-46b8-8ca7-c914c305f21e"
      },
      "outputs": [
        {
          "name": "stdout",
          "output_type": "stream",
          "text": [
            "Alle Automarken: \n",
            "Mittlerer Preis: 16931 EUR\n",
            "Im Mittel liegt die Preisschätzung um 1748.24€ oder 10.0% daneben (R²=0.914)\n",
            "\n",
            "Automarke Mercedes\n",
            "Mittlerer Preis: 24451 EUR\n",
            "Im Mittel liegt die Preisschätzung um 2080.41€ oder 8.0% daneben (R²=0.895)\n",
            "\n",
            "Automarke Bmw\n",
            "Mittlerer Preis: 22878 EUR\n",
            "Im Mittel liegt die Preisschätzung um 2053.19€ oder 8.0% daneben (R²=0.918)\n",
            "\n",
            "Automarke Volkswagen\n",
            "Mittlerer Preis: 16757 EUR\n",
            "Im Mittel liegt die Preisschätzung um 1232.95€ oder 7.0% daneben (R²=0.943)\n",
            "\n",
            "Automarke Hyundai\n",
            "Mittlerer Preis: 12637 EUR\n",
            "Im Mittel liegt die Preisschätzung um 921.45€ oder 7.0% daneben (R²=0.827)\n",
            "\n",
            "Automarke Ford\n",
            "Mittlerer Preis: 12557 EUR\n",
            "Im Mittel liegt die Preisschätzung um 942.00€ oder 7.0% daneben (R²=0.915)\n",
            "\n",
            "Automarke Skoda\n",
            "Mittlerer Preis: 14351 EUR\n",
            "Im Mittel liegt die Preisschätzung um 1159.01€ oder 8.0% daneben (R²=0.938)\n",
            "\n",
            "Automarke Audi\n",
            "Mittlerer Preis: 22904 EUR\n",
            "Im Mittel liegt die Preisschätzung um 1828.12€ oder 7.0% daneben (R²=0.944)\n",
            "\n",
            "Automarke Opel\n",
            "Mittlerer Preis: 10450 EUR\n",
            "Im Mittel liegt die Preisschätzung um 812.06€ oder 7.0% daneben (R²=0.859)\n",
            "\n",
            "Automarke Toyota\n",
            "Mittlerer Preis: 12426 EUR\n",
            "Im Mittel liegt die Preisschätzung um 804.07€ oder 6.0% daneben (R²=0.958)\n"
          ]
        }
      ],
      "source": [
        "rfr_rs_all = RandomForestRegressor(n_estimators = 50, max_depth = 20, max_features = 'log2').fit(X_train, y_train)\n",
        "\n",
        "print(\"Alle Automarken: \")\n",
        "eval_model(rfr_rs_all, X_test, y_test)\n",
        "rfr_rs_companies = {}\n",
        "\n",
        "for name in companies:\n",
        "  rfr_rs_companies[name] = RandomForestRegressor(n_estimators = 50, max_depth = 20, max_features = 'log2').fit(companies_X_train[name], companies_y_train[name])\n",
        "  print(f\"\\nAutomarke {name}\")\n",
        "  eval_model(rfr_rs_companies[name], companies_X_test[name], companies_y_test[name])"
      ]
    },
    {
      "cell_type": "markdown",
      "metadata": {
        "id": "v9Pe69z18UIm",
        "jp-MarkdownHeadingCollapsed": true
      },
      "source": [
        "### 4.2.3 DecisionTreeRegressor"
      ]
    },
    {
      "cell_type": "code",
      "execution_count": null,
      "metadata": {
        "id": "CnOY42J9aioU",
        "outputId": "ee9e5905-8ab5-4175-fc4b-7e390e51b98d"
      },
      "outputs": [
        {
          "name": "stdout",
          "output_type": "stream",
          "text": [
            "{'splitter': 'best', 'min_weight_fraction_leaf': 0.1, 'min_samples_leaf': 10, 'max_leaf_nodes': 30, 'max_features': None, 'max_depth': 7}\n"
          ]
        }
      ],
      "source": [
        "param_rs = {\n",
        "    \"splitter\":[\"best\",\"random\"],\n",
        "    \"max_depth\" : [1,5,7,9,12],\n",
        "    \"min_samples_leaf\":[1,3,5,7,10],\n",
        "    \"min_weight_fraction_leaf\":[0.1,0.3,0.5],\n",
        "    \"max_features\":[\"log2\",\"sqrt\",None],\n",
        "    \"max_leaf_nodes\":[None,10,30,50]\n",
        "}\n",
        "\n",
        "dtr_rs = RandomizedSearchCV(estimator=dtr_all, param_distributions=param_rs, n_iter=10, cv=5, random_state=42, verbose=6)\n",
        "dtr_rs.fit(X_train, y_train)\n",
        "\n",
        "print(dtr_rs.best_params_)"
      ]
    },
    {
      "cell_type": "code",
      "execution_count": null,
      "metadata": {
        "id": "8nm2qCcCML_a",
        "outputId": "cbf8d041-154d-40ab-f8bf-039018796abd"
      },
      "outputs": [
        {
          "name": "stdout",
          "output_type": "stream",
          "text": [
            "Alle Automarken: \n",
            "Mittlerer Preis: 16931 EUR\n",
            "Im Mittel liegt die Preisschätzung um 4287.55€ oder 25.0% daneben (R²=0.520)\n",
            "\n",
            "Automarke Mercedes\n",
            "Mittlerer Preis: 24451 EUR\n",
            "Im Mittel liegt die Preisschätzung um 4997.48€ oder 20.0% daneben (R²=0.471)\n",
            "\n",
            "Automarke Bmw\n",
            "Mittlerer Preis: 22878 EUR\n",
            "Im Mittel liegt die Preisschätzung um 4720.45€ oder 20.0% daneben (R²=0.609)\n",
            "\n",
            "Automarke Volkswagen\n",
            "Mittlerer Preis: 16757 EUR\n",
            "Im Mittel liegt die Preisschätzung um 3338.15€ oder 19.0% daneben (R²=0.609)\n",
            "\n",
            "Automarke Hyundai\n",
            "Mittlerer Preis: 12637 EUR\n",
            "Im Mittel liegt die Preisschätzung um 2691.60€ oder 21.0% daneben (R²=0.514)\n",
            "\n",
            "Automarke Ford\n",
            "Mittlerer Preis: 12557 EUR\n",
            "Im Mittel liegt die Preisschätzung um 2068.44€ oder 16.0% daneben (R²=0.599)\n",
            "\n",
            "Automarke Skoda\n",
            "Mittlerer Preis: 14351 EUR\n",
            "Im Mittel liegt die Preisschätzung um 2935.14€ oder 20.0% daneben (R²=0.595)\n",
            "\n",
            "Automarke Audi\n",
            "Mittlerer Preis: 22904 EUR\n",
            "Im Mittel liegt die Preisschätzung um 4605.28€ oder 20.0% daneben (R²=0.574)\n",
            "\n",
            "Automarke Opel\n",
            "Mittlerer Preis: 10450 EUR\n",
            "Im Mittel liegt die Preisschätzung um 1741.00€ oder 16.0% daneben (R²=0.558)\n",
            "\n",
            "Automarke Toyota\n",
            "Mittlerer Preis: 12426 EUR\n",
            "Im Mittel liegt die Preisschätzung um 2237.13€ oder 18.0% daneben (R²=0.701)\n"
          ]
        }
      ],
      "source": [
        "dtr_rs_all = DecisionTreeRegressor(splitter='best', min_weight_fraction_leaf=0.1, min_samples_leaf=10, max_leaf_nodes=30, max_features=None, max_depth=7).fit(X_train, y_train)\n",
        "\n",
        "print(\"Alle Automarken: \")\n",
        "eval_model(dtr_rs_all, X_test, y_test)\n",
        "dtr_rs_companies = {}\n",
        "\n",
        "for name in companies:\n",
        "  dtr_rs_companies[name] = DecisionTreeRegressor(splitter='best', min_weight_fraction_leaf=0.1, min_samples_leaf=10, max_leaf_nodes=30, max_features=None, max_depth=7).fit(companies_X_train[name], companies_y_train[name])\n",
        "  print(f\"\\nAutomarke {name}\")\n",
        "  eval_model(dtr_rs_companies[name], companies_X_test[name], companies_y_test[name])"
      ]
    },
    {
      "cell_type": "markdown",
      "metadata": {
        "id": "hlgKTRnM8UAd",
        "jp-MarkdownHeadingCollapsed": true
      },
      "source": [
        "### 4.2.4 Support Vector Regressor"
      ]
    },
    {
      "cell_type": "code",
      "execution_count": null,
      "metadata": {
        "id": "cEoPPKXgML_c",
        "outputId": "7e4070ab-3aa9-44b5-eb26-7f05b59ed0a0"
      },
      "outputs": [
        {
          "data": {
            "text/plain": [
              "18995"
            ]
          },
          "execution_count": 61,
          "metadata": {},
          "output_type": "execute_result"
        }
      ],
      "source": [
        "X_train_splitted = np.array_split(X_train, 4)\n",
        "y_train_splitted = np.array_split(y_train, 4)\n",
        "len(X_train_splitted[0])"
      ]
    },
    {
      "cell_type": "code",
      "execution_count": null,
      "metadata": {
        "editable": true,
        "scrolled": true,
        "tags": [],
        "id": "taOHGzFrML_d",
        "outputId": "e3384d8e-b25f-478b-fa1e-5c837b2bca44"
      },
      "outputs": [
        {
          "name": "stdout",
          "output_type": "stream",
          "text": [
            "Fitting 5 folds for each of 8 candidates, totalling 40 fits\n",
            "[CV 1/5] END ...C=0.1, gamma=scale, kernel=rbf;, score=-0.029 total time=  14.3s\n",
            "[CV 2/5] END ...C=0.1, gamma=scale, kernel=rbf;, score=-0.036 total time=  14.2s\n",
            "[CV 3/5] END ...C=0.1, gamma=scale, kernel=rbf;, score=-0.055 total time=  15.6s\n",
            "[CV 4/5] END ...C=0.1, gamma=scale, kernel=rbf;, score=-0.041 total time=  14.9s\n",
            "[CV 5/5] END ...C=0.1, gamma=scale, kernel=rbf;, score=-0.028 total time=  14.6s\n",
            "[CV 1/5] END ....C=0.1, gamma=auto, kernel=rbf;, score=-0.040 total time=  21.8s\n",
            "[CV 2/5] END ....C=0.1, gamma=auto, kernel=rbf;, score=-0.047 total time=  22.8s\n",
            "[CV 3/5] END ....C=0.1, gamma=auto, kernel=rbf;, score=-0.067 total time=  21.4s\n",
            "[CV 4/5] END ....C=0.1, gamma=auto, kernel=rbf;, score=-0.056 total time=  21.6s\n",
            "[CV 5/5] END ....C=0.1, gamma=auto, kernel=rbf;, score=-0.037 total time=  21.1s\n",
            "[CV 1/5] END ......C=1, gamma=scale, kernel=rbf;, score=0.042 total time=  14.4s\n",
            "[CV 2/5] END ......C=1, gamma=scale, kernel=rbf;, score=0.036 total time=  14.4s\n",
            "[CV 3/5] END ......C=1, gamma=scale, kernel=rbf;, score=0.015 total time=  14.6s\n",
            "[CV 4/5] END ......C=1, gamma=scale, kernel=rbf;, score=0.026 total time=  14.6s\n",
            "[CV 5/5] END ......C=1, gamma=scale, kernel=rbf;, score=0.032 total time=  14.5s\n",
            "[CV 1/5] END ......C=1, gamma=auto, kernel=rbf;, score=-0.040 total time=  21.2s\n",
            "[CV 2/5] END ......C=1, gamma=auto, kernel=rbf;, score=-0.047 total time=  21.3s\n",
            "[CV 3/5] END ......C=1, gamma=auto, kernel=rbf;, score=-0.067 total time=  21.2s\n",
            "[CV 4/5] END ......C=1, gamma=auto, kernel=rbf;, score=-0.055 total time=  21.1s\n",
            "[CV 5/5] END ......C=1, gamma=auto, kernel=rbf;, score=-0.037 total time=  21.3s\n",
            "[CV 1/5] END .....C=10, gamma=scale, kernel=rbf;, score=0.175 total time=  14.2s\n",
            "[CV 2/5] END .....C=10, gamma=scale, kernel=rbf;, score=0.172 total time=  14.2s\n",
            "[CV 3/5] END .....C=10, gamma=scale, kernel=rbf;, score=0.150 total time=  14.1s\n",
            "[CV 4/5] END .....C=10, gamma=scale, kernel=rbf;, score=0.158 total time=  14.1s\n",
            "[CV 5/5] END .....C=10, gamma=scale, kernel=rbf;, score=0.148 total time=  14.1s\n",
            "[CV 1/5] END .....C=10, gamma=auto, kernel=rbf;, score=-0.039 total time=  21.0s\n",
            "[CV 2/5] END .....C=10, gamma=auto, kernel=rbf;, score=-0.046 total time=  21.2s\n",
            "[CV 3/5] END .....C=10, gamma=auto, kernel=rbf;, score=-0.066 total time=  21.1s\n",
            "[CV 4/5] END .....C=10, gamma=auto, kernel=rbf;, score=-0.055 total time=  21.2s\n",
            "[CV 5/5] END .....C=10, gamma=auto, kernel=rbf;, score=-0.037 total time=  21.6s\n",
            "[CV 1/5] END ....C=100, gamma=scale, kernel=rbf;, score=0.238 total time=  14.0s\n",
            "[CV 2/5] END ....C=100, gamma=scale, kernel=rbf;, score=0.227 total time=  14.0s\n",
            "[CV 3/5] END ....C=100, gamma=scale, kernel=rbf;, score=0.205 total time=  14.0s\n",
            "[CV 4/5] END ....C=100, gamma=scale, kernel=rbf;, score=0.217 total time=  13.9s\n",
            "[CV 5/5] END ....C=100, gamma=scale, kernel=rbf;, score=0.199 total time=  13.9s\n",
            "[CV 1/5] END ....C=100, gamma=auto, kernel=rbf;, score=-0.034 total time=  21.1s\n",
            "[CV 2/5] END ....C=100, gamma=auto, kernel=rbf;, score=-0.041 total time=  21.2s\n",
            "[CV 3/5] END ....C=100, gamma=auto, kernel=rbf;, score=-0.057 total time=  21.3s\n",
            "[CV 4/5] END ....C=100, gamma=auto, kernel=rbf;, score=-0.046 total time=  21.7s\n",
            "[CV 5/5] END ....C=100, gamma=auto, kernel=rbf;, score=-0.030 total time=  21.6s\n",
            "{'C': 100, 'gamma': 'scale', 'kernel': 'rbf'}\n"
          ]
        }
      ],
      "source": [
        "param_rs = {\n",
        "    'C': [0.1, 1, 10, 100],\n",
        "    'gamma': ['scale', 'auto'],\n",
        "    'kernel': ['rbf']\n",
        "}\n",
        "\n",
        "svr_rs = RandomizedSearchCV(estimator=svr_all, param_distributions=param_rs, n_iter=8, cv=5, random_state=42, verbose=6)\n",
        "svr_rs.fit(X_train_splitted[0], y_train_splitted[0])\n",
        "\n",
        "print(svr_gs.best_params_)"
      ]
    },
    {
      "cell_type": "code",
      "execution_count": null,
      "metadata": {
        "id": "4zA7J1rsML_d",
        "outputId": "ef2340c0-2188-43f0-d97c-a5903276df3b"
      },
      "outputs": [
        {
          "name": "stdout",
          "output_type": "stream",
          "text": [
            "Alle Automarken: \n",
            "Mittlerer Preis: 16931 EUR\n",
            "Im Mittel liegt die Preisschätzung um 5853.30€ oder 34.0% daneben (R²=0.222)\n",
            "\n",
            "Automarke Mercedes\n",
            "Mittlerer Preis: 24451 EUR\n",
            "Im Mittel liegt die Preisschätzung um 5294.43€ oder 21.0% daneben (R²=0.328)\n",
            "\n",
            "Automarke Bmw\n",
            "Mittlerer Preis: 22878 EUR\n",
            "Im Mittel liegt die Preisschätzung um 5541.04€ oder 24.0% daneben (R²=0.400)\n",
            "\n",
            "Automarke Volkswagen\n",
            "Mittlerer Preis: 16757 EUR\n",
            "Im Mittel liegt die Preisschätzung um 4663.32€ oder 27.0% daneben (R²=0.322)\n",
            "\n",
            "Automarke Hyundai\n",
            "Mittlerer Preis: 12637 EUR\n",
            "Im Mittel liegt die Preisschätzung um 4110.72€ oder 32.0% daneben (R²=0.153)\n",
            "\n",
            "Automarke Ford\n",
            "Mittlerer Preis: 12557 EUR\n",
            "Im Mittel liegt die Preisschätzung um 2793.87€ oder 22.0% daneben (R²=0.349)\n",
            "\n",
            "Automarke Skoda\n",
            "Mittlerer Preis: 14351 EUR\n",
            "Im Mittel liegt die Preisschätzung um 4198.46€ oder 29.0% daneben (R²=0.286)\n",
            "\n",
            "Automarke Audi\n",
            "Mittlerer Preis: 22904 EUR\n",
            "Im Mittel liegt die Preisschätzung um 5949.30€ oder 25.0% daneben (R²=0.315)\n",
            "\n",
            "Automarke Opel\n",
            "Mittlerer Preis: 10450 EUR\n",
            "Im Mittel liegt die Preisschätzung um 2174.61€ oder 20.0% daneben (R²=0.375)\n",
            "\n",
            "Automarke Toyota\n",
            "Mittlerer Preis: 12426 EUR\n",
            "Im Mittel liegt die Preisschätzung um 4233.35€ oder 34.0% daneben (R²=-0.014)\n"
          ]
        }
      ],
      "source": [
        "svr_rs_all = SVR(C=100, gamma='scale', kernel='rbf').fit(X_train, y_train)\n",
        "\n",
        "print(\"Alle Automarken: \")\n",
        "eval_model(svr_rs_all, X_test, y_test)\n",
        "svr_rs_companies = {}\n",
        "\n",
        "for name in companies:\n",
        "  svr_rs_companies[name] = SVR(C=100, gamma='scale', kernel='rbf').fit(companies_X_train[name], companies_y_train[name])\n",
        "  print(f\"\\nAutomarke {name}\")\n",
        "  eval_model(svr_rs_companies[name], companies_X_test[name], companies_y_test[name])"
      ]
    },
    {
      "cell_type": "markdown",
      "metadata": {
        "id": "kPytpKvF8lZ_",
        "jp-MarkdownHeadingCollapsed": true
      },
      "source": [
        "### 4.2.5 KNN Regressor"
      ]
    },
    {
      "cell_type": "code",
      "execution_count": null,
      "metadata": {
        "id": "sa-E31koML_e",
        "outputId": "476e9768-765a-452b-ee62-9d2da61660db"
      },
      "outputs": [
        {
          "name": "stdout",
          "output_type": "stream",
          "text": [
            "Fitting 5 folds for each of 10 candidates, totalling 50 fits\n",
            "[CV 1/5] END ...n_neighbors=20, weights=uniform;, score=0.413 total time=   0.2s\n",
            "[CV 2/5] END ...n_neighbors=20, weights=uniform;, score=0.415 total time=   0.3s\n",
            "[CV 3/5] END ...n_neighbors=20, weights=uniform;, score=0.412 total time=   0.2s\n",
            "[CV 4/5] END ...n_neighbors=20, weights=uniform;, score=0.410 total time=   0.2s\n",
            "[CV 5/5] END ...n_neighbors=20, weights=uniform;, score=0.394 total time=   0.2s\n",
            "[CV 1/5] END ..n_neighbors=15, weights=distance;, score=0.462 total time=   0.2s\n",
            "[CV 2/5] END ..n_neighbors=15, weights=distance;, score=0.466 total time=   0.2s\n",
            "[CV 3/5] END ..n_neighbors=15, weights=distance;, score=0.464 total time=   0.2s\n",
            "[CV 4/5] END ..n_neighbors=15, weights=distance;, score=0.453 total time=   0.2s\n",
            "[CV 5/5] END ..n_neighbors=15, weights=distance;, score=0.443 total time=   0.2s\n",
            "[CV 1/5] END ....n_neighbors=1, weights=uniform;, score=0.153 total time=   0.2s\n",
            "[CV 2/5] END ....n_neighbors=1, weights=uniform;, score=0.212 total time=   0.2s\n",
            "[CV 3/5] END ....n_neighbors=1, weights=uniform;, score=0.209 total time=   0.2s\n",
            "[CV 4/5] END ....n_neighbors=1, weights=uniform;, score=0.200 total time=   0.2s\n",
            "[CV 5/5] END ....n_neighbors=1, weights=uniform;, score=0.190 total time=   0.2s\n",
            "[CV 1/5] END ...n_neighbors=15, weights=uniform;, score=0.425 total time=   0.2s\n",
            "[CV 2/5] END ...n_neighbors=15, weights=uniform;, score=0.427 total time=   0.2s\n",
            "[CV 3/5] END ...n_neighbors=15, weights=uniform;, score=0.423 total time=   0.2s\n",
            "[CV 4/5] END ...n_neighbors=15, weights=uniform;, score=0.417 total time=   0.2s\n",
            "[CV 5/5] END ...n_neighbors=15, weights=uniform;, score=0.403 total time=   0.2s\n",
            "[CV 1/5] END ...n_neighbors=7, weights=distance;, score=0.454 total time=   0.2s\n",
            "[CV 2/5] END ...n_neighbors=7, weights=distance;, score=0.463 total time=   0.2s\n",
            "[CV 3/5] END ...n_neighbors=7, weights=distance;, score=0.464 total time=   0.2s\n",
            "[CV 4/5] END ...n_neighbors=7, weights=distance;, score=0.453 total time=   0.2s\n",
            "[CV 5/5] END ...n_neighbors=7, weights=distance;, score=0.440 total time=   0.2s\n",
            "[CV 1/5] END ....n_neighbors=5, weights=uniform;, score=0.426 total time=   0.2s\n",
            "[CV 2/5] END ....n_neighbors=5, weights=uniform;, score=0.434 total time=   0.2s\n",
            "[CV 3/5] END ....n_neighbors=5, weights=uniform;, score=0.434 total time=   0.2s\n",
            "[CV 4/5] END ....n_neighbors=5, weights=uniform;, score=0.426 total time=   0.2s\n",
            "[CV 5/5] END ....n_neighbors=5, weights=uniform;, score=0.407 total time=   0.2s\n",
            "[CV 1/5] END ...n_neighbors=1, weights=distance;, score=0.153 total time=   0.2s\n",
            "[CV 2/5] END ...n_neighbors=1, weights=distance;, score=0.212 total time=   0.2s\n",
            "[CV 3/5] END ...n_neighbors=1, weights=distance;, score=0.209 total time=   0.2s\n",
            "[CV 4/5] END ...n_neighbors=1, weights=distance;, score=0.200 total time=   0.2s\n",
            "[CV 5/5] END ...n_neighbors=1, weights=distance;, score=0.190 total time=   0.2s\n",
            "[CV 1/5] END ..n_neighbors=20, weights=distance;, score=0.456 total time=   0.3s\n",
            "[CV 2/5] END ..n_neighbors=20, weights=distance;, score=0.460 total time=   0.2s\n",
            "[CV 3/5] END ..n_neighbors=20, weights=distance;, score=0.459 total time=   0.3s\n",
            "[CV 4/5] END ..n_neighbors=20, weights=distance;, score=0.449 total time=   0.2s\n",
            "[CV 5/5] END ..n_neighbors=20, weights=distance;, score=0.439 total time=   0.2s\n",
            "[CV 1/5] END ....n_neighbors=7, weights=uniform;, score=0.432 total time=   0.2s\n",
            "[CV 2/5] END ....n_neighbors=7, weights=uniform;, score=0.438 total time=   0.2s\n",
            "[CV 3/5] END ....n_neighbors=7, weights=uniform;, score=0.440 total time=   0.2s\n",
            "[CV 4/5] END ....n_neighbors=7, weights=uniform;, score=0.431 total time=   0.2s\n",
            "[CV 5/5] END ....n_neighbors=7, weights=uniform;, score=0.414 total time=   0.2s\n",
            "[CV 1/5] END ..n_neighbors=10, weights=distance;, score=0.462 total time=   0.2s\n",
            "[CV 2/5] END ..n_neighbors=10, weights=distance;, score=0.469 total time=   0.2s\n",
            "[CV 3/5] END ..n_neighbors=10, weights=distance;, score=0.468 total time=   0.2s\n",
            "[CV 4/5] END ..n_neighbors=10, weights=distance;, score=0.456 total time=   0.2s\n",
            "[CV 5/5] END ..n_neighbors=10, weights=distance;, score=0.442 total time=   0.2s\n",
            "{'weights': 'distance', 'n_neighbors': 10}\n"
          ]
        }
      ],
      "source": [
        "param_rs = {\n",
        "    'n_neighbors': [1,5,7,10,15,20],\n",
        "    'weights': ['uniform','distance']\n",
        "}\n",
        "\n",
        "knn_rs = RandomizedSearchCV(estimator=knn_all, param_distributions=param_rs, n_iter=10, cv=5, random_state=42, verbose=6)\n",
        "knn_rs.fit(X_train, y_train)\n",
        "\n",
        "print(knn_rs.best_params_)"
      ]
    },
    {
      "cell_type": "code",
      "execution_count": null,
      "metadata": {
        "editable": true,
        "tags": [],
        "id": "WsLnTJcrML_e",
        "outputId": "0d6f2bb9-e838-4784-bd03-29b3b928f47e"
      },
      "outputs": [
        {
          "name": "stdout",
          "output_type": "stream",
          "text": [
            "Alle Automarken: \n",
            "Mittlerer Preis: 16931 EUR\n",
            "Im Mittel liegt die Preisschätzung um 4970.35€ oder 29.0% daneben (R²=0.471)\n",
            "\n",
            "Automarke Mercedes\n",
            "Mittlerer Preis: 24451 EUR\n",
            "Im Mittel liegt die Preisschätzung um 4741.78€ oder 19.0% daneben (R²=0.516)\n",
            "\n",
            "Automarke Bmw\n",
            "Mittlerer Preis: 22878 EUR\n",
            "Im Mittel liegt die Preisschätzung um 5046.26€ oder 22.0% daneben (R²=0.559)\n",
            "\n",
            "Automarke Volkswagen\n",
            "Mittlerer Preis: 16757 EUR\n",
            "Im Mittel liegt die Preisschätzung um 3654.83€ oder 21.0% daneben (R²=0.579)\n",
            "\n",
            "Automarke Hyundai\n",
            "Mittlerer Preis: 12637 EUR\n",
            "Im Mittel liegt die Preisschätzung um 3851.40€ oder 30.0% daneben (R²=0.214)\n",
            "\n",
            "Automarke Ford\n",
            "Mittlerer Preis: 12557 EUR\n",
            "Im Mittel liegt die Preisschätzung um 2533.60€ oder 20.0% daneben (R²=0.452)\n",
            "\n",
            "Automarke Skoda\n",
            "Mittlerer Preis: 14351 EUR\n",
            "Im Mittel liegt die Preisschätzung um 3704.20€ oder 25.0% daneben (R²=0.452)\n",
            "\n",
            "Automarke Audi\n",
            "Mittlerer Preis: 22904 EUR\n",
            "Im Mittel liegt die Preisschätzung um 5177.81€ oder 22.0% daneben (R²=0.515)\n",
            "\n",
            "Automarke Opel\n",
            "Mittlerer Preis: 10450 EUR\n",
            "Im Mittel liegt die Preisschätzung um 1986.27€ oder 19.0% daneben (R²=0.424)\n",
            "\n",
            "Automarke Toyota\n",
            "Mittlerer Preis: 12426 EUR\n",
            "Im Mittel liegt die Preisschätzung um 4219.47€ oder 33.0% daneben (R²=0.124)\n"
          ]
        }
      ],
      "source": [
        "knn_rs_all = KNeighborsRegressor(weights='distance', n_neighbors=10).fit(X_train, y_train)\n",
        "\n",
        "print(\"Alle Automarken: \")\n",
        "eval_model(knn_rs_all, X_test, y_test)\n",
        "knn_rs_companies = {}\n",
        "\n",
        "for name in companies:\n",
        "  knn_rs_companies[name] = KNeighborsRegressor(weights='distance', n_neighbors=10).fit(companies_X_train[name], companies_y_train[name])\n",
        "  print(f\"\\nAutomarke {name}\")\n",
        "  eval_model(knn_rs_companies[name], companies_X_test[name], companies_y_test[name])"
      ]
    },
    {
      "cell_type": "markdown",
      "metadata": {
        "id": "dv45IPnw83Hu",
        "jp-MarkdownHeadingCollapsed": true
      },
      "source": [
        "## 4.3 Bayesian optimization"
      ]
    },
    {
      "cell_type": "markdown",
      "metadata": {
        "id": "MaTpAKCU_4ZH"
      },
      "source": [
        "Bayesian Optimization ist eine fortschrittliche Methode des Hyperparameter-Tunings im maschinellen Lernen, die auf bayesianischen Wahrscheinlichkeitsmodellen basiert. Im Gegensatz zu GridSearch und Random Search, die eine systematische oder zufällige Suche durchführen, versucht Bayesian Optimization, eine gezielte und effiziente Suche nach den besten Hyperparameter-Werten zu ermöglichen.\n",
        "\n",
        "Bayesian Optimization ist eine effiziente Methode des Hyperparameter-Tunings, da sie dazu neigt, aussichtsreiche Regionen des Suchraums zu erkennen und sich auf relevante Hyperparameter-Werte zu konzentrieren. Dies macht sie besonders gut für komplexe Modelle oder große Suchräume, wo die systematische GridSearch oder die zufällige Random Search zeitaufwändig oder unpraktisch sein könnten."
      ]
    },
    {
      "cell_type": "code",
      "execution_count": null,
      "metadata": {
        "id": "TEOe6dZVWvI3"
      },
      "outputs": [],
      "source": [
        "from skopt import BayesSearchCV"
      ]
    },
    {
      "cell_type": "markdown",
      "metadata": {
        "id": "XVI6ZLkc9Ba-",
        "jp-MarkdownHeadingCollapsed": true
      },
      "source": [
        "### 4.3.1 LinearRegression"
      ]
    },
    {
      "cell_type": "markdown",
      "metadata": {
        "id": "ip7KJUuINYTF"
      },
      "source": [
        "[Siehe 4.1.1](#scrollTo=uE1zyFsCwMeG&line=1&uniqifier=1)"
      ]
    },
    {
      "cell_type": "markdown",
      "metadata": {
        "id": "2rKEWDIY9ERu",
        "jp-MarkdownHeadingCollapsed": true
      },
      "source": [
        "### 4.3.2 Random Forest"
      ]
    },
    {
      "cell_type": "code",
      "execution_count": null,
      "metadata": {
        "id": "ueOBoO58XC4Y",
        "scrolled": true,
        "outputId": "14d3a877-80d5-4b54-c6a4-b24a5f29dbf8"
      },
      "outputs": [
        {
          "name": "stdout",
          "output_type": "stream",
          "text": [
            "Fitting 5 folds for each of 1 candidates, totalling 5 fits\n",
            "[CV 1/5] END max_depth=10, max_features=log2, n_estimators=50;, score=0.892 total time=   2.2s\n",
            "[CV 2/5] END max_depth=10, max_features=log2, n_estimators=50;, score=0.885 total time=   2.1s\n",
            "[CV 3/5] END max_depth=10, max_features=log2, n_estimators=50;, score=0.889 total time=   2.3s\n",
            "[CV 4/5] END max_depth=10, max_features=log2, n_estimators=50;, score=0.870 total time=   2.2s\n",
            "[CV 5/5] END max_depth=10, max_features=log2, n_estimators=50;, score=0.871 total time=   2.2s\n",
            "Fitting 5 folds for each of 1 candidates, totalling 5 fits\n",
            "[CV 1/5] END max_depth=20, max_features=sqrt, n_estimators=100;, score=0.923 total time=  13.4s\n",
            "[CV 2/5] END max_depth=20, max_features=sqrt, n_estimators=100;, score=0.913 total time=  13.2s\n",
            "[CV 3/5] END max_depth=20, max_features=sqrt, n_estimators=100;, score=0.921 total time=  14.4s\n",
            "[CV 4/5] END max_depth=20, max_features=sqrt, n_estimators=100;, score=0.900 total time=  14.2s\n",
            "[CV 5/5] END max_depth=20, max_features=sqrt, n_estimators=100;, score=0.899 total time=  13.8s\n",
            "Fitting 5 folds for each of 1 candidates, totalling 5 fits\n",
            "[CV 1/5] END max_depth=10, max_features=sqrt, n_estimators=100;, score=0.893 total time=   4.8s\n",
            "[CV 2/5] END max_depth=10, max_features=sqrt, n_estimators=100;, score=0.885 total time=   4.9s\n",
            "[CV 3/5] END max_depth=10, max_features=sqrt, n_estimators=100;, score=0.890 total time=   5.4s\n",
            "[CV 4/5] END max_depth=10, max_features=sqrt, n_estimators=100;, score=0.871 total time=   4.9s\n",
            "[CV 5/5] END max_depth=10, max_features=sqrt, n_estimators=100;, score=0.871 total time=   4.9s\n",
            "Fitting 5 folds for each of 1 candidates, totalling 5 fits\n",
            "[CV 1/5] END max_depth=3, max_features=sqrt, n_estimators=100;, score=0.706 total time=   1.5s\n",
            "[CV 2/5] END max_depth=3, max_features=sqrt, n_estimators=100;, score=0.698 total time=   1.5s\n",
            "[CV 3/5] END max_depth=3, max_features=sqrt, n_estimators=100;, score=0.701 total time=   1.5s\n",
            "[CV 4/5] END max_depth=3, max_features=sqrt, n_estimators=100;, score=0.690 total time=   1.6s\n",
            "[CV 5/5] END max_depth=3, max_features=sqrt, n_estimators=100;, score=0.694 total time=   1.5s\n",
            "Fitting 5 folds for each of 1 candidates, totalling 5 fits\n",
            "[CV 1/5] END max_depth=20, max_features=sqrt, n_estimators=50;, score=0.922 total time=   7.3s\n",
            "[CV 2/5] END max_depth=20, max_features=sqrt, n_estimators=50;, score=0.913 total time=   7.1s\n",
            "[CV 3/5] END max_depth=20, max_features=sqrt, n_estimators=50;, score=0.918 total time=   6.7s\n",
            "[CV 4/5] END max_depth=20, max_features=sqrt, n_estimators=50;, score=0.899 total time=   7.2s\n",
            "[CV 5/5] END max_depth=20, max_features=sqrt, n_estimators=50;, score=0.900 total time=   6.6s\n",
            "Fitting 5 folds for each of 1 candidates, totalling 5 fits\n",
            "[CV 1/5] END max_depth=10, max_features=log2, n_estimators=50;, score=0.894 total time=   2.6s\n",
            "[CV 2/5] END max_depth=10, max_features=log2, n_estimators=50;, score=0.886 total time=   2.6s\n",
            "[CV 3/5] END max_depth=10, max_features=log2, n_estimators=50;, score=0.889 total time=   2.4s\n",
            "[CV 4/5] END max_depth=10, max_features=log2, n_estimators=50;, score=0.872 total time=   2.4s\n",
            "[CV 5/5] END max_depth=10, max_features=log2, n_estimators=50;, score=0.872 total time=   2.6s\n",
            "Fitting 5 folds for each of 1 candidates, totalling 5 fits\n",
            "[CV 1/5] END max_depth=40, max_features=log2, n_estimators=100;, score=0.917 total time=  18.4s\n",
            "[CV 2/5] END max_depth=40, max_features=log2, n_estimators=100;, score=0.909 total time=  17.8s\n",
            "[CV 3/5] END max_depth=40, max_features=log2, n_estimators=100;, score=0.915 total time=  17.2s\n",
            "[CV 4/5] END max_depth=40, max_features=log2, n_estimators=100;, score=0.896 total time=  17.5s\n",
            "[CV 5/5] END max_depth=40, max_features=log2, n_estimators=100;, score=0.896 total time=  20.2s\n",
            "Fitting 5 folds for each of 1 candidates, totalling 5 fits\n",
            "[CV 1/5] END max_depth=20, max_features=log2, n_estimators=100;, score=0.922 total time=  14.6s\n",
            "[CV 2/5] END max_depth=20, max_features=log2, n_estimators=100;, score=0.912 total time=  13.7s\n",
            "[CV 3/5] END max_depth=20, max_features=log2, n_estimators=100;, score=0.920 total time=  13.4s\n",
            "[CV 4/5] END max_depth=20, max_features=log2, n_estimators=100;, score=0.900 total time=  12.9s\n",
            "[CV 5/5] END max_depth=20, max_features=log2, n_estimators=100;, score=0.898 total time=  13.1s\n",
            "Fitting 5 folds for each of 1 candidates, totalling 5 fits\n",
            "[CV 1/5] END max_depth=40, max_features=sqrt, n_estimators=100;, score=0.918 total time=  17.0s\n",
            "[CV 2/5] END max_depth=40, max_features=sqrt, n_estimators=100;, score=0.910 total time=  17.4s\n",
            "[CV 3/5] END max_depth=40, max_features=sqrt, n_estimators=100;, score=0.915 total time=  17.2s\n",
            "[CV 4/5] END max_depth=40, max_features=sqrt, n_estimators=100;, score=0.898 total time=  17.6s\n",
            "[CV 5/5] END max_depth=40, max_features=sqrt, n_estimators=100;, score=0.894 total time=  17.1s\n",
            "Fitting 5 folds for each of 1 candidates, totalling 5 fits\n",
            "[CV 1/5] END max_depth=10, max_features=log2, n_estimators=50;, score=0.891 total time=   2.2s\n",
            "[CV 2/5] END max_depth=10, max_features=log2, n_estimators=50;, score=0.884 total time=   2.1s\n",
            "[CV 3/5] END max_depth=10, max_features=log2, n_estimators=50;, score=0.889 total time=   2.1s\n",
            "[CV 4/5] END max_depth=10, max_features=log2, n_estimators=50;, score=0.869 total time=   2.1s\n",
            "[CV 5/5] END max_depth=10, max_features=log2, n_estimators=50;, score=0.869 total time=   2.1s\n",
            "OrderedDict([('max_depth', 20), ('max_features', 'sqrt'), ('n_estimators', 100)])\n"
          ]
        }
      ],
      "source": [
        "param_bayes = {\n",
        "    'n_estimators': [10, 50, 100, 200],\n",
        "    'max_depth': [3, 10, 20, 40],\n",
        "    \"max_features\" : [\"log2\", \"sqrt\"]\n",
        "}\n",
        "\n",
        "bayes_search = BayesSearchCV(estimator=rfr_all, search_spaces=param_bayes, n_iter=10, cv=5, verbose=6, random_state=42)\n",
        "bayes_search.fit(X_train, y_train)\n",
        "\n",
        "print(bayes_search.best_params_)"
      ]
    },
    {
      "cell_type": "code",
      "execution_count": null,
      "metadata": {
        "id": "DX5uhN0LML_i",
        "outputId": "b4f13bc4-2e75-46c1-befb-4917bb1bcc48"
      },
      "outputs": [
        {
          "name": "stdout",
          "output_type": "stream",
          "text": [
            "Alle Automarken: \n",
            "Mittlerer Preis: 16931 EUR\n",
            "Im Mittel liegt die Preisschätzung um 1743.65€ oder 10.0% daneben (R²=0.914)\n",
            "\n",
            "Automarke Mercedes\n",
            "Mittlerer Preis: 24451 EUR\n",
            "Im Mittel liegt die Preisschätzung um 2056.74€ oder 8.0% daneben (R²=0.897)\n",
            "\n",
            "Automarke Bmw\n",
            "Mittlerer Preis: 22878 EUR\n",
            "Im Mittel liegt die Preisschätzung um 2037.63€ oder 8.0% daneben (R²=0.918)\n",
            "\n",
            "Automarke Volkswagen\n",
            "Mittlerer Preis: 16757 EUR\n",
            "Im Mittel liegt die Preisschätzung um 1225.41€ oder 7.0% daneben (R²=0.944)\n",
            "\n",
            "Automarke Hyundai\n",
            "Mittlerer Preis: 12637 EUR\n",
            "Im Mittel liegt die Preisschätzung um 909.39€ oder 7.0% daneben (R²=0.827)\n",
            "\n",
            "Automarke Ford\n",
            "Mittlerer Preis: 12557 EUR\n",
            "Im Mittel liegt die Preisschätzung um 936.87€ oder 7.0% daneben (R²=0.917)\n",
            "\n",
            "Automarke Skoda\n",
            "Mittlerer Preis: 14351 EUR\n",
            "Im Mittel liegt die Preisschätzung um 1155.45€ oder 8.0% daneben (R²=0.939)\n",
            "\n",
            "Automarke Audi\n",
            "Mittlerer Preis: 22904 EUR\n",
            "Im Mittel liegt die Preisschätzung um 1815.74€ oder 7.0% daneben (R²=0.945)\n",
            "\n",
            "Automarke Opel\n",
            "Mittlerer Preis: 10450 EUR\n",
            "Im Mittel liegt die Preisschätzung um 809.67€ oder 7.0% daneben (R²=0.860)\n",
            "\n",
            "Automarke Toyota\n",
            "Mittlerer Preis: 12426 EUR\n",
            "Im Mittel liegt die Preisschätzung um 807.58€ oder 6.0% daneben (R²=0.959)\n"
          ]
        }
      ],
      "source": [
        "rfr_bayes_all = RandomForestRegressor(n_estimators = 100, max_depth = 20, max_features = 'sqrt').fit(X_train, y_train)\n",
        "\n",
        "print(\"Alle Automarken: \")\n",
        "eval_model(rfr_bayes_all, X_test, y_test)\n",
        "rfr_bayes_companies = {}\n",
        "\n",
        "for name in companies:\n",
        "  rfr_bayes_companies[name] = RandomForestRegressor(n_estimators = 100, max_depth = 20, max_features = 'sqrt').fit(companies_X_train[name], companies_y_train[name])\n",
        "  print(f\"\\nAutomarke {name}\")\n",
        "  eval_model(rfr_bayes_companies[name], companies_X_test[name], companies_y_test[name])"
      ]
    },
    {
      "cell_type": "markdown",
      "metadata": {
        "id": "OHHo8aBx9HLX",
        "jp-MarkdownHeadingCollapsed": true
      },
      "source": [
        "### 4.3.3 DecisionTreeRegressor"
      ]
    },
    {
      "cell_type": "code",
      "execution_count": null,
      "metadata": {
        "scrolled": true,
        "id": "nYkRdL-7ML_j",
        "outputId": "bf854114-5d0c-4d76-de5e-cb15e1ab00e6"
      },
      "outputs": [
        {
          "name": "stdout",
          "output_type": "stream",
          "text": [
            "Fitting 5 folds for each of 1 candidates, totalling 5 fits\n",
            "[CV 1/5] END max_depth=7, max_features=sqrt, max_leaf_nodes=50, min_samples_leaf=3, min_weight_fraction_leaf=0.3, splitter=best;, score=0.300 total time=   0.0s\n",
            "[CV 2/5] END max_depth=7, max_features=sqrt, max_leaf_nodes=50, min_samples_leaf=3, min_weight_fraction_leaf=0.3, splitter=best;, score=0.169 total time=   0.0s\n",
            "[CV 3/5] END max_depth=7, max_features=sqrt, max_leaf_nodes=50, min_samples_leaf=3, min_weight_fraction_leaf=0.3, splitter=best;, score=0.298 total time=   0.0s\n",
            "[CV 4/5] END max_depth=7, max_features=sqrt, max_leaf_nodes=50, min_samples_leaf=3, min_weight_fraction_leaf=0.3, splitter=best;, score=0.299 total time=   0.0s\n",
            "[CV 5/5] END max_depth=7, max_features=sqrt, max_leaf_nodes=50, min_samples_leaf=3, min_weight_fraction_leaf=0.3, splitter=best;, score=0.302 total time=   0.0s\n",
            "Fitting 5 folds for each of 1 candidates, totalling 5 fits\n",
            "[CV 1/5] END max_depth=9, max_features=None, max_leaf_nodes=10, min_samples_leaf=10, min_weight_fraction_leaf=0.5, splitter=best;, score=0.173 total time=   0.0s\n",
            "[CV 2/5] END max_depth=9, max_features=None, max_leaf_nodes=10, min_samples_leaf=10, min_weight_fraction_leaf=0.5, splitter=best;, score=0.164 total time=   0.0s\n",
            "[CV 3/5] END max_depth=9, max_features=None, max_leaf_nodes=10, min_samples_leaf=10, min_weight_fraction_leaf=0.5, splitter=best;, score=0.164 total time=   0.0s\n",
            "[CV 4/5] END max_depth=9, max_features=None, max_leaf_nodes=10, min_samples_leaf=10, min_weight_fraction_leaf=0.5, splitter=best;, score=-0.000 total time=   0.0s\n",
            "[CV 5/5] END max_depth=9, max_features=None, max_leaf_nodes=10, min_samples_leaf=10, min_weight_fraction_leaf=0.5, splitter=best;, score=-0.000 total time=   0.0s\n",
            "Fitting 5 folds for each of 1 candidates, totalling 5 fits\n",
            "[CV 1/5] END max_depth=7, max_features=None, max_leaf_nodes=None, min_samples_leaf=5, min_weight_fraction_leaf=0.1, splitter=best;, score=0.535 total time=   0.0s\n",
            "[CV 2/5] END max_depth=7, max_features=None, max_leaf_nodes=None, min_samples_leaf=5, min_weight_fraction_leaf=0.1, splitter=best;, score=0.532 total time=   0.0s\n",
            "[CV 3/5] END max_depth=7, max_features=None, max_leaf_nodes=None, min_samples_leaf=5, min_weight_fraction_leaf=0.1, splitter=best;, score=0.526 total time=   0.0s\n",
            "[CV 4/5] END max_depth=7, max_features=None, max_leaf_nodes=None, min_samples_leaf=5, min_weight_fraction_leaf=0.1, splitter=best;, score=0.526 total time=   0.0s\n",
            "[CV 5/5] END max_depth=7, max_features=None, max_leaf_nodes=None, min_samples_leaf=5, min_weight_fraction_leaf=0.1, splitter=best;, score=0.523 total time=   0.0s\n",
            "Fitting 5 folds for each of 1 candidates, totalling 5 fits\n",
            "[CV 1/5] END max_depth=9, max_features=log2, max_leaf_nodes=30, min_samples_leaf=7, min_weight_fraction_leaf=0.3, splitter=best;, score=0.270 total time=   0.0s\n",
            "[CV 2/5] END max_depth=9, max_features=log2, max_leaf_nodes=30, min_samples_leaf=7, min_weight_fraction_leaf=0.3, splitter=best;, score=0.299 total time=   0.0s\n",
            "[CV 3/5] END max_depth=9, max_features=log2, max_leaf_nodes=30, min_samples_leaf=7, min_weight_fraction_leaf=0.3, splitter=best;, score=0.268 total time=   0.0s\n",
            "[CV 4/5] END max_depth=9, max_features=log2, max_leaf_nodes=30, min_samples_leaf=7, min_weight_fraction_leaf=0.3, splitter=best;, score=0.323 total time=   0.0s\n",
            "[CV 5/5] END max_depth=9, max_features=log2, max_leaf_nodes=30, min_samples_leaf=7, min_weight_fraction_leaf=0.3, splitter=best;, score=0.280 total time=   0.0s\n",
            "Fitting 5 folds for each of 1 candidates, totalling 5 fits\n",
            "[CV 1/5] END max_depth=9, max_features=sqrt, max_leaf_nodes=30, min_samples_leaf=7, min_weight_fraction_leaf=0.5, splitter=random;, score=-0.000 total time=   0.0s\n",
            "[CV 2/5] END max_depth=9, max_features=sqrt, max_leaf_nodes=30, min_samples_leaf=7, min_weight_fraction_leaf=0.5, splitter=random;, score=-0.000 total time=   0.0s\n",
            "[CV 3/5] END max_depth=9, max_features=sqrt, max_leaf_nodes=30, min_samples_leaf=7, min_weight_fraction_leaf=0.5, splitter=random;, score=-0.000 total time=   0.0s\n",
            "[CV 4/5] END max_depth=9, max_features=sqrt, max_leaf_nodes=30, min_samples_leaf=7, min_weight_fraction_leaf=0.5, splitter=random;, score=-0.000 total time=   0.0s\n",
            "[CV 5/5] END max_depth=9, max_features=sqrt, max_leaf_nodes=30, min_samples_leaf=7, min_weight_fraction_leaf=0.5, splitter=random;, score=-0.000 total time=   0.0s\n",
            "Fitting 5 folds for each of 1 candidates, totalling 5 fits\n",
            "[CV 1/5] END max_depth=9, max_features=None, max_leaf_nodes=None, min_samples_leaf=3, min_weight_fraction_leaf=0.5, splitter=best;, score=0.173 total time=   0.0s\n",
            "[CV 2/5] END max_depth=9, max_features=None, max_leaf_nodes=None, min_samples_leaf=3, min_weight_fraction_leaf=0.5, splitter=best;, score=0.164 total time=   0.0s\n",
            "[CV 3/5] END max_depth=9, max_features=None, max_leaf_nodes=None, min_samples_leaf=3, min_weight_fraction_leaf=0.5, splitter=best;, score=0.164 total time=   0.0s\n",
            "[CV 4/5] END max_depth=9, max_features=None, max_leaf_nodes=None, min_samples_leaf=3, min_weight_fraction_leaf=0.5, splitter=best;, score=-0.000 total time=   0.0s\n",
            "[CV 5/5] END max_depth=9, max_features=None, max_leaf_nodes=None, min_samples_leaf=3, min_weight_fraction_leaf=0.5, splitter=best;, score=-0.000 total time=   0.0s\n",
            "Fitting 5 folds for each of 1 candidates, totalling 5 fits\n",
            "[CV 1/5] END max_depth=7, max_features=None, max_leaf_nodes=10, min_samples_leaf=7, min_weight_fraction_leaf=0.3, splitter=random;, score=0.306 total time=   0.0s\n",
            "[CV 2/5] END max_depth=7, max_features=None, max_leaf_nodes=10, min_samples_leaf=7, min_weight_fraction_leaf=0.3, splitter=random;, score=0.299 total time=   0.0s\n",
            "[CV 3/5] END max_depth=7, max_features=None, max_leaf_nodes=10, min_samples_leaf=7, min_weight_fraction_leaf=0.3, splitter=random;, score=0.298 total time=   0.0s\n",
            "[CV 4/5] END max_depth=7, max_features=None, max_leaf_nodes=10, min_samples_leaf=7, min_weight_fraction_leaf=0.3, splitter=random;, score=0.299 total time=   0.0s\n",
            "[CV 5/5] END max_depth=7, max_features=None, max_leaf_nodes=10, min_samples_leaf=7, min_weight_fraction_leaf=0.3, splitter=random;, score=0.302 total time=   0.0s\n",
            "Fitting 5 folds for each of 1 candidates, totalling 5 fits\n",
            "[CV 1/5] END max_depth=7, max_features=None, max_leaf_nodes=10, min_samples_leaf=7, min_weight_fraction_leaf=0.3, splitter=best;, score=0.306 total time=   0.0s\n",
            "[CV 2/5] END max_depth=7, max_features=None, max_leaf_nodes=10, min_samples_leaf=7, min_weight_fraction_leaf=0.3, splitter=best;, score=0.299 total time=   0.0s\n",
            "[CV 3/5] END max_depth=7, max_features=None, max_leaf_nodes=10, min_samples_leaf=7, min_weight_fraction_leaf=0.3, splitter=best;, score=0.298 total time=   0.0s\n",
            "[CV 4/5] END max_depth=7, max_features=None, max_leaf_nodes=10, min_samples_leaf=7, min_weight_fraction_leaf=0.3, splitter=best;, score=0.299 total time=   0.0s\n",
            "[CV 5/5] END max_depth=7, max_features=None, max_leaf_nodes=10, min_samples_leaf=7, min_weight_fraction_leaf=0.3, splitter=best;, score=0.302 total time=   0.0s\n",
            "Fitting 5 folds for each of 1 candidates, totalling 5 fits\n",
            "[CV 1/5] END max_depth=12, max_features=sqrt, max_leaf_nodes=50, min_samples_leaf=5, min_weight_fraction_leaf=0.3, splitter=best;, score=0.158 total time=   0.0s\n",
            "[CV 2/5] END max_depth=12, max_features=sqrt, max_leaf_nodes=50, min_samples_leaf=5, min_weight_fraction_leaf=0.3, splitter=best;, score=0.299 total time=   0.0s\n",
            "[CV 3/5] END max_depth=12, max_features=sqrt, max_leaf_nodes=50, min_samples_leaf=5, min_weight_fraction_leaf=0.3, splitter=best;, score=0.274 total time=   0.0s\n",
            "[CV 4/5] END max_depth=12, max_features=sqrt, max_leaf_nodes=50, min_samples_leaf=5, min_weight_fraction_leaf=0.3, splitter=best;, score=0.299 total time=   0.0s\n",
            "[CV 5/5] END max_depth=12, max_features=sqrt, max_leaf_nodes=50, min_samples_leaf=5, min_weight_fraction_leaf=0.3, splitter=best;, score=0.259 total time=   0.0s\n",
            "Fitting 5 folds for each of 1 candidates, totalling 5 fits\n",
            "[CV 1/5] END max_depth=1, max_features=None, max_leaf_nodes=30, min_samples_leaf=3, min_weight_fraction_leaf=0.3, splitter=best;, score=0.306 total time=   0.0s\n",
            "[CV 2/5] END max_depth=1, max_features=None, max_leaf_nodes=30, min_samples_leaf=3, min_weight_fraction_leaf=0.3, splitter=best;, score=0.299 total time=   0.0s\n",
            "[CV 3/5] END max_depth=1, max_features=None, max_leaf_nodes=30, min_samples_leaf=3, min_weight_fraction_leaf=0.3, splitter=best;, score=0.298 total time=   0.0s\n",
            "[CV 4/5] END max_depth=1, max_features=None, max_leaf_nodes=30, min_samples_leaf=3, min_weight_fraction_leaf=0.3, splitter=best;, score=0.299 total time=   0.0s\n",
            "[CV 5/5] END max_depth=1, max_features=None, max_leaf_nodes=30, min_samples_leaf=3, min_weight_fraction_leaf=0.3, splitter=best;, score=0.302 total time=   0.0s\n",
            "OrderedDict([('max_depth', 7), ('max_features', None), ('max_leaf_nodes', None), ('min_samples_leaf', 5), ('min_weight_fraction_leaf', 0.1), ('splitter', 'best')])\n"
          ]
        }
      ],
      "source": [
        "param_bayes = {\n",
        "    \"splitter\":[\"best\",\"random\"],\n",
        "    \"max_depth\" : [1,5,7,9,12],\n",
        "    \"min_samples_leaf\":[1,3,5,7,10],\n",
        "    \"min_weight_fraction_leaf\":[0.1,0.3,0.5],\n",
        "    \"max_features\":[\"log2\",\"sqrt\",None],\n",
        "    \"max_leaf_nodes\":[None,10,30,50]\n",
        "}\n",
        "\n",
        "dtr_bayes_search = BayesSearchCV(estimator=dtr_all, search_spaces=param_bayes, n_iter=10, cv=5, verbose=6, random_state=42)\n",
        "dtr_bayes_search.fit(X_train, y_train)\n",
        "\n",
        "print(dtr_bayes_search.best_params_)"
      ]
    },
    {
      "cell_type": "code",
      "execution_count": null,
      "metadata": {
        "id": "Ufp6zYDYML_j",
        "outputId": "04ea8029-dc2b-44c7-cd91-8b203d82ac66"
      },
      "outputs": [
        {
          "name": "stdout",
          "output_type": "stream",
          "text": [
            "Alle Automarken: \n",
            "Mittlerer Preis: 16931 EUR\n",
            "Im Mittel liegt die Preisschätzung um 4287.55€ oder 25.0% daneben (R²=0.520)\n",
            "\n",
            "Automarke Mercedes\n",
            "Mittlerer Preis: 24451 EUR\n",
            "Im Mittel liegt die Preisschätzung um 4997.48€ oder 20.0% daneben (R²=0.471)\n",
            "\n",
            "Automarke Bmw\n",
            "Mittlerer Preis: 22878 EUR\n",
            "Im Mittel liegt die Preisschätzung um 4720.45€ oder 20.0% daneben (R²=0.609)\n",
            "\n",
            "Automarke Volkswagen\n",
            "Mittlerer Preis: 16757 EUR\n",
            "Im Mittel liegt die Preisschätzung um 3338.15€ oder 19.0% daneben (R²=0.609)\n",
            "\n",
            "Automarke Hyundai\n",
            "Mittlerer Preis: 12637 EUR\n",
            "Im Mittel liegt die Preisschätzung um 2691.60€ oder 21.0% daneben (R²=0.514)\n",
            "\n",
            "Automarke Ford\n",
            "Mittlerer Preis: 12557 EUR\n",
            "Im Mittel liegt die Preisschätzung um 2068.44€ oder 16.0% daneben (R²=0.599)\n",
            "\n",
            "Automarke Skoda\n",
            "Mittlerer Preis: 14351 EUR\n",
            "Im Mittel liegt die Preisschätzung um 2935.14€ oder 20.0% daneben (R²=0.595)\n",
            "\n",
            "Automarke Audi\n",
            "Mittlerer Preis: 22904 EUR\n",
            "Im Mittel liegt die Preisschätzung um 4605.28€ oder 20.0% daneben (R²=0.574)\n",
            "\n",
            "Automarke Opel\n",
            "Mittlerer Preis: 10450 EUR\n",
            "Im Mittel liegt die Preisschätzung um 1741.00€ oder 16.0% daneben (R²=0.558)\n",
            "\n",
            "Automarke Toyota\n",
            "Mittlerer Preis: 12426 EUR\n",
            "Im Mittel liegt die Preisschätzung um 2237.13€ oder 18.0% daneben (R²=0.701)\n"
          ]
        }
      ],
      "source": [
        "dtr_bayes_all = DecisionTreeRegressor(splitter='best', min_weight_fraction_leaf=0.1, min_samples_leaf=5, max_leaf_nodes=None, max_features=None, max_depth=7).fit(X_train, y_train)\n",
        "\n",
        "print(\"Alle Automarken: \")\n",
        "eval_model(dtr_bayes_all, X_test, y_test)\n",
        "dtr_bayes_companies = {}\n",
        "\n",
        "for name in companies:\n",
        "  dtr_bayes_companies[name] = DecisionTreeRegressor(splitter='best', min_weight_fraction_leaf=0.1, min_samples_leaf=5, max_leaf_nodes=None, max_features=None, max_depth=7).fit(companies_X_train[name], companies_y_train[name])\n",
        "  print(f\"\\nAutomarke {name}\")\n",
        "  eval_model(dtr_bayes_companies[name], companies_X_test[name], companies_y_test[name])"
      ]
    },
    {
      "cell_type": "markdown",
      "metadata": {
        "id": "0-81Y-Sc9KYf",
        "jp-MarkdownHeadingCollapsed": true
      },
      "source": [
        "### 4.3.4 Support Vector Regressor"
      ]
    },
    {
      "cell_type": "code",
      "execution_count": null,
      "metadata": {
        "scrolled": true,
        "id": "nT5S92UVML_k",
        "outputId": "11f793da-7687-4725-e536-ce7af9ec6c85"
      },
      "outputs": [
        {
          "name": "stdout",
          "output_type": "stream",
          "text": [
            "Fitting 5 folds for each of 1 candidates, totalling 5 fits\n",
            "[CV 1/5] END ....C=1.0, gamma=scale, kernel=rbf;, score=0.042 total time=  14.9s\n",
            "[CV 2/5] END ....C=1.0, gamma=scale, kernel=rbf;, score=0.036 total time=  15.1s\n",
            "[CV 3/5] END ....C=1.0, gamma=scale, kernel=rbf;, score=0.015 total time=  14.2s\n",
            "[CV 4/5] END ....C=1.0, gamma=scale, kernel=rbf;, score=0.026 total time=  14.4s\n",
            "[CV 5/5] END ....C=1.0, gamma=scale, kernel=rbf;, score=0.032 total time=  14.2s\n",
            "Fitting 5 folds for each of 1 candidates, totalling 5 fits\n",
            "[CV 1/5] END ..C=100.0, gamma=scale, kernel=rbf;, score=0.238 total time=  13.8s\n",
            "[CV 2/5] END ..C=100.0, gamma=scale, kernel=rbf;, score=0.227 total time=  13.7s\n",
            "[CV 3/5] END ..C=100.0, gamma=scale, kernel=rbf;, score=0.205 total time=  14.1s\n",
            "[CV 4/5] END ..C=100.0, gamma=scale, kernel=rbf;, score=0.217 total time=  13.8s\n",
            "[CV 5/5] END ..C=100.0, gamma=scale, kernel=rbf;, score=0.199 total time=  13.6s\n",
            "Fitting 5 folds for each of 1 candidates, totalling 5 fits\n",
            "[CV 1/5] END ....C=1.0, gamma=scale, kernel=rbf;, score=0.042 total time=  14.0s\n",
            "[CV 2/5] END ....C=1.0, gamma=scale, kernel=rbf;, score=0.036 total time=  14.0s\n",
            "[CV 3/5] END ....C=1.0, gamma=scale, kernel=rbf;, score=0.015 total time=  14.0s\n",
            "[CV 4/5] END ....C=1.0, gamma=scale, kernel=rbf;, score=0.026 total time=  14.1s\n",
            "[CV 5/5] END ....C=1.0, gamma=scale, kernel=rbf;, score=0.032 total time=  13.9s\n",
            "Fitting 5 folds for each of 1 candidates, totalling 5 fits\n",
            "[CV 1/5] END ...C=10.0, gamma=auto, kernel=rbf;, score=-0.039 total time=  20.6s\n",
            "[CV 2/5] END ...C=10.0, gamma=auto, kernel=rbf;, score=-0.046 total time=  20.6s\n",
            "[CV 3/5] END ...C=10.0, gamma=auto, kernel=rbf;, score=-0.066 total time=  21.6s\n",
            "[CV 4/5] END ...C=10.0, gamma=auto, kernel=rbf;, score=-0.055 total time=  20.6s\n",
            "[CV 5/5] END ...C=10.0, gamma=auto, kernel=rbf;, score=-0.037 total time=  21.4s\n",
            "Fitting 5 folds for each of 1 candidates, totalling 5 fits\n",
            "[CV 1/5] END ...C=10.0, gamma=auto, kernel=rbf;, score=-0.039 total time=  20.8s\n",
            "[CV 2/5] END ...C=10.0, gamma=auto, kernel=rbf;, score=-0.046 total time=  21.8s\n",
            "[CV 3/5] END ...C=10.0, gamma=auto, kernel=rbf;, score=-0.066 total time=  21.6s\n",
            "[CV 4/5] END ...C=10.0, gamma=auto, kernel=rbf;, score=-0.055 total time=  21.3s\n",
            "[CV 5/5] END ...C=10.0, gamma=auto, kernel=rbf;, score=-0.037 total time=  21.4s\n",
            "OrderedDict([('C', 100.0), ('gamma', 'scale'), ('kernel', 'rbf')])\n"
          ]
        }
      ],
      "source": [
        "param_bayes = {\n",
        "    'C': [0.1, 1, 10, 100],\n",
        "    'gamma': ['scale', 'auto'],\n",
        "    'kernel': ['rbf']\n",
        "}\n",
        "\n",
        "svr_bayes_search = BayesSearchCV(estimator=svr_all, search_spaces=param_bayes, n_iter=5, cv=5, verbose=6, random_state=42)\n",
        "svr_bayes_search.fit(X_train_splitted[0], y_train_splitted[0])\n",
        "\n",
        "print(svr_bayes_search.best_params_)"
      ]
    },
    {
      "cell_type": "code",
      "execution_count": null,
      "metadata": {
        "id": "VbFwzisJML_l",
        "outputId": "2e8ff519-04f9-4729-eec6-14aed5f03e01"
      },
      "outputs": [
        {
          "name": "stdout",
          "output_type": "stream",
          "text": [
            "Alle Automarken: \n",
            "Mittlerer Preis: 16931 EUR\n",
            "Im Mittel liegt die Preisschätzung um 5853.30€ oder 34.0% daneben (R²=0.222)\n",
            "\n",
            "Automarke Mercedes\n",
            "Mittlerer Preis: 24451 EUR\n",
            "Im Mittel liegt die Preisschätzung um 5294.43€ oder 21.0% daneben (R²=0.328)\n",
            "\n",
            "Automarke Bmw\n",
            "Mittlerer Preis: 22878 EUR\n",
            "Im Mittel liegt die Preisschätzung um 5541.04€ oder 24.0% daneben (R²=0.400)\n",
            "\n",
            "Automarke Volkswagen\n",
            "Mittlerer Preis: 16757 EUR\n",
            "Im Mittel liegt die Preisschätzung um 4663.32€ oder 27.0% daneben (R²=0.322)\n",
            "\n",
            "Automarke Hyundai\n",
            "Mittlerer Preis: 12637 EUR\n",
            "Im Mittel liegt die Preisschätzung um 4110.72€ oder 32.0% daneben (R²=0.153)\n",
            "\n",
            "Automarke Ford\n",
            "Mittlerer Preis: 12557 EUR\n",
            "Im Mittel liegt die Preisschätzung um 2793.87€ oder 22.0% daneben (R²=0.349)\n",
            "\n",
            "Automarke Skoda\n",
            "Mittlerer Preis: 14351 EUR\n",
            "Im Mittel liegt die Preisschätzung um 4198.46€ oder 29.0% daneben (R²=0.286)\n",
            "\n",
            "Automarke Audi\n",
            "Mittlerer Preis: 22904 EUR\n",
            "Im Mittel liegt die Preisschätzung um 5949.30€ oder 25.0% daneben (R²=0.315)\n",
            "\n",
            "Automarke Opel\n",
            "Mittlerer Preis: 10450 EUR\n",
            "Im Mittel liegt die Preisschätzung um 2174.61€ oder 20.0% daneben (R²=0.375)\n",
            "\n",
            "Automarke Toyota\n",
            "Mittlerer Preis: 12426 EUR\n",
            "Im Mittel liegt die Preisschätzung um 4233.35€ oder 34.0% daneben (R²=-0.014)\n"
          ]
        }
      ],
      "source": [
        "svr_bayes_all = SVR(C=100, gamma='scale', kernel='rbf').fit(X_train, y_train)\n",
        "\n",
        "print(\"Alle Automarken: \")\n",
        "eval_model(svr_bayes_all, X_test, y_test)\n",
        "svr_bayes_companies = {}\n",
        "\n",
        "for name in companies:\n",
        "  svr_bayes_companies[name] = SVR(C=100, gamma='scale', kernel='rbf').fit(companies_X_train[name], companies_y_train[name])\n",
        "  print(f\"\\nAutomarke {name}\")\n",
        "  eval_model(svr_bayes_companies[name], companies_X_test[name], companies_y_test[name])"
      ]
    },
    {
      "cell_type": "markdown",
      "metadata": {
        "id": "xlQ50pG99Nx3",
        "jp-MarkdownHeadingCollapsed": true
      },
      "source": [
        "### 4.3.5 KNN Regressor"
      ]
    },
    {
      "cell_type": "code",
      "execution_count": null,
      "metadata": {
        "scrolled": true,
        "id": "iri2DyNFML_l",
        "outputId": "291afadc-b35b-4ee0-c82c-544a3f89af17"
      },
      "outputs": [
        {
          "name": "stdout",
          "output_type": "stream",
          "text": [
            "Fitting 5 folds for each of 1 candidates, totalling 5 fits\n",
            "[CV 1/5] END ....n_neighbors=7, weights=uniform;, score=0.432 total time=   0.2s\n",
            "[CV 2/5] END ....n_neighbors=7, weights=uniform;, score=0.438 total time=   0.2s\n",
            "[CV 3/5] END ....n_neighbors=7, weights=uniform;, score=0.440 total time=   0.2s\n",
            "[CV 4/5] END ....n_neighbors=7, weights=uniform;, score=0.431 total time=   0.2s\n",
            "[CV 5/5] END ....n_neighbors=7, weights=uniform;, score=0.414 total time=   0.2s\n",
            "Fitting 5 folds for each of 1 candidates, totalling 5 fits\n",
            "[CV 1/5] END ...n_neighbors=15, weights=uniform;, score=0.425 total time=   0.2s\n",
            "[CV 2/5] END ...n_neighbors=15, weights=uniform;, score=0.427 total time=   0.2s\n",
            "[CV 3/5] END ...n_neighbors=15, weights=uniform;, score=0.423 total time=   0.2s\n",
            "[CV 4/5] END ...n_neighbors=15, weights=uniform;, score=0.417 total time=   0.2s\n",
            "[CV 5/5] END ...n_neighbors=15, weights=uniform;, score=0.403 total time=   0.2s\n",
            "Fitting 5 folds for each of 1 candidates, totalling 5 fits\n",
            "[CV 1/5] END ....n_neighbors=7, weights=uniform;, score=0.432 total time=   0.2s\n",
            "[CV 2/5] END ....n_neighbors=7, weights=uniform;, score=0.438 total time=   0.3s\n",
            "[CV 3/5] END ....n_neighbors=7, weights=uniform;, score=0.440 total time=   0.2s\n",
            "[CV 4/5] END ....n_neighbors=7, weights=uniform;, score=0.431 total time=   0.2s\n",
            "[CV 5/5] END ....n_neighbors=7, weights=uniform;, score=0.414 total time=   0.2s\n",
            "Fitting 5 folds for each of 1 candidates, totalling 5 fits\n",
            "[CV 1/5] END ..n_neighbors=15, weights=distance;, score=0.462 total time=   0.2s\n",
            "[CV 2/5] END ..n_neighbors=15, weights=distance;, score=0.466 total time=   0.2s\n",
            "[CV 3/5] END ..n_neighbors=15, weights=distance;, score=0.464 total time=   0.2s\n",
            "[CV 4/5] END ..n_neighbors=15, weights=distance;, score=0.453 total time=   0.2s\n",
            "[CV 5/5] END ..n_neighbors=15, weights=distance;, score=0.443 total time=   0.2s\n",
            "Fitting 5 folds for each of 1 candidates, totalling 5 fits\n",
            "[CV 1/5] END ..n_neighbors=15, weights=distance;, score=0.462 total time=   0.2s\n",
            "[CV 2/5] END ..n_neighbors=15, weights=distance;, score=0.466 total time=   0.2s\n",
            "[CV 3/5] END ..n_neighbors=15, weights=distance;, score=0.464 total time=   0.2s\n",
            "[CV 4/5] END ..n_neighbors=15, weights=distance;, score=0.453 total time=   0.2s\n",
            "[CV 5/5] END ..n_neighbors=15, weights=distance;, score=0.443 total time=   0.2s\n",
            "Fitting 5 folds for each of 1 candidates, totalling 5 fits\n",
            "[CV 1/5] END ...n_neighbors=15, weights=uniform;, score=0.425 total time=   0.2s\n",
            "[CV 2/5] END ...n_neighbors=15, weights=uniform;, score=0.427 total time=   0.2s\n",
            "[CV 3/5] END ...n_neighbors=15, weights=uniform;, score=0.423 total time=   0.2s\n",
            "[CV 4/5] END ...n_neighbors=15, weights=uniform;, score=0.417 total time=   0.2s\n",
            "[CV 5/5] END ...n_neighbors=15, weights=uniform;, score=0.403 total time=   0.2s\n",
            "Fitting 5 folds for each of 1 candidates, totalling 5 fits\n",
            "[CV 1/5] END ...n_neighbors=10, weights=uniform;, score=0.435 total time=   0.2s\n",
            "[CV 2/5] END ...n_neighbors=10, weights=uniform;, score=0.437 total time=   0.2s\n",
            "[CV 3/5] END ...n_neighbors=10, weights=uniform;, score=0.436 total time=   0.2s\n",
            "[CV 4/5] END ...n_neighbors=10, weights=uniform;, score=0.428 total time=   0.2s\n",
            "[CV 5/5] END ...n_neighbors=10, weights=uniform;, score=0.409 total time=   0.2s\n",
            "Fitting 5 folds for each of 1 candidates, totalling 5 fits\n",
            "[CV 1/5] END ...n_neighbors=10, weights=uniform;, score=0.435 total time=   0.2s\n",
            "[CV 2/5] END ...n_neighbors=10, weights=uniform;, score=0.437 total time=   0.2s\n",
            "[CV 3/5] END ...n_neighbors=10, weights=uniform;, score=0.436 total time=   0.2s\n",
            "[CV 4/5] END ...n_neighbors=10, weights=uniform;, score=0.428 total time=   0.2s\n",
            "[CV 5/5] END ...n_neighbors=10, weights=uniform;, score=0.409 total time=   0.2s\n",
            "Fitting 5 folds for each of 1 candidates, totalling 5 fits\n",
            "[CV 1/5] END ...n_neighbors=20, weights=uniform;, score=0.413 total time=   0.2s\n",
            "[CV 2/5] END ...n_neighbors=20, weights=uniform;, score=0.415 total time=   0.3s\n",
            "[CV 3/5] END ...n_neighbors=20, weights=uniform;, score=0.412 total time=   0.2s\n",
            "[CV 4/5] END ...n_neighbors=20, weights=uniform;, score=0.410 total time=   0.2s\n",
            "[CV 5/5] END ...n_neighbors=20, weights=uniform;, score=0.394 total time=   0.2s\n",
            "Fitting 5 folds for each of 1 candidates, totalling 5 fits\n",
            "[CV 1/5] END ....n_neighbors=1, weights=uniform;, score=0.153 total time=   0.1s\n",
            "[CV 2/5] END ....n_neighbors=1, weights=uniform;, score=0.212 total time=   0.2s\n",
            "[CV 3/5] END ....n_neighbors=1, weights=uniform;, score=0.209 total time=   0.2s\n",
            "[CV 4/5] END ....n_neighbors=1, weights=uniform;, score=0.200 total time=   0.1s\n",
            "[CV 5/5] END ....n_neighbors=1, weights=uniform;, score=0.190 total time=   0.1s\n",
            "OrderedDict([('n_neighbors', 15), ('weights', 'distance')])\n"
          ]
        }
      ],
      "source": [
        "param_knn = {\n",
        "    'n_neighbors': [1,5,7,10,15,20],\n",
        "    'weights': ['uniform','distance']\n",
        "}\n",
        "\n",
        "knn_bayes_search = BayesSearchCV(estimator=knn_all, search_spaces=param_knn, n_iter=10, cv=5, verbose=6, random_state=42)\n",
        "knn_bayes_search.fit(X_train, y_train)\n",
        "\n",
        "print(knn_bayes_search.best_params_)"
      ]
    },
    {
      "cell_type": "code",
      "execution_count": null,
      "metadata": {
        "id": "lhs-zGCLML_l",
        "outputId": "ead4df33-aa9a-4529-d013-8e9ba76e432f"
      },
      "outputs": [
        {
          "name": "stdout",
          "output_type": "stream",
          "text": [
            "Alle Automarken: \n",
            "Mittlerer Preis: 16931 EUR\n",
            "Im Mittel liegt die Preisschätzung um 4961.47€ oder 29.0% daneben (R²=0.468)\n",
            "\n",
            "Automarke Mercedes\n",
            "Mittlerer Preis: 24451 EUR\n",
            "Im Mittel liegt die Preisschätzung um 4736.34€ oder 19.0% daneben (R²=0.513)\n",
            "\n",
            "Automarke Bmw\n",
            "Mittlerer Preis: 22878 EUR\n",
            "Im Mittel liegt die Preisschätzung um 5063.77€ oder 22.0% daneben (R²=0.554)\n",
            "\n",
            "Automarke Volkswagen\n",
            "Mittlerer Preis: 16757 EUR\n",
            "Im Mittel liegt die Preisschätzung um 3666.20€ oder 21.0% daneben (R²=0.572)\n",
            "\n",
            "Automarke Hyundai\n",
            "Mittlerer Preis: 12637 EUR\n",
            "Im Mittel liegt die Preisschätzung um 3827.33€ oder 30.0% daneben (R²=0.227)\n",
            "\n",
            "Automarke Ford\n",
            "Mittlerer Preis: 12557 EUR\n",
            "Im Mittel liegt die Preisschätzung um 2517.01€ oder 20.0% daneben (R²=0.460)\n",
            "\n",
            "Automarke Skoda\n",
            "Mittlerer Preis: 14351 EUR\n",
            "Im Mittel liegt die Preisschätzung um 3720.04€ oder 25.0% daneben (R²=0.449)\n",
            "\n",
            "Automarke Audi\n",
            "Mittlerer Preis: 22904 EUR\n",
            "Im Mittel liegt die Preisschätzung um 5210.95€ oder 22.0% daneben (R²=0.510)\n",
            "\n",
            "Automarke Opel\n",
            "Mittlerer Preis: 10450 EUR\n",
            "Im Mittel liegt die Preisschätzung um 1965.20€ oder 18.0% daneben (R²=0.436)\n",
            "\n",
            "Automarke Toyota\n",
            "Mittlerer Preis: 12426 EUR\n",
            "Im Mittel liegt die Preisschätzung um 4205.11€ oder 33.0% daneben (R²=0.141)\n"
          ]
        }
      ],
      "source": [
        "knn_bayes_all = KNeighborsRegressor(weights='distance', n_neighbors=15).fit(X_train, y_train)\n",
        "\n",
        "print(\"Alle Automarken: \")\n",
        "eval_model(knn_bayes_all, X_test, y_test)\n",
        "knn_bayes_companies = {}\n",
        "\n",
        "for name in companies:\n",
        "  knn_bayes_companies[name] = KNeighborsRegressor(weights='distance', n_neighbors=15).fit(companies_X_train[name], companies_y_train[name])\n",
        "  print(f\"\\nAutomarke {name}\")\n",
        "  eval_model(knn_bayes_companies[name], companies_X_test[name], companies_y_test[name])"
      ]
    },
    {
      "cell_type": "markdown",
      "metadata": {
        "jp-MarkdownHeadingCollapsed": true,
        "id": "TVNkdPmHML_l"
      },
      "source": [
        "# 5. Ergebnisse"
      ]
    },
    {
      "cell_type": "code",
      "execution_count": null,
      "metadata": {
        "id": "T3eSGplOML_m"
      },
      "outputs": [],
      "source": [
        "from sklearn.metrics import r2_score, mean_squared_error\n",
        "\n",
        "def display_scores(y_test, y_pred):\n",
        "    r2_scores = r2_score(y_test, y_pred)\n",
        "    mse = mean_squared_error(y_test, y_pred)\n",
        "    mse = np.sqrt(mse)\n",
        "    print(f\"r2_score: {r2_scores}\")\n",
        "    print(f\"MSE: {mse}\\n\")"
      ]
    },
    {
      "cell_type": "code",
      "execution_count": null,
      "metadata": {
        "id": "M5TqEC2tML_n",
        "outputId": "ce3ef0fe-f0b5-47e6-b25f-b6235ba97e13"
      },
      "outputs": [
        {
          "name": "stdout",
          "output_type": "stream",
          "text": [
            "Linear Regression Scores\n",
            "r2_score: 0.7250641974609122\n",
            "MSE: 5182.265166041777\n",
            "\n",
            "Random Forest Regressor Scores\n",
            "-----------------------------\n",
            "Model: None\n",
            "-----------------------------\n",
            "Automarke: Mercedes\n",
            "r2_score: 0.9577737617920428\n",
            "MSE: 2333.888854448274\n",
            "\n",
            "Automarke: Bmw\n",
            "r2_score: 0.9480850560545172\n",
            "MSE: 2586.4586851654176\n",
            "\n",
            "Automarke: Volkswagen\n",
            "r2_score: 0.9578064773514808\n",
            "MSE: 1600.224346746514\n",
            "\n",
            "Automarke: Hyundai\n",
            "r2_score: 0.9535861536344326\n",
            "MSE: 1308.794523350476\n",
            "\n",
            "Automarke: Ford\n",
            "r2_score: 0.8993733811159961\n",
            "MSE: 1481.5243503746137\n",
            "\n",
            "Automarke: Skoda\n",
            "r2_score: 0.9321155829358412\n",
            "MSE: 1702.0214518241537\n",
            "\n",
            "Automarke: Audi\n",
            "r2_score: 0.9542759260136224\n",
            "MSE: 2527.0831201977508\n",
            "\n",
            "Automarke: Opel\n",
            "r2_score: 0.8597766534833502\n",
            "MSE: 1345.0294327796064\n",
            "\n",
            "Automarke: Toyota\n",
            "r2_score: 0.97824381943173\n",
            "MSE: 913.0886805652195\n",
            "\n",
            "-----------------------------\n",
            "Model: Gridsearch\n",
            "-----------------------------\n",
            "Automarke: Mercedes\n",
            "r2_score: 0.9455058469281474\n",
            "MSE: 2651.3308614142443\n",
            "\n",
            "Automarke: Bmw\n",
            "r2_score: 0.9410801834210485\n",
            "MSE: 2755.4341966709994\n",
            "\n",
            "Automarke: Volkswagen\n",
            "r2_score: 0.9474974628041791\n",
            "MSE: 1785.0407165394206\n",
            "\n",
            "Automarke: Hyundai\n",
            "r2_score: 0.9680664477153502\n",
            "MSE: 1085.6036751455756\n",
            "\n",
            "Automarke: Ford\n",
            "r2_score: 0.8927963132463005\n",
            "MSE: 1529.1750881695848\n",
            "\n",
            "Automarke: Skoda\n",
            "r2_score: 0.9071255862621632\n",
            "MSE: 1990.801804317784\n",
            "\n",
            "Automarke: Audi\n",
            "r2_score: 0.948387650259228\n",
            "MSE: 2684.8738390077456\n",
            "\n",
            "Automarke: Opel\n",
            "r2_score: 0.831193921224459\n",
            "MSE: 1475.7597629323916\n",
            "\n",
            "Automarke: Toyota\n",
            "r2_score: 0.9719847837379502\n",
            "MSE: 1036.1404327411678\n",
            "\n",
            "-----------------------------\n",
            "Model: RandomSearch\n",
            "-----------------------------\n",
            "Automarke: Mercedes\n",
            "r2_score: 0.9434605232053803\n",
            "MSE: 2700.628621321404\n",
            "\n",
            "Automarke: Bmw\n",
            "r2_score: 0.9441355002600037\n",
            "MSE: 2683.0409917258808\n",
            "\n",
            "Automarke: Volkswagen\n",
            "r2_score: 0.9453700278941419\n",
            "MSE: 1820.847065240847\n",
            "\n",
            "Automarke: Hyundai\n",
            "r2_score: 0.9579145953315743\n",
            "MSE: 1246.2737353795014\n",
            "\n",
            "Automarke: Ford\n",
            "r2_score: 0.8895147815778588\n",
            "MSE: 1552.4028917662965\n",
            "\n",
            "Automarke: Skoda\n",
            "r2_score: 0.9068104197761471\n",
            "MSE: 1994.1768060567274\n",
            "\n",
            "Automarke: Audi\n",
            "r2_score: 0.9476614535292037\n",
            "MSE: 2703.696234266579\n",
            "\n",
            "Automarke: Opel\n",
            "r2_score: 0.831037751387731\n",
            "MSE: 1476.4422498525396\n",
            "\n",
            "Automarke: Toyota\n",
            "r2_score: 0.9708388036804192\n",
            "MSE: 1057.1200254933597\n",
            "\n",
            "-----------------------------\n",
            "Model: Bayesian optimization\n",
            "-----------------------------\n",
            "Automarke: Mercedes\n",
            "r2_score: 0.9444484159482586\n",
            "MSE: 2676.931123188154\n",
            "\n",
            "Automarke: Bmw\n",
            "r2_score: 0.9412444090162516\n",
            "MSE: 2751.5914438702684\n",
            "\n",
            "Automarke: Volkswagen\n",
            "r2_score: 0.9473275677560329\n",
            "MSE: 1787.9265259716312\n",
            "\n",
            "Automarke: Hyundai\n",
            "r2_score: 0.9651250301520464\n",
            "MSE: 1134.5002848025833\n",
            "\n",
            "Automarke: Ford\n",
            "r2_score: 0.8947083848801121\n",
            "MSE: 1515.4766440039634\n",
            "\n",
            "Automarke: Skoda\n",
            "r2_score: 0.9061454485207758\n",
            "MSE: 2001.279064965665\n",
            "\n",
            "Automarke: Audi\n",
            "r2_score: 0.9491245535617833\n",
            "MSE: 2665.638081133035\n",
            "\n",
            "Automarke: Opel\n",
            "r2_score: 0.8331074841971352\n",
            "MSE: 1467.371415933006\n",
            "\n",
            "Automarke: Toyota\n",
            "r2_score: 0.9713844266279787\n",
            "MSE: 1047.1836619119083\n",
            "\n",
            "DecisionTreeRegressor Scores\n",
            "-----------------------------\n",
            "Model: None\n",
            "-----------------------------\n",
            "Automarke: Mercedes\n",
            "r2_score: 0.9538912879262885\n",
            "MSE: 2438.824050180131\n",
            "\n",
            "Automarke: Bmw\n",
            "r2_score: 0.946251392948387\n",
            "MSE: 2631.739856183568\n",
            "\n",
            "Automarke: Volkswagen\n",
            "r2_score: 0.9508999753674487\n",
            "MSE: 1726.2307004127717\n",
            "\n",
            "Automarke: Hyundai\n",
            "r2_score: 0.9682047109556409\n",
            "MSE: 1083.2509474444369\n",
            "\n",
            "Automarke: Ford\n",
            "r2_score: 0.8858912237458492\n",
            "MSE: 1577.6544170021912\n",
            "\n",
            "Automarke: Skoda\n",
            "r2_score: 0.8592968187843688\n",
            "MSE: 2450.3715494668713\n",
            "\n",
            "Automarke: Audi\n",
            "r2_score: 0.938997990883174\n",
            "MSE: 2918.8994646009064\n",
            "\n",
            "Automarke: Opel\n",
            "r2_score: 0.845451540022983\n",
            "MSE: 1412.0626475854367\n",
            "\n",
            "Automarke: Toyota\n",
            "r2_score: 0.9728179993335099\n",
            "MSE: 1020.6159261995286\n",
            "\n",
            "-----------------------------\n",
            "Model: Gridsearch\n",
            "-----------------------------\n",
            "Automarke: Mercedes\n",
            "r2_score: 0.26444954620547545\n",
            "MSE: 9740.813027236549\n",
            "\n",
            "Automarke: Bmw\n",
            "r2_score: 0.4370072783910828\n",
            "MSE: 8517.472519228562\n",
            "\n",
            "Automarke: Volkswagen\n",
            "r2_score: 0.5316581308291304\n",
            "MSE: 5331.377975930826\n",
            "\n",
            "Automarke: Hyundai\n",
            "r2_score: 0.3002781063124408\n",
            "MSE: 5081.716352421945\n",
            "\n",
            "Automarke: Ford\n",
            "r2_score: 0.27312008739950755\n",
            "MSE: 3981.838921359065\n",
            "\n",
            "Automarke: Skoda\n",
            "r2_score: 0.2877494789864785\n",
            "MSE: 5513.106356958255\n",
            "\n",
            "Automarke: Audi\n",
            "r2_score: 0.346888534280162\n",
            "MSE: 9550.821348416355\n",
            "\n",
            "Automarke: Opel\n",
            "r2_score: -0.46266493600686665\n",
            "MSE: 4344.042337708122\n",
            "\n",
            "Automarke: Toyota\n",
            "r2_score: 0.25650786561716654\n",
            "MSE: 5337.769561343676\n",
            "\n",
            "-----------------------------\n",
            "Model: RandomSearch\n",
            "-----------------------------\n",
            "Automarke: Mercedes\n",
            "r2_score: 0.2637884142325615\n",
            "MSE: 9745.18969266412\n",
            "\n",
            "Automarke: Bmw\n",
            "r2_score: 0.4509871274956312\n",
            "MSE: 8411.057744193939\n",
            "\n",
            "Automarke: Volkswagen\n",
            "r2_score: 0.5375759838487828\n",
            "MSE: 5297.587903413333\n",
            "\n",
            "Automarke: Hyundai\n",
            "r2_score: 0.3249835618807647\n",
            "MSE: 4991.198743968229\n",
            "\n",
            "Automarke: Ford\n",
            "r2_score: 0.22482679792969107\n",
            "MSE: 4111.9869631521515\n",
            "\n",
            "Automarke: Skoda\n",
            "r2_score: 0.277493506066385\n",
            "MSE: 5552.657172780399\n",
            "\n",
            "Automarke: Audi\n",
            "r2_score: 0.35215763445202\n",
            "MSE: 9512.21680031502\n",
            "\n",
            "Automarke: Opel\n",
            "r2_score: -0.5814671199187225\n",
            "MSE: 4517.016818872519\n",
            "\n",
            "Automarke: Toyota\n",
            "r2_score: 0.24562925941771263\n",
            "MSE: 5376.678261713161\n",
            "\n",
            "-----------------------------\n",
            "Model: Bayesian optimization\n",
            "-----------------------------\n",
            "Automarke: Mercedes\n",
            "r2_score: 0.2637884142325615\n",
            "MSE: 9745.18969266412\n",
            "\n",
            "Automarke: Bmw\n",
            "r2_score: 0.4509871274956312\n",
            "MSE: 8411.057744193939\n",
            "\n",
            "Automarke: Volkswagen\n",
            "r2_score: 0.5375759838487828\n",
            "MSE: 5297.587903413333\n",
            "\n",
            "Automarke: Hyundai\n",
            "r2_score: 0.3249835618807647\n",
            "MSE: 4991.198743968229\n",
            "\n",
            "Automarke: Ford\n",
            "r2_score: 0.22482679792969107\n",
            "MSE: 4111.9869631521515\n",
            "\n",
            "Automarke: Skoda\n",
            "r2_score: 0.277493506066385\n",
            "MSE: 5552.657172780399\n",
            "\n",
            "Automarke: Audi\n",
            "r2_score: 0.35215763445202\n",
            "MSE: 9512.21680031502\n",
            "\n",
            "Automarke: Opel\n",
            "r2_score: -0.5814671199187225\n",
            "MSE: 4517.016818872519\n",
            "\n",
            "Automarke: Toyota\n",
            "r2_score: 0.24562925941771263\n",
            "MSE: 5376.678261713161\n",
            "\n",
            "Support Vector Regressor Scores\n",
            "-----------------------------\n",
            "Model: None\n",
            "-----------------------------\n",
            "Automarke: Mercedes\n",
            "r2_score: -0.4870150035727687\n",
            "MSE: 13849.900347625742\n",
            "\n",
            "Automarke: Bmw\n",
            "r2_score: -0.2542209324819411\n",
            "MSE: 12712.951004652132\n",
            "\n",
            "Automarke: Volkswagen\n",
            "r2_score: 0.20026459360159876\n",
            "MSE: 6966.764706119727\n",
            "\n",
            "Automarke: Hyundai\n",
            "r2_score: 0.0010294680219128383\n",
            "MSE: 6071.891851030252\n",
            "\n",
            "Automarke: Ford\n",
            "r2_score: 0.06712532793667048\n",
            "MSE: 4510.9083634746785\n",
            "\n",
            "Automarke: Skoda\n",
            "r2_score: 0.2241418373681373\n",
            "MSE: 5754.017121411865\n",
            "\n",
            "Automarke: Audi\n",
            "r2_score: -0.2665040224527284\n",
            "MSE: 13299.960593172455\n",
            "\n",
            "Automarke: Opel\n",
            "r2_score: -1.1498817186878911\n",
            "MSE: 5266.582691595804\n",
            "\n",
            "Automarke: Toyota\n",
            "r2_score: -0.06060294043301395\n",
            "MSE: 6375.262111974634\n",
            "\n",
            "-----------------------------\n",
            "Model: Gridsearch\n",
            "-----------------------------\n",
            "Automarke: Mercedes\n",
            "r2_score: -0.2760334206615884\n",
            "MSE: 12829.80329702737\n",
            "\n",
            "Automarke: Bmw\n",
            "r2_score: -0.017123963615477633\n",
            "MSE: 11448.439518358207\n",
            "\n",
            "Automarke: Volkswagen\n",
            "r2_score: 0.31395573816920996\n",
            "MSE: 6452.5896800120745\n",
            "\n",
            "Automarke: Hyundai\n",
            "r2_score: -0.06207224458888261\n",
            "MSE: 6260.726305950093\n",
            "\n",
            "Automarke: Ford\n",
            "r2_score: 0.04902654518141791\n",
            "MSE: 4554.456421218161\n",
            "\n",
            "Automarke: Skoda\n",
            "r2_score: 0.26649241287315273\n",
            "MSE: 5594.770653770561\n",
            "\n",
            "Automarke: Audi\n",
            "r2_score: -0.0840082903879098\n",
            "MSE: 12304.482963231027\n",
            "\n",
            "Automarke: Opel\n",
            "r2_score: -1.6104386036887641\n",
            "MSE: 5803.344683295152\n",
            "\n",
            "Automarke: Toyota\n",
            "r2_score: -0.14985084297702445\n",
            "MSE: 6638.078524929676\n",
            "\n",
            "-----------------------------\n",
            "Model: RandomSearch\n",
            "-----------------------------\n",
            "Automarke: Mercedes\n",
            "r2_score: -0.2760334206615884\n",
            "MSE: 12829.80329702737\n",
            "\n",
            "Automarke: Bmw\n",
            "r2_score: -0.017123963615477633\n",
            "MSE: 11448.439518358207\n",
            "\n",
            "Automarke: Volkswagen\n",
            "r2_score: 0.31395573816920996\n",
            "MSE: 6452.5896800120745\n",
            "\n",
            "Automarke: Hyundai\n",
            "r2_score: -0.06207224458888261\n",
            "MSE: 6260.726305950093\n",
            "\n",
            "Automarke: Ford\n",
            "r2_score: 0.04902654518141791\n",
            "MSE: 4554.456421218161\n",
            "\n",
            "Automarke: Skoda\n",
            "r2_score: 0.26649241287315273\n",
            "MSE: 5594.770653770561\n",
            "\n",
            "Automarke: Audi\n",
            "r2_score: -0.0840082903879098\n",
            "MSE: 12304.482963231027\n",
            "\n",
            "Automarke: Opel\n",
            "r2_score: -1.6104386036887641\n",
            "MSE: 5803.344683295152\n",
            "\n",
            "Automarke: Toyota\n",
            "r2_score: -0.14985084297702445\n",
            "MSE: 6638.078524929676\n",
            "\n",
            "-----------------------------\n",
            "Model: Bayesian optimization\n",
            "-----------------------------\n",
            "Automarke: Mercedes\n",
            "r2_score: -0.2760334206615884\n",
            "MSE: 12829.80329702737\n",
            "\n",
            "Automarke: Bmw\n",
            "r2_score: -0.017123963615477633\n",
            "MSE: 11448.439518358207\n",
            "\n",
            "Automarke: Volkswagen\n",
            "r2_score: 0.31395573816920996\n",
            "MSE: 6452.5896800120745\n",
            "\n",
            "Automarke: Hyundai\n",
            "r2_score: -0.06207224458888261\n",
            "MSE: 6260.726305950093\n",
            "\n",
            "Automarke: Ford\n",
            "r2_score: 0.04902654518141791\n",
            "MSE: 4554.456421218161\n",
            "\n",
            "Automarke: Skoda\n",
            "r2_score: 0.26649241287315273\n",
            "MSE: 5594.770653770561\n",
            "\n",
            "Automarke: Audi\n",
            "r2_score: -0.0840082903879098\n",
            "MSE: 12304.482963231027\n",
            "\n",
            "Automarke: Opel\n",
            "r2_score: -1.6104386036887641\n",
            "MSE: 5803.344683295152\n",
            "\n",
            "Automarke: Toyota\n",
            "r2_score: -0.14985084297702445\n",
            "MSE: 6638.078524929676\n",
            "\n",
            "KNN Regressor\n",
            "-----------------------------\n",
            "Model: None\n",
            "-----------------------------\n",
            "Automarke: Mercedes\n",
            "r2_score: 0.3576185561245929\n",
            "MSE: 9103.0193725226\n",
            "\n",
            "Automarke: Bmw\n",
            "r2_score: 0.5465468495346633\n",
            "MSE: 7644.085968776944\n",
            "\n",
            "Automarke: Volkswagen\n",
            "r2_score: 0.6457638988132439\n",
            "MSE: 4636.650817492182\n",
            "\n",
            "Automarke: Hyundai\n",
            "r2_score: 0.05271706917563723\n",
            "MSE: 5912.72315172723\n",
            "\n",
            "Automarke: Ford\n",
            "r2_score: 0.10861909157139271\n",
            "MSE: 4409.445892608989\n",
            "\n",
            "Automarke: Skoda\n",
            "r2_score: 0.49624974250105947\n",
            "MSE: 4636.471810000957\n",
            "\n",
            "Automarke: Audi\n",
            "r2_score: 0.5760077576913625\n",
            "MSE: 7695.308280086039\n",
            "\n",
            "Automarke: Opel\n",
            "r2_score: -1.8204307039837029\n",
            "MSE: 6032.25012487371\n",
            "\n",
            "Automarke: Toyota\n",
            "r2_score: 0.26047133098970543\n",
            "MSE: 5323.523051970149\n",
            "\n",
            "-----------------------------\n",
            "Model: Gridsearch\n",
            "-----------------------------\n",
            "Automarke: Mercedes\n",
            "r2_score: 0.7160345050965278\n",
            "MSE: 6052.318285630492\n",
            "\n",
            "Automarke: Bmw\n",
            "r2_score: 0.8199223823515475\n",
            "MSE: 4817.139454022499\n",
            "\n",
            "Automarke: Volkswagen\n",
            "r2_score: 0.879313384446685\n",
            "MSE: 2706.3722724459262\n",
            "\n",
            "Automarke: Hyundai\n",
            "r2_score: 0.6805495250726192\n",
            "MSE: 3433.598083754999\n",
            "\n",
            "Automarke: Ford\n",
            "r2_score: 0.6786997827518219\n",
            "MSE: 2647.328672288103\n",
            "\n",
            "Automarke: Skoda\n",
            "r2_score: 0.8361498853426809\n",
            "MSE: 2644.255143709666\n",
            "\n",
            "Automarke: Audi\n",
            "r2_score: 0.8157386888127445\n",
            "MSE: 5072.991633568722\n",
            "\n",
            "Automarke: Opel\n",
            "r2_score: -0.02525125742248968\n",
            "MSE: 3636.94538518065\n",
            "\n",
            "Automarke: Toyota\n",
            "r2_score: 0.7222281856653414\n",
            "MSE: 3262.6141798405306\n",
            "\n",
            "-----------------------------\n",
            "Model: RandomSearch\n",
            "-----------------------------\n",
            "Automarke: Mercedes\n",
            "r2_score: 0.7160345050965278\n",
            "MSE: 6052.318285630492\n",
            "\n",
            "Automarke: Bmw\n",
            "r2_score: 0.8199223823515475\n",
            "MSE: 4817.139454022499\n",
            "\n",
            "Automarke: Volkswagen\n",
            "r2_score: 0.879313384446685\n",
            "MSE: 2706.3722724459262\n",
            "\n",
            "Automarke: Hyundai\n",
            "r2_score: 0.6805495250726192\n",
            "MSE: 3433.598083754999\n",
            "\n",
            "Automarke: Ford\n",
            "r2_score: 0.6786997827518219\n",
            "MSE: 2647.328672288103\n",
            "\n",
            "Automarke: Skoda\n",
            "r2_score: 0.8361498853426809\n",
            "MSE: 2644.255143709666\n",
            "\n",
            "Automarke: Audi\n",
            "r2_score: 0.8157386888127445\n",
            "MSE: 5072.991633568722\n",
            "\n",
            "Automarke: Opel\n",
            "r2_score: -0.02525125742248968\n",
            "MSE: 3636.94538518065\n",
            "\n",
            "Automarke: Toyota\n",
            "r2_score: 0.7222281856653414\n",
            "MSE: 3262.6141798405306\n",
            "\n",
            "-----------------------------\n",
            "Model: Bayesian optimization\n",
            "-----------------------------\n",
            "Automarke: Mercedes\n",
            "r2_score: 0.7101215773574951\n",
            "MSE: 6115.006430771943\n",
            "\n",
            "Automarke: Bmw\n",
            "r2_score: 0.8120984944701283\n",
            "MSE: 4920.6727229249045\n",
            "\n",
            "Automarke: Volkswagen\n",
            "r2_score: 0.8837497193730368\n",
            "MSE: 2656.1646106711155\n",
            "\n",
            "Automarke: Hyundai\n",
            "r2_score: 0.6956970555881858\n",
            "MSE: 3351.203231490449\n",
            "\n",
            "Automarke: Ford\n",
            "r2_score: 0.6964351125898756\n",
            "MSE: 2573.2271320884406\n",
            "\n",
            "Automarke: Skoda\n",
            "r2_score: 0.8364189089330747\n",
            "MSE: 2642.083466105339\n",
            "\n",
            "Automarke: Audi\n",
            "r2_score: 0.8089290119970741\n",
            "MSE: 5165.881528753505\n",
            "\n",
            "Automarke: Opel\n",
            "r2_score: -0.0074731920319917045\n",
            "MSE: 3605.274804755427\n",
            "\n",
            "Automarke: Toyota\n",
            "r2_score: 0.7180687308403035\n",
            "MSE: 3286.951188357788\n",
            "\n"
          ]
        }
      ],
      "source": [
        "#Linear Regression\n",
        "print('Linear Regression Scores')\n",
        "prediction = lin_reg_all.predict(X_test)\n",
        "display_scores(y_test, prediction)\n",
        "\n",
        "#Random Forest Regressor\n",
        "models_rfr = {'None': rfr_all, \"Gridsearch\": rfr_gs_all, \"RandomSearch\": rfr_rs_all, \"Bayesian optimization\": rfr_bayes_all}\n",
        "print(\"Random Forest Regressor Scores\")\n",
        "for model in models_rfr:\n",
        "    print(\"-----------------------------\")\n",
        "    print(f\"Model: {model}\")\n",
        "    print(\"-----------------------------\")\n",
        "    if str(model) == \"rfr_all\":\n",
        "        prediction = rfr_all.predict(X_test)\n",
        "        display_scores(y_test, prediction)\n",
        "    else:\n",
        "        for name in companies:\n",
        "            print(f\"Automarke: {name}\")\n",
        "            prediction = models_rfr[model].predict(companies_X_test[name])\n",
        "            display_scores(companies_y_test[name], prediction)\n",
        "\n",
        "#DecisionTreeRegressor\n",
        "models_dtr = {'None': dtr_all, \"Gridsearch\": dtr_gs_all, \"RandomSearch\": dtr_rs_all, \"Bayesian optimization\": dtr_bayes_all}\n",
        "print(\"DecisionTreeRegressor Scores\")\n",
        "for model in models_dtr:\n",
        "    print(\"-----------------------------\")\n",
        "    print(f\"Model: {model}\")\n",
        "    print(\"-----------------------------\")\n",
        "    if str(model) == \"dtr_all\":\n",
        "        prediction = dtr_all.predict(X_test)\n",
        "        display_scores(y_test, prediction)\n",
        "    else:\n",
        "        for name in companies:\n",
        "            print(f\"Automarke: {name}\")\n",
        "            prediction = models_dtr[model].predict(companies_X_test[name])\n",
        "            display_scores(companies_y_test[name], prediction)\n",
        "\n",
        "#Support Vector Regressor\n",
        "models_svr = {'None': svr_all, \"Gridsearch\": svr_gs_all, \"RandomSearch\": svr_rs_all, \"Bayesian optimization\": svr_bayes_all}\n",
        "print(\"Support Vector Regressor Scores\")\n",
        "for model in models_svr:\n",
        "    print(\"-----------------------------\")\n",
        "    print(f\"Model: {model}\")\n",
        "    print(\"-----------------------------\")\n",
        "    if str(model) == \"svr_all\":\n",
        "        prediction = svr_all.predict(X_test)\n",
        "        display_scores(y_test, prediction)\n",
        "    else:\n",
        "        for name in companies:\n",
        "            print(f\"Automarke: {name}\")\n",
        "            prediction = models_svr[model].predict(companies_X_test[name])\n",
        "            display_scores(companies_y_test[name], prediction)\n",
        "\n",
        "#KNN Regressor\n",
        "models_knn = {'None': knn_all, \"Gridsearch\": knn_gs_all, \"RandomSearch\": knn_rs_all, \"Bayesian optimization\": knn_bayes_all}\n",
        "print(\"KNN Regressor\")\n",
        "for model in models_knn:\n",
        "    print(\"-----------------------------\")\n",
        "    print(f\"Model: {model}\")\n",
        "    print(\"-----------------------------\")\n",
        "    if str(model) == \"knn_all\":\n",
        "        prediction = knn_all.predict(X_test)\n",
        "        display_scores(y_test, prediction)\n",
        "    else:\n",
        "        for name in companies:\n",
        "            print(f\"Automarke: {name}\")\n",
        "            prediction = models_knn[model].predict(companies_X_test[name])\n",
        "            display_scores(companies_y_test[name], prediction)"
      ]
    },
    {
      "cell_type": "markdown",
      "metadata": {
        "id": "fJY_U2GCgso5",
        "jp-MarkdownHeadingCollapsed": true
      },
      "source": [
        "# 6. Fazit und Ausblick"
      ]
    },
    {
      "cell_type": "markdown",
      "metadata": {
        "id": "EgxwATEVML_o"
      },
      "source": [
        "Die Gebrauchtwagenanalyse wurde mit verschiedenen Regressionsmodellen durchgeführt, um die Leistungsfähigkeit der Modelle zu bewerten. Die Evaluation erfolgte anhand zweier wichtiger Metriken: dem Bestimmtheitsmaß (r2_score) und dem mittleren quadratischen Fehler (MSE). Je höher der r2_score und je niedriger der MSE, desto besser ist die Leistung des Modells.<br><br>\n",
        "Linear Regression:\n",
        "r2_score: 0.7251<br>\n",
        "MSE: 5182.27<br>\n",
        "Das lineare Regressionsmodell erreicht einen mittelmäßigen r2_score und einen relativ hohen MSE, was darauf hindeutet, dass die Vorhersageleistung verbesserungsfähig ist.\n",
        "<br><br>\n",
        "Random Forest Regressor:<br>\n",
        "Für jede Automarke wurden eigene Modelle erstellt:<br>\n",
        "Mercedes: r2_score: 0.9578, MSE: 2333.89<br>\n",
        "BMW: r2_score: 0.9481, MSE: 2586.46<br>\n",
        "Volkswagen: r2_score: 0.9578, MSE: 1600.22<br>\n",
        "Hyundai: r2_score: 0.9536, MSE: 1308.79<br>\n",
        "Ford: r2_score: 0.8994, MSE: 1481.52<br>\n",
        "Skoda: r2_score: 0.9321, MSE: 1702.02<br>\n",
        "Audi: r2_score: 0.9543, MSE: 2527.08<br>\n",
        "Opel: r2_score: 0.8598, MSE: 1345.03<br>\n",
        "Toyota: r2_score: 0.9782, MSE: 913.09<br>\n",
        "Die Random Forest Modelle liefern im Allgemeinen sehr gute Ergebnisse mit hohen r2_scores und niedrigen MSE-Werten. Sie zeigen eine gute Vorhersageleistung für verschiedene Automarken.<br>\n",
        "<br>\n",
        "DecisionTreeRegressor:<br>\n",
        "Für jede Automarke wurden eigene Modelle erstellt:<br>\n",
        "Mercedes: r2_score: 0.9539, MSE: 2438.82<br>\n",
        "BMW: r2_score: 0.9463, MSE: 2631.74<br>\n",
        "Volkswagen: r2_score: 0.9509, MSE: 1726.23<br>\n",
        "Hyundai: r2_score: 0.9682, MSE: 1083.25<br>\n",
        "Ford: r2_score: 0.8859, MSE: 1577.65<br>\n",
        "Skoda: r2_score: 0.8593, MSE: 2450.37<br>\n",
        "Audi: r2_score: 0.9390, MSE: 2918.90<br>\n",
        "Opel: r2_score: 0.8455, MSE: 1412.06<br>\n",
        "Toyota: r2_score: 0.9728, MSE: 1020.62<br>\n",
        "Die Entscheidungsbaummodelle erreichen gute Ergebnisse, aber im Vergleich zu den Random Forest Modellen sind ihre Vorhersageleistungen leicht schlechter.\n",
        "<br><br>\n",
        "Support Vector Regressor:<br>\n",
        "Für jede Automarke wurden eigene Modelle erstellt:<br>\n",
        "Mercedes: r2_score: -0.4870, MSE: 13849.90<br>\n",
        "BMW: r2_score: -0.2542, MSE: 12712.95<br>\n",
        "Volkswagen: r2_score: 0.2003, MSE: 6966.76<br>\n",
        "Hyundai: r2_score: 0.0010, MSE: 6071.89<br>\n",
        "Ford: r2_score: 0.0671, MSE: 4510.91<br>\n",
        "Skoda: r2_score: 0.2241, MSE: 5754.02<br>\n",
        "Audi: r2_score: -0.2665, MSE: 13299.96<br>\n",
        "Opel: r2_score: -1.1499, MSE: 5266.58<br>\n",
        "Toyota: r2_score: -0.0606, MSE: 6375.26<br>\n",
        "Die Support Vector Regression Modelle zeigen im Allgemeinen eine schwache Leistung mit negativen r2_scores und hohen MSE-Werten. Diese Modelle passen möglicherweise nicht gut zu den Daten.<br>\n",
        "\n",
        "KNN Regressor:<br>\n",
        "Für jede Automarke wurden eigene Modelle erstellt:<br>\n",
        "Mercedes: r2_score: 0.3576, MSE: 9103.02<br>\n",
        "BMW: r2_score: 0.5465, MSE: 7644.09<br>\n",
        "Volkswagen: r2_score: 0.6458, MSE: 4636.65<br>\n",
        "Hyundai: r2_score: 0.0527, MSE: 5912.72<br>\n",
        "Ford: r2_score: 0.1086, MSE: 4409.45<br>\n",
        "Skoda: r2_score: 0.4962, MSE: 4636.47<br>\n",
        "Audi: r2_score: 0.5760, MSE: 7695.31<br>\n",
        "Opel: r2_score: -1.8204, MSE: 6032.25<br>\n",
        "Toyota: r2_score: 0.2605, MSE: 5323.52<br>\n",
        "\n",
        "Die KNN-Modelle zeigen gemischte Ergebnisse mit einigen guten r2_scores, aber auch einigen negativen Werten und relativ hohen MSE-Werten.\n",
        "<br>\n",
        "Fazit:\n",
        "Die Random Forest Modelle liefern im Allgemeinen die besten Vorhersageergebnisse für die meisten Automarken, da sie sowohl hohe r2_scores als auch niedrige MSE-Werte aufweisen. Die Decision Tree Modelle sind etwas schlechter als Random Forest, aber immer noch akzeptabel. Die Leistung der linearen Regression und KNN-Modelle ist vergleichsweise gering, während die Support Vector Regression Modelle die schlechtesten Ergebnisse zeigen.\n",
        "<br>\n",
        "Es ist wichtig zu beachten, dass die Ergebnisse möglicherweise durch die Wahl der Hyperparameter und die Datenvorverarbeitung beeinflusst wurden. Eine weitere Optimierung der Hyperparameter und eine sorgfältige Datenbereinigung könnten zu verbesserten Ergebnissen führen."
      ]
    },
    {
      "cell_type": "markdown",
      "metadata": {
        "jp-MarkdownHeadingCollapsed": true,
        "id": "7fJidWRxML_o"
      },
      "source": [
        "# 7. Quellen"
      ]
    },
    {
      "cell_type": "markdown",
      "metadata": {
        "id": "nrS_wKvoML_o"
      },
      "source": [
        "* [1] Dr. Günter Daniel Rey, Wertebereich von Korrelationen, URL: http://www.methoden-psychologie.de/wertebereich_korrelationen.html\n",
        "* [2] ARTEM SELEZNEV, bmwPricePrediction, URL: https://www.kaggle.com/code/artsel288/bmwpriceprediction\n",
        "* [3] Hr. Giefers, 05_Preise.ipynb -> ML Kurs"
      ]
    },
    {
      "cell_type": "markdown",
      "metadata": {
        "jp-MarkdownHeadingCollapsed": true,
        "id": "P6KhIBL1ML_p"
      },
      "source": [
        "# 8. Eidesstattliche Erklärung"
      ]
    },
    {
      "cell_type": "markdown",
      "metadata": {
        "id": "1KJTDvInML_p"
      },
      "source": [
        "Siehe ZIP Ordner"
      ]
    }
  ],
  "metadata": {
    "colab": {
      "collapsed_sections": [
        "-pUVd8KvKByd",
        "BqOkMigz0pjp",
        "XVI6ZLkc9Ba-"
      ],
      "provenance": [],
      "toc_visible": true
    },
    "kernelspec": {
      "display_name": "Python 3 (ipykernel)",
      "language": "python",
      "name": "python3"
    },
    "language_info": {
      "codemirror_mode": {
        "name": "ipython",
        "version": 3
      },
      "file_extension": ".py",
      "mimetype": "text/x-python",
      "name": "python",
      "nbconvert_exporter": "python",
      "pygments_lexer": "ipython3",
      "version": "3.9.13"
    }
  },
  "nbformat": 4,
  "nbformat_minor": 0
}